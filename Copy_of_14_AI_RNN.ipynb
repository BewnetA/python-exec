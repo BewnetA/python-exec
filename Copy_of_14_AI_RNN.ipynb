{
  "nbformat": 4,
  "nbformat_minor": 0,
  "metadata": {
    "colab": {
      "provenance": []
    },
    "kernelspec": {
      "name": "python3",
      "display_name": "Python 3"
    },
    "language_info": {
      "name": "python"
    }
  },
  "cells": [
    {
      "cell_type": "code",
      "source": [
        "# Install necessary libraries\n",
        "!pip install tensorflow"
      ],
      "metadata": {
        "colab": {
          "base_uri": "https://localhost:8080/"
        },
        "id": "sRJyxXLVlcoC",
        "outputId": "18448730-fe57-4275-bd31-5df9162356da"
      },
      "execution_count": 1,
      "outputs": [
        {
          "output_type": "stream",
          "name": "stdout",
          "text": [
            "Requirement already satisfied: tensorflow in /usr/local/lib/python3.10/dist-packages (2.17.0)\n",
            "Requirement already satisfied: absl-py>=1.0.0 in /usr/local/lib/python3.10/dist-packages (from tensorflow) (1.4.0)\n",
            "Requirement already satisfied: astunparse>=1.6.0 in /usr/local/lib/python3.10/dist-packages (from tensorflow) (1.6.3)\n",
            "Requirement already satisfied: flatbuffers>=24.3.25 in /usr/local/lib/python3.10/dist-packages (from tensorflow) (24.3.25)\n",
            "Requirement already satisfied: gast!=0.5.0,!=0.5.1,!=0.5.2,>=0.2.1 in /usr/local/lib/python3.10/dist-packages (from tensorflow) (0.6.0)\n",
            "Requirement already satisfied: google-pasta>=0.1.1 in /usr/local/lib/python3.10/dist-packages (from tensorflow) (0.2.0)\n",
            "Requirement already satisfied: h5py>=3.10.0 in /usr/local/lib/python3.10/dist-packages (from tensorflow) (3.11.0)\n",
            "Requirement already satisfied: libclang>=13.0.0 in /usr/local/lib/python3.10/dist-packages (from tensorflow) (18.1.1)\n",
            "Requirement already satisfied: ml-dtypes<0.5.0,>=0.3.1 in /usr/local/lib/python3.10/dist-packages (from tensorflow) (0.4.0)\n",
            "Requirement already satisfied: opt-einsum>=2.3.2 in /usr/local/lib/python3.10/dist-packages (from tensorflow) (3.3.0)\n",
            "Requirement already satisfied: packaging in /usr/local/lib/python3.10/dist-packages (from tensorflow) (24.1)\n",
            "Requirement already satisfied: protobuf!=4.21.0,!=4.21.1,!=4.21.2,!=4.21.3,!=4.21.4,!=4.21.5,<5.0.0dev,>=3.20.3 in /usr/local/lib/python3.10/dist-packages (from tensorflow) (3.20.3)\n",
            "Requirement already satisfied: requests<3,>=2.21.0 in /usr/local/lib/python3.10/dist-packages (from tensorflow) (2.32.3)\n",
            "Requirement already satisfied: setuptools in /usr/local/lib/python3.10/dist-packages (from tensorflow) (71.0.4)\n",
            "Requirement already satisfied: six>=1.12.0 in /usr/local/lib/python3.10/dist-packages (from tensorflow) (1.16.0)\n",
            "Requirement already satisfied: termcolor>=1.1.0 in /usr/local/lib/python3.10/dist-packages (from tensorflow) (2.4.0)\n",
            "Requirement already satisfied: typing-extensions>=3.6.6 in /usr/local/lib/python3.10/dist-packages (from tensorflow) (4.12.2)\n",
            "Requirement already satisfied: wrapt>=1.11.0 in /usr/local/lib/python3.10/dist-packages (from tensorflow) (1.16.0)\n",
            "Requirement already satisfied: grpcio<2.0,>=1.24.3 in /usr/local/lib/python3.10/dist-packages (from tensorflow) (1.64.1)\n",
            "Requirement already satisfied: tensorboard<2.18,>=2.17 in /usr/local/lib/python3.10/dist-packages (from tensorflow) (2.17.0)\n",
            "Requirement already satisfied: keras>=3.2.0 in /usr/local/lib/python3.10/dist-packages (from tensorflow) (3.4.1)\n",
            "Requirement already satisfied: tensorflow-io-gcs-filesystem>=0.23.1 in /usr/local/lib/python3.10/dist-packages (from tensorflow) (0.37.1)\n",
            "Requirement already satisfied: numpy<2.0.0,>=1.23.5 in /usr/local/lib/python3.10/dist-packages (from tensorflow) (1.26.4)\n",
            "Requirement already satisfied: wheel<1.0,>=0.23.0 in /usr/local/lib/python3.10/dist-packages (from astunparse>=1.6.0->tensorflow) (0.44.0)\n",
            "Requirement already satisfied: rich in /usr/local/lib/python3.10/dist-packages (from keras>=3.2.0->tensorflow) (13.7.1)\n",
            "Requirement already satisfied: namex in /usr/local/lib/python3.10/dist-packages (from keras>=3.2.0->tensorflow) (0.0.8)\n",
            "Requirement already satisfied: optree in /usr/local/lib/python3.10/dist-packages (from keras>=3.2.0->tensorflow) (0.12.1)\n",
            "Requirement already satisfied: charset-normalizer<4,>=2 in /usr/local/lib/python3.10/dist-packages (from requests<3,>=2.21.0->tensorflow) (3.3.2)\n",
            "Requirement already satisfied: idna<4,>=2.5 in /usr/local/lib/python3.10/dist-packages (from requests<3,>=2.21.0->tensorflow) (3.7)\n",
            "Requirement already satisfied: urllib3<3,>=1.21.1 in /usr/local/lib/python3.10/dist-packages (from requests<3,>=2.21.0->tensorflow) (2.0.7)\n",
            "Requirement already satisfied: certifi>=2017.4.17 in /usr/local/lib/python3.10/dist-packages (from requests<3,>=2.21.0->tensorflow) (2024.7.4)\n",
            "Requirement already satisfied: markdown>=2.6.8 in /usr/local/lib/python3.10/dist-packages (from tensorboard<2.18,>=2.17->tensorflow) (3.6)\n",
            "Requirement already satisfied: tensorboard-data-server<0.8.0,>=0.7.0 in /usr/local/lib/python3.10/dist-packages (from tensorboard<2.18,>=2.17->tensorflow) (0.7.2)\n",
            "Requirement already satisfied: werkzeug>=1.0.1 in /usr/local/lib/python3.10/dist-packages (from tensorboard<2.18,>=2.17->tensorflow) (3.0.3)\n",
            "Requirement already satisfied: MarkupSafe>=2.1.1 in /usr/local/lib/python3.10/dist-packages (from werkzeug>=1.0.1->tensorboard<2.18,>=2.17->tensorflow) (2.1.5)\n",
            "Requirement already satisfied: markdown-it-py>=2.2.0 in /usr/local/lib/python3.10/dist-packages (from rich->keras>=3.2.0->tensorflow) (3.0.0)\n",
            "Requirement already satisfied: pygments<3.0.0,>=2.13.0 in /usr/local/lib/python3.10/dist-packages (from rich->keras>=3.2.0->tensorflow) (2.16.1)\n",
            "Requirement already satisfied: mdurl~=0.1 in /usr/local/lib/python3.10/dist-packages (from markdown-it-py>=2.2.0->rich->keras>=3.2.0->tensorflow) (0.1.2)\n"
          ]
        }
      ]
    },
    {
      "cell_type": "code",
      "source": [],
      "metadata": {
        "id": "jFhKYf7t4vjt"
      },
      "execution_count": null,
      "outputs": []
    },
    {
      "cell_type": "code",
      "source": [
        "import tensorflow as tf\n",
        "from tensorflow.keras.preprocessing.text import Tokenizer\n",
        "from tensorflow.keras.preprocessing.sequence import pad_sequences\n",
        "from tensorflow.keras.utils import to_categorical\n",
        "from tensorflow.keras.models import Sequential\n",
        "from tensorflow.keras.layers import Embedding, LSTM, Dense"
      ],
      "metadata": {
        "id": "reWBeJi-yP_s"
      },
      "execution_count": 2,
      "outputs": []
    },
    {
      "cell_type": "code",
      "source": [
        "# prepare data\n",
        "text = \"hihello\""
      ],
      "metadata": {
        "id": "_StxDm0RyVoK"
      },
      "execution_count": 3,
      "outputs": []
    },
    {
      "cell_type": "code",
      "source": [
        "# tokenize each character\n",
        "tokenizer = Tokenizer(char_level=True)\n",
        "tokenizer.fit_on_texts([text])"
      ],
      "metadata": {
        "id": "CHzGJ6O1yZfc"
      },
      "execution_count": 4,
      "outputs": []
    },
    {
      "cell_type": "code",
      "source": [
        "# Generate an input sequence (take each character as input and predict the next character)\n",
        "sequences = []\n",
        "for i in range(1, len(text)):\n",
        "    sequences.append(text[i-1:i+1])\n",
        "\n",
        "# Separate input and output sequences\n",
        "X = [tokenizer.texts_to_sequences([seq[0]])[0] for seq in sequences]\n",
        "y = [tokenizer.texts_to_sequences([seq[1]])[0] for seq in sequences]"
      ],
      "metadata": {
        "id": "UJYQJSkqyfeJ"
      },
      "execution_count": 5,
      "outputs": []
    },
    {
      "cell_type": "code",
      "source": [
        "X"
      ],
      "metadata": {
        "colab": {
          "base_uri": "https://localhost:8080/"
        },
        "id": "I4hXfz5mv5u0",
        "outputId": "9209468b-7523-4fe8-a598-9ccbffef7fc2"
      },
      "execution_count": 6,
      "outputs": [
        {
          "output_type": "execute_result",
          "data": {
            "text/plain": [
              "[[1], [3], [1], [4], [2], [2]]"
            ]
          },
          "metadata": {},
          "execution_count": 6
        }
      ]
    },
    {
      "cell_type": "code",
      "source": [
        "y"
      ],
      "metadata": {
        "colab": {
          "base_uri": "https://localhost:8080/"
        },
        "id": "Ri5EnR9_v-tG",
        "outputId": "2ecbc2aa-ddf2-4314-e9fd-46b1ed551afc"
      },
      "execution_count": 7,
      "outputs": [
        {
          "output_type": "execute_result",
          "data": {
            "text/plain": [
              "[[3], [1], [4], [2], [2], [5]]"
            ]
          },
          "metadata": {},
          "execution_count": 7
        }
      ]
    },
    {
      "cell_type": "code",
      "source": [
        "# Padding and one-hot encoding\n",
        "max_sequence_len = max(len(seq) for seq in X)\n",
        "X = pad_sequences(X, maxlen=max_sequence_len, padding='pre')\n",
        "y = to_categorical(y, num_classes=len(tokenizer.word_index)+1)"
      ],
      "metadata": {
        "id": "KCQ8Gj3NyjKY"
      },
      "execution_count": 8,
      "outputs": []
    },
    {
      "cell_type": "markdown",
      "source": [
        "## Padding and One-Hot Encoding: A Simple Explanation\n",
        "\n",
        "**1. Padding: Making Text Data Uniform in Length**\n",
        "\n",
        "* **Why is it needed?**\n",
        "    * Computers work with numbers, so text needs to be converted into numerical representations.\n",
        "    * However, sentences and words can vary in length.\n",
        "    * Deep learning models often require inputs to be of a consistent size.\n",
        "    * Padding ensures all sentences or words have the same length.\n",
        "\n",
        "* **How is it done?**\n",
        "    * The longest sentence or word in the dataset is used as the reference length.\n",
        "    * Shorter sentences or words are filled with 'empty spaces' to match the reference length.\n",
        "    * These 'empty spaces' are filled with a special number called a 'padding token' (usually 0).\n",
        "\n",
        "**Example:**\n",
        "\n",
        "* Sentence 1: \"I like apples\"\n",
        "* Sentence 2: \"I\"\n",
        "\n",
        "* Longest sentence length: 3\n",
        "\n",
        "* After padding:\n",
        "    * Sentence 1: \"I like apples\" (no change)\n",
        "    * Sentence 2: \"I 0 0\" (padded with 0s)\n",
        "\n",
        "**2. One-Hot Encoding: Transforming Text into Computer-Understandable Numbers**\n",
        "\n",
        "* **Why is it needed?**\n",
        "    * Computers cannot directly understand text.\n",
        "    * Text needs to be converted into numerical representations.\n",
        "    * Simply assigning numbers like 1, 2, 3... to words can lead to the computer trying to compare their magnitudes (e.g., 3 > 1), which is not desirable.\n",
        "    * One-hot encoding represents each word or character as an independent piece of information, avoiding magnitude comparisons.\n",
        "\n",
        "* **How is it done?**\n",
        "    * A list of all unique words or characters is created (called the 'vocabulary').\n",
        "    * For each word or character, a vector is created where only the corresponding position is marked with a 1, and all other positions are 0.\n",
        "\n",
        "**Example:**\n",
        "\n",
        "* Vocabulary: [\"I\", \"like\", \"apples\"]\n",
        "\n",
        "* After one-hot encoding:\n",
        "    * \"I\": [1, 0, 0]\n",
        "    * \"like\": [0, 1, 0]\n",
        "    * \"apples\": [0, 0, 1]\n",
        "\n",
        "**Key Points:**\n",
        "\n",
        "* **Padding:** A preprocessing step to make text data uniform in length.\n",
        "* **One-Hot Encoding:** A method to convert text data into numerical representations where each word or character is represented independently.\n",
        "\n",
        "**These two are often used together.** It's common to pad text data to a consistent length and then apply one-hot encoding before feeding it into a deep learning model.\n",
        "\n",
        "**Did that make sense?** Feel free to ask if you have any more questions!\n"
      ],
      "metadata": {
        "id": "V1L-4ex81Hcd"
      }
    },
    {
      "cell_type": "code",
      "source": [
        "# Model configuration\n",
        "model = Sequential()\n",
        "model.add(Embedding(input_dim=len(tokenizer.word_index)+1, output_dim=32, input_length=max_sequence_len))\n",
        "model.add(LSTM(32))\n",
        "model.add(Dense(len(tokenizer.word_index)+1, activation='softmax'))"
      ],
      "metadata": {
        "id": "CXA9C8amym8K",
        "colab": {
          "base_uri": "https://localhost:8080/"
        },
        "outputId": "3eafa335-3186-48d7-d020-8f9491e8989a"
      },
      "execution_count": 9,
      "outputs": [
        {
          "output_type": "stream",
          "name": "stderr",
          "text": [
            "/usr/local/lib/python3.10/dist-packages/keras/src/layers/core/embedding.py:90: UserWarning: Argument `input_length` is deprecated. Just remove it.\n",
            "  warnings.warn(\n"
          ]
        }
      ]
    },
    {
      "cell_type": "markdown",
      "source": [
        "LSTM:  \n",
        "- https://colah.github.io/posts/2015-08-Understanding-LSTMs/  \n",
        "- https://blog.mlreview.com/understanding-lstm-and-its-diagrams-37e2f46f1714\n",
        "- https://www.researchgate.net/figure/An-illustration-of-the-proposed-model-that-includes-an-embedding-layer-long-short-term_fig1_337975733"
      ],
      "metadata": {
        "id": "ZjDF6DDE1mSj"
      }
    },
    {
      "cell_type": "markdown",
      "source": [
        "![image.png](data:image/png;base64,iVBORw0KGgoAAAANSUhEUgAAA1IAAAEaCAIAAACU0PF4AAAgAElEQVR4Aey9f1Bad77/33+7f2b6Tzpz/8jttPd2pu0fzd6ZbG+n02Y+VzMxN792afm40miX1Rin3KjL7Id+VrdkQ7lmrdpKlrXGlJoyQ6us1UuXEOOHGsrS4i5cIHwpIah45lw8Ky4riChI+ObwgiP4KxxDI+qLYfTwPu/3+fE67/M+j/N8v1+v92PJzMfv9yuVyvrGBi6Xe+LkqfKKcvyiBdACaAG0AFoALYAWQAvsDgtwOJzHUtR3z2Qy1VRXCwQCjUZjsVrtdpsTP2gBtABaAC2AFkALoAXQArvFAg7HbRr7jEYjj8dTq9WL0WhG+8P/aAG0AFoALYAWQAugBdACu8oCj7ndbh6PNzw8vKtOC08GLYAWQAugBdACaAG0AFog1wKPNYubW1tbl+Px3HT8hRZAC6AF0AJoAbQAWgAtsKss8NiRsqMul2tXnROeDFoALYAWQAugBdACaAG0wBoLPFZTXR0Kza1JxwS0AFoALYAWQAugBdACaIFdZQG6kzeZvLerzglPBi2AFkALoAXQAmgBtABaYI0FAPvWJGMCWgAtgBZAC6AF0AJoAbTA7rIAYt/uup54NmgBtABaAC2AFkALoAU2sABi3waGwWS0AFoALYAWQAugBdACu8sCiH1sr2d6HGQsFluMRiMLkcVodA9+4cRTcX9wYCjbKoT50QJ71AKJRCI1lPze0tJiZCGyZ9tPeGTEYrGsgfVbbkjvwcNoDz6G4JShImEQuvzbFMS+/G21knMxGh0dHe3pudrdfaW7+0pPz9W984Xz7erqUiqVDsftUHg+kUysmAaX0AJoAbTABhZIYV9yMRo1Go3XlL17sP2EJ0VXV5dCobBYrQ89M9a9yEJkzz6M4BHc1dV1Tdnr8XiWlhY3qHeYnGMBxL4cc+Txg3618ng8Vfyfv/Lqa2+8yTvN5e617xtv8k78+CdHyo4KhUKz2ZyH0TALWgAtgBZIgtTn9Y7X1NYeeunlvdZyMud7pOzo4ZLS5qYmt9v9MNUishAxmUz8s+cOl5QyG99TC2+8yTty/PThktL329o8Hg+8VzyMSfdCWcQ+1lc5shDR6/UnTp4619CgvnFT9UedcnBwT31Vf9R93P+H+saGV159Ta1Ws7YgFkALoAX2qAXo12aTyXSk7OhpLndPNZvMyar+qPug5+NzDQ2nudzR0dGHqQgURfX0XH3jTV79OyJm+3tqQX3j5u96P614662a6mqdTpfVaf4wdt3lZRH7WF/gcDg8MjLC4XB+0/bhBBWw+YixO3ct3gmLdwIWdvdfi3fC5iOMju9+0/bh4ZJSlUrF2oJYAC2AFtijFkhj3/FjZecaGiwTU/Q31XjuhfYTHg0OH6n75tvftH34xps8vV7/MKTi9/u7u69U8X/e1q2wTEzZJggw4+5+BmWfnYukbo5Z6t8R3dePr2u1D2PMvXNHIvaxvtbhcFiv17/O5bbIfj8VmneS0/Ypck99XdMzY3fu/rbz8uGS0r6+ftYWxAJoAbTAHrVAGvtOnjp9rqHBRVJ7qv20+Qj7FOmmAjfHLNLOyxVvvaXX6x+mX5Ly+3t6rvLPnvug52MnOe0iKQdBOoi98jxyEn4PNTtqtf/iV80CgQDVvjwbFcS+PA21ki0cDo+Ojr7O5f6287J3ds5BkPCaZZsg9sjXSU5/6/JIEftWKgUuoQXQAvlYIAf77FOkg5jeI80mnKZjgnBNzzDYl+rk3bIPb5Ly+xUKBWCfgyCdhN/m2yuPIdsE4fCRiH353HWr8iD2rTLIg38y2CdNYR99p+0Z4IMzBexDte/BdQVzoAXQAjkW2NPYZ5mYsvoIp5/ulyyI2ufPUvvS2LfHHkZuKoBqX84dlscPxL48jJSbBbCPC2rf3BxiX6558BdaAC2AFtjIAjnY5/DR3ZF757V5LfY9vNrHdPLuRezzEaj2bXSnbZKO2LeJcdZflaP2Ifbh2L71qwmmogXQAmstgNiXo/Y9JPbtdbUPsW/tHZZHCmJfHkbKzcKofXQnL2IfYl9u9cBfaAG0wMYWQOyjsU/3zbfQyYvY91Bar4/ATt6N77UN1yD2bWiajVYwah/t0oHYh9i3UUXBdLQAWmC1BRD7UO0rnNMJqn2r76+8fiP25WWm7Eyo9qFLR3Z9wGW0AFogbwsg9iH2FRL7UO3L+9ZbyYjYt2KLPJcYta9F9nvvLLp0YNy+PCsOZkMLoAUQ+xD7Col96NKxhTYFsY+10VDtQ7WPdaXBAmgBtABtAcQ+xL5CYh+qfVtoVxD7WBuNUftwbB/O0sG69mABtMCetgBiH2JfIbEP1b4tNCeIfayNhmofqn2sKw0WQAugBWgLIPbR2IeevA/lwMuEpEZP3i21Koh9rM2Wo/bh2D705GVdg7AAWmDPWgCxD9U+VPu2+fZH7GN9AVDtQ7WPdaXBAmgBtABtAcQ+xL5CYh+O7dtCu4LYx9poOWofxu1DtY91DcICaIE9awHEPsS+QmIfju3bQlOC2MfaaKj2odrHutJgAbQAWoC2AGIfYl8hsQ/Vvi20K4h9rI3GqH0Ytw89eVnXHiyAFtjTFkDsQ+wrJPah2reF5gSxj7XRUO1DtY91pcECaAG0AG0BxD4a+9CTFz15t7E9QOxjbXxG7cO4faj2sa49WAAtsKctgNiHah+qfdvcBCD2sb4AqPah2se60hRFgXvJJHwf8dGs2ilzGGvTNzqwe4lEYs26e2tSMKH4LYDYh9hXSOzDsX1buOcR+1gbLUftw7h96MnLugZtV4F14Yk5GIbGIAUyM4n0T/hk2HElQy6TpYtkEplsdAdfZmfZiUz6KgrM5M35v3I8WVvLyYE/itsCiH2IfYXEPhzbt4X7HbGPtdFQ7UO1j3WlKYoC95bj8chCZDEazaBb9mHRz+NAIDDp8036fMFgELgqFosFg8FA6hNMfWA5HA4vRqPhcDgYDEYWIsvxOGwL8jOJKfhLQ95iNBoKzYXDYUiEYV6wnUxK9vHAMn1UsN+lpcUM6jHUyHDk2oKYUpwWQOxD7Csk9qHat4X7HLGPtdFy1D6M24dqH+satD0FYrGYxWq9puy9rtWmqA4Ogyan5Xg8EAjo9fqWSy1CobC+sUEul5vN5lBobtLnu6bslUgkra2tstSntbX1/ba261qtxWodHBrs6urq6+t3u91LS4vhcNhsNvf0XO3puToyMgLsCBrhYjRqMBh6eq4ODg2GQnPJ5L3IQsRkMkFOSMmyS5rnlpYWPR6PSqXq7r4y6fMtRqMEQXi945A/IyhmlcPFYrcAYh9iXyGxD9W+LdzxiH2sjYZqH6p9rCtNERQIheZkMtnBFw/y+XyXywXKGZBTMBjU6XQnT51+cv/+J/fvf2LfvgMHnuLxeAaDYXh4+MTJU0/s2weJsPbZZ56uq6uTyWQcDufZZ54+XFLa03M1EAh4PJ7mpqbnnn/h4IsHhUKh2+1mzjsUmpNIJAdfPFheUe52uxOJhN/vv3CRTqlvbJj0+bIEv5Xe3lBo7rpWy+FwDpeUmkwmgiBkMllra6vT6czoiyuZmX3hQhFbALGPxj705EVP3m28SRH7WBufUfswbh968rKuPdtXIBSaE4vFT+zbd/xYmcNxO4V96aFyLpdLIBA8uX8/h8ORy+Xvt7UdfPHgs888feGixGAwqFQqiUTC4XAYHJTJZINDgwqF4oeHfvTYY489sW9fXV0dQRAmk+n4sbLHH//BE/v2VVZVOp3OZDIJPBcMBusbG57Yt++VV18D6CRJElIqqyq93vHIQsTv94fDYYIgHI7bkz4f9EebzWaJRCISiSxWa19f/6GXXn7l1dcGBgayBD/s6t2+WsV6z4h9qPah2sf6tilsAcQ+1vZEtQ/VPtaVpggKhEJzUqn0yf37T5w8BdgHQJZIJCxWK1CdSCTyeDwURb3f1lZZVSmTybze8eV4fGlpUalUPvvM06+8+tp1rTaRSCxGoyM3hw+99PLjj//g8cd/ANscHBp85dXXHn/8B0/u319TXZ3Cu/SZ3x/tJxQKn9y/v7SkBFRAiqJEItGT+/cDMjqdTrlcrlQqZTKZUCiUSCR6vT4UmnO73QqFQiaT6fV6wMQn9+8XiURutzsl+KHaVwR1i8UhIPYh9hUS+3BsH4ubL5MVsS9jibz/M2ofxu1DtS/vWrP9GRns43A4WdhHHxhBEFKp9Nlnnj5w4Knjx8okEsk1Za/JZAoGg7FYDLqD+/r6n33m6dKSkuHh4WQyuRiNDg/T2Af9wodeermvr18ikfzw0I9AFOTz+aD2pc78HoN9R8qOAvb5/X6RSHTgwFPQydvTc/XJ/fufe/6FV1597bnnX3hi377XuVyL1To8PHzy1OlDL718n0F5PB5Q5slTp0dHRzO+KdtvWzyCvC2A2IfYV0jsw7F9ed96KxkR+1ZskecSqn2o9uVZVYoqWyg013Kp5cn9+0+eOu1w3M6OxhKLxSZ9vvuOGodeevnAgaee3L//2Wee5nK5IzeHwfkjkUioVCrAvutaLWDfda324IsHD7548NBLLx988aBAIDh56vQrr7528MWDzz3/wibY5/F4ksl7gH1P7t9f39jg9Y7fdxeBLmCFQtHTc/XZZ54++OLBgYEBUBCffebpvr5+mUz27DNPP/f8CwqFIhAIwMDEojIyHsyDLIDYh9hXSOxDte9Bd9w66xH71jHK5kk5ah/G7UNP3s2rS9GszVb7UjpcOgzKciIRWYgEAgGH4zYM4+NyuQB/NdXVZrM5kUgsx+OAfYdLSgH7lpYWNRoNiHM8Hg/477nnXzhx8hSHw3nu+RcqqypTmiKc/71AIACdvMePlXm94wz2HTjwlEAgmPT5APvq6uqcTqfFagXNT6lUDgwMHC4pffaZp0dGRgaHBg++eBDcO5D5iqZmsToQxD7EvkJiH6p9rG4/yIzYx9poqPah2se60hRBgWAwKJVKDxx4isPhZHxs6YFxMLZPIpFIpVK32x1ZiEz6fPWNDdDlqlKpFqNRBvtKS0oYtQ+w7/ixsuampuPHyp7Ytw8G6tU3Nhx88SDj0gF9xKHQXHNTE+h5TCcv+JEIhUKCINrb2w8ceKq5qcnj8Vis1tKSkueef0GpVILa99zzLwwPDw8MDDz3/AtZLilMqOcisC8eQl4WQOyjsQ89edGTN6/b5fvJhNjH2q45ah/G7UO1j3UN2p4CwWAQPHmfe/4FGL3X03P1mrJXr9cPDw9zuVzww1CpVGq1Gjw8APJiqc81Ze+T+/cfeunlwaHBZDK5tLSoVqsPHHiqtKRELpeDs8WBA0+1traKxeJnn3maw+HY7bbUqdKetovRqEKhePaZp5/Yt08kEvX19b/f1vbc8y8cOPBUR2e73++XSqVP7NtX39jgcrnMZvMPD/3o2WeevqbsBe/dAwee0mg0arUaXIzlcvmkz5cK4Lw9xsS9btUCiH2o9qHat9W7p0DlEPtYGxLVPlT7WFeaIijAqH1P7NsHI+eYAHsWq1Umkz33/AtP7t9/8MWDPzz0oyf37z9w4CmxWAzj8Bi175VXX9NoNIB9g0OD0KurUqmg+CuvvsYsv87lZrCPPvnleNxut/F4PHAB+eGhH4HfBofD0ev1gUAAlEiI9mc2m0tLSg6+eBAYFJQ/nU43MjJypOzoE/v2nTh56rpWm4rhUgSWxUNgYQHEPsS+QmIfju1jcfNlsiL2ZSyR939G7cO4fejJm3et2f6MdMiVkRGJRFJTW1tZVcnn83k8Xk11tUwm8/v9FEWpVCo+n3+k7OjxY2U11dUKhYIgCIiKvByPW6xWiUQik8kYL2CH47ZEIunq6nI4btvtNqlUKpfLPR6P0WiUSqXXlL0kSaZOO92VvBiNms3m99vayivKj5QdPXHyVHNTk8lkCoXmIgsRnU7X3NQ0ODTo9/u93vGOzvaWSy0Wq9Vut8lkMrFY7Ha7/X6/UqksrygXCASjo6PhcHj7zYpHwM4CiH2IfYXEPhzbx+7+S+VG7GNtNFT7UO1jXWmKoEAikQgGg5M+n9c77s76EAQBUVrC4bDb7bZYrWaz2ePxZKblTQfGC4fDkz4fSZIp2KL7bSMLEYIgKIpajEZh2rT7zrlLS4uh0BykLy0tgjsIExo6FotRFOVyuYDnCIKAjlrm2CBkzGI0SpIkQRAQsRmWYYghuJ64XK5gMJiZqKMIjIuHkK8FEPsQ+wqJfaj25XvnZeVD7MsyRn6LjNqHcftQ7cuvyhR/LmC7VdNdMD/T5Jd1Guvmz1q/sgj+wsxvZptMCrhlrEpnfq4qnl0qPf9HThL+KHYLIPYh9hUS+1Dt28Idj9jH2mio9qHax7rSFGOBNFrRglwiAf62jCyXWWCOe4XDICcUyQr+R+eEaT9SZSA/DW1rIq0AyTEoySww+1oFgqvyM967+aNn9pZxeXstgNhHYx968qIn7zbeh4h9rI2fo/Zh3D705GVdg4qtAIN0WziwdaHtgdthu0e2+R94AJhhuyyA2IdqH6p923X3pfeL2Mf6AqDah2of60qDBdACaAHaAoh9iH2FxD4c27eFdgWxj7XRctQ+jNuHah/rGoQF0AJ71gKIfYh9hcQ+HNu3haYEsY+10VDtQ7Vv40qT3em5btdkdoaNN5Newyrz5ltb92A2KrJ55s3XbrTNgqSz2jWrzAU5vFWjEgu1zd20HcQ+xL5CYh+qfVtoHRD7WBuNUfswbt/e9uQFJlvFFtn+B0yGnIUsvwem7q2Ld3RiJvPaDGtTGOZYfUgZ/wwosu5a5kiyN8LkZ4qsTWEKMquyU9ZujVnLrMpOWTeR2TKzsKrIuj+ZzMxCdjZIzE7Zwq7X3/IaF5ZVe9njPxH7EPsKiX2o9m2hQUHsY200VPtQ7WNZaRhsYsqtSwzMWlhYW2pVhnx+3mO8dIEgMxyZV9lNMzGHty5CMRTFZIOUTTe5/srsLUCOVXtca8x1i6y/9Q1S6W1m3JCzt5a9vEFRTN7MAoh9NPahJy968m52l3zP6xD7WBuYUfswbt8eVvtWsCBX3UmzwhpiWJUf6GHDRNDnsjZC52S+kJ5Zu1KBMymQE9LX7mJlOxuRTe72N8rPABBNlswnc5A05K1JXCmSu4o5hVVFVk5hzdbSqyAc9HI8ngrdvMmhrrMqQ8D0qjXHQ6esSWeOPw21uaVytpPZOHNquJC+ZLFYzGQynTx1+lxDg8NH2qfIwhDAROE0pO9tU5aJKasP1b7CXSkfgWrfFloWxD7WRkO1b/eqfSs0lqoWaVYIheYmfT6YNAJmp7BYrYNDg319/X19/SMjI4FAIJlMLkajLpfrulbb19evUql0Oh1JkrFYbDke93rHh4eHIf26Vuv1jicSiVgsRpLkyMgIbGdgYMDrHQdxjiRJvV6vVqv7+voHhwadTmc4HE4kEhRFGQwGSB8YGDCbzcFgMJFIhEJzdrsN0tVqtdlsjixEksl7y/G4w3EbDlWtVptMJoqiEolEZCHidDo1Go1KpaJP4eYwQRCJRGIxGvV6x69rtbCp61qtx+OByTBIkoRT6+vrh1NYjEaTyXt+v1+v18N2BocGHY7bMDlHMBgcHR2FUxscGrRYrakpdO9FFiJGo1GtVsN8u0x6OBy2WK3MKZhMppRV6VNwOp2Q3tfXPzo66vf74dRcLhecglqt1mg0cAqxWGzS57uu1cIhDQ8P01aNx5PJJEVRGo0GroJGo3E4bsMpMFZVqVQDAwNMejAYNBgMcAp9ff0WqxWmgwuHw8wpDAwMGAwGmB0YToGxKsw1DL6rBEGYTCaz2ex0OkmShP2uaXqysXLNyl2SgGofYl8hsQ/H9m2hYUDsY220HLUP4/btHk/etMCT0qtoOScWiwUCAYvVqlQqpVJpT89Vr3c8mUySJCmTyU6eOn24pLS0pEQgELhcrmQyGQ6HlUolj8c7Unb0lVdfq6mtNZlM4XB4MRrVaDQ1tbVHyo4eLinl8/k6nW45HgcAEggEpSUlR8qOcjgcjUYD8pXZbK5vbDhSdrS0pITD4cD0uIlEwm63icXi48fKXnn1NQ6H097eDgQ56fPJ5fIjZUfhe3/iXb/fDxjX03OVw+HALu6XtVity/E4RVHXlL3lFeWvvPoanILBYFiOx4PBoE6ng1MoLSmpqa7WaDQpgkyazebKqkrmFK5rtcA69xFTKBSCKcoryhUKRSg0txyPezwekUjEnEJHZzsckt/vZ07h+LGyjs52wDW/3y+TySD/8WNlEonE6XQCZF9T9h4/VganUN/YYDabE4nE0tKiSqXi8XhwCpVVlaOjo2DVkZvDTHpNbe11rRYwy2K18ni80pKSwyWlXC73mrIXJqCzWK1wqIdLSk+cPNXTczWVnvR6x5ubmuDUSktKZDIZQRDJ5D2KophTgJmFJ30+qBhdXV2MVYVCodvthoqh0WhgEmSBQAAVCeTApaXFzBRze4H50rcVqn03xyzSzssVb701OjqaaXBYP4mSyaTf7+/puco/e+6Dno8dBOkk/HtHOqXPFNW+rdSaJGIfa7Oh2rdL1T76ubscj8MMs8lkMhgMDg4N1jc2VFZV1lRXy2QywD4QdUBCGxgY0Ov1QAnL8TiofSBNjdwc9vv9jNo3cnN4YGBArVaD/gR45/f7QRIDvSq1fZo+Qe2D/CChgVRGUZTRaBwYGAAV0GK1MmqfxWrt6+tXpz4bqX1Go5FR+xhhUq1Wj4yMkCS5Su1Tq9U6nc7j8cCMvSRJ6nQ6kL7uo6HXO85IZdmn4HQ6s9U+MIVGowGpLJFIgFQGpzAwMABqH6RbrFYm3Ww2g9q3tLTocNyGdLVavVbtg0O6rtUCPi7H46D2QTpYOxaLJRIJv9/PCJnrqn19ff2r1D6j0QhWzVL77i1GoyaTaWBgANRBo9EIKmBkIWKxWkFQBGESKsZiNGq32+RyuUgkqqyqlEqlDsdtqGlOp9NitRIEAazMujHaeQVQ7UO1D9W+bb5vEftYX4ActQ/j9u0WtQ+6Sp1Op8FgSIk090KhuZGbw11dXUqlUqfTORy3gb1SNYbufFyOx4HqMu/r6U5hWJVRcXJGuQHtwZgwqHmQAttJKUB0MjNYjcnP7AJSmF0sx+OwNTgYWJvJvDIEjcnGDFmDftL1hq/Rp8bsJbWptA6amw4bXzla5pjBPsxRQXrmlGkTMQeflQjGoHe06pSZPLCQNWZu9aZgvzBHXO5G0tcFds2sylibXgsbzzoF+h2A2TVzCmANWEUnpnrqM4eULsLUCiYdNEiSJJ1O5+joqNlspigqmUyGQnMKhYLP5zc3NV1T9k76fJlDWrEt2GUX/UXsQ+wrJPbh2L4tNA6IfayNhmrfLlL70o/8WCzm9Y4rFAoejycQCKC7EEAwI8Mw6MC6wmABtECGF3Nq0dLSotFobG1t5fF4HA6nu/sKDBJNmSsn5y4yIGIfjX3oyVuYzmgfgWP7ttA4IPaxNhqj9mHcvp3vyUvLPNAtCMzH5XJlMlnGjyEtAmUpXqxrCxZAC2RZgK5RGQSkJb3FaJSiqOtabWtrq0qlYrrgoWM9S/zL2sbOXkTsQ7UP1b5tvocR+1hfAFT7dpHaRz96IaKEOPUB39hU/2xaCIQewKxHNesKgwXQAlkWYGQ8WKBrYGQhEgrNga68GI0yA/5StS6r6G5YROxD7Csk9qHat4VWAbGPtdEYtQ/j9u1otQ8cdYPB4NLSYiAQcLlcXu94SmXZxSOrWNd2LPBoLUCPKB0cGqysqhSLxVkV8tEexfe4N8Q+xL5CYh+O7dvCzYrYx9poqPbtfLWP7lwzGAwSieS6VgtumJl6sEfiaGROF/8XmQUWo1GH43azuJnD4YhEIrPZnPKY3jWvIoh9iH2FxD5U+7bQgCH2sTZajtqHcft2oCfvYjRqNBrr6upOnDylVCohsjF05ma537KuGFgALfCQFsiM/EsSBHE/YBCPx1Or1ZnXkt3xQoLYh9hXSOxDtW8LbQ5iH2ujodq3M9W+9FMzFouZzWaRSMThcPr6+kmSzB1BtTserqxrdWbwIjPgbNUWmBFpq9Lx59YsAL4dG5aFkNowq0dG7YPMG12gDTdVZCsQ+2jsQ09e9OTdxhsTsY+18XPUPozbt2PUvvSDNrIQ0Wg0LZda+vr6IdZxLvatrQ87/UG79owwZdstkBdGx2IxCB4OcwOmZL8H8OK2n9iDDgCxD9U+VPsedJd8z+sR+1gbGNW+naj2Md1nEK7F6x2H2MvYq8v6BsACD20BpjZuvKUV1TkQCPT0XG1vb4dZ6XZ4VBfEPsS+QmIfju3buA3ZcA1i34am2WgFo/Zh3L4d5cl7LxgMTvp8ECYj89xl4qitc7UTiURkIeL3+4m99yFJkqKovXnu3/fVnvT5Jn0+kiQzg0rXqXtMnztUwsGhQT6fX9/YQBDEDn9RQexD7Csk9uHYvnWbj80TEfs2t886a1Ht21FqH92blkgkAoGASqWSyWSpidfWuay5SfQEYgRBXFP2Njc1icXiCxclFy5KmAWJhP554aJk1yzQZ5L6wEmJxeJmcTOcb2YN/X+XnfW2nI5EImkWNzc3NSkUCoIgcive2l+07BcMBru6uk6eOs1MDL023w5JQexD7Csk9qHat4UbH7GPtdEYtQ/j9u0QtY8Oh6vX67lcrlAodDqd+VzypaXF0dHR48fKDr54kMPh8Hi88opy+MIyk5L9M3u5vKI8+2f2cpGsyj6k7OXyivJXXn3tuedfOPjiwZOnTvNSn3WPed1E2BSuyjYpY5PyivLKqsqTp04feunlI2VHR0dHH1Qbobf3ntc7LpVK6+rqzGbzg4oU83rEPsS+QmIfqn1buNsR+1gbDdW+naX2LcfjdrtNKBRyuVyj0ZgJh7HJdacFwnA4rNFoXudyxWKx3W5zZX2cqY/L5XI6nfB3k4WNMrBNZ3bBtiCTHw77gX9dLpfDcVsul1dWVQqFQr1en70FZiV23PwAACAASURBVBkWVv1kDpJZ2CgD2/RdsMHsUzCbzXK5nMPhXNdqN6mI2atisdikz2c2m7Pm7c1ev1OWEfto7ENPXvTk3cY7FrGPtfFz1D6M21fsnrw0wA0ODQqFQrlcnnLjyOeKp7GvsqrymrI3M3VHPgV3Q55EIjE8PNzc1CSTyfx+/244pSI7h8hCZGRkpLKqUqPR5H1oadkPZpHesY4diH2o9qHal/dN//1kROxjbVdU+3aO2kfrdovRqNlsHrk5POnz5T8cHuK8VFZV9vRczQ2cxrrC7LgCsVhMo9EIhcLW1tZJn2/HHX/xH3AwGLyu1VZWVeav9sFJwShVp9MZCAQybknFf7rZR4jYh9hXSOzDsX3Zd1eey4h9eRpqJVuO2odx+4pd7aNntVpaWlyMRlPMtxIXY+WKrre0x7HvulYrEolaW1vz8DlYz3yYtqkFQqG5kZGRmurq4eHhTTOuWkl7GjmdTrFY3NfXn7d0vWoj2/sTsQ+xr5DYh2P7tnA/I/axNhqqfTtH7UvGYrHciC35Xm7EPpFI1N7ejtiXb41hke9eKDSn1+trqquva7X5i3aQ0+128/l8oVDocrnyV69ZHN33mxWxD7GvkNiHat8W7lfEPtZGY9Q+jNtXxJ68tKq3GI1arFa5XO71jrO9zHsW+5bjcZIkFQpFXV2dSCQyGo2bhpdja1fMfy8QCJhMpvb29iNlR9vb291udzAYzAPg0jEmA4FAe3s7h8Pp7r6SujQ7y6SIfYh9hcQ+VPu2cP8j9rE2Gqp9Ra/2pWe+cjhut7e3V1ZVOhy32V7mPYt9gUBALBYfeunlAweeOnDgKQ6Hkwoykm/nOFs7773894xGY2VV5XPPv/DEvn3PPf+CQCBwOG7nNwKBrtixWMxitdY3NrS2tu7Afl7EPhr70JMXPXm3selD7GNtfEbtw7h9xar2pXWRgYGByqpKkUi0Bb+EPYt9JEny+fzHH//BY6nPc8+/kHI7QOxj3VBsVMBoNB4pOwrmffzxH5w8ddrpdOaHfelNgkfI8PAwqn2FoYeJwulPm27KMjFl9aHaVzhr+whU+zZqZzZJR+zbxDjrr0K1b0eofYlEAkKjDQ4NbkEU2bPYFwrNKRSKZ595+rHHHnti3z4ej+dyuda/EzB1SxYIheakUukT+/Y99thj9zU/mUwWDAZZbonWzIAU4e/OieeCah9iXyGxD8f2sWw66OyIfayNlqP2Ydy+IvXkpX0eNRqNTCab9Pm28FDcs9i3HI+7XK5XXn3tsccee/aZp2Uy2RagmfVNtYcK0B21Go3m4IsHH3/8B1wu12QypSIEsdNTE4nEYjQaDofz9wgpDhsj9iH2FRL7UO3bwn2N2MfaaKj2Fb3aRwdtSSQSJEl6veNLS4usr3EyuWexL5lMhkJzNdXVjz/+g0MvvZyKMMKOSLZg7T1TJG1Ju91WWVX5xL59YrE4E4GPhQ0SiUQoNGe32/R6fR6zzrDY8vefFbEPsa+Q2Idq3xbuWcQ+1kbLUfswbl8xqn3psX0Af8kkeHiwu9B7A/uAQrKpjjbd0tJiT8/V48fK6urqXC5Xrp6UnZmdSfdq7myL0eaFkMvXlL2vvPqaSqVajseX4/FcI9PvLZuYK5FIhMNhlUolEAg8Hs/mmTfZznasQuxD7Csk9qHat4W7GLGPtdFQ7St6tY/u4SVJ0uPxbEFKgQqxW7BvM3rIVP10nlgs5vf73W736OioVCrlcrkNNW+pVCqL1UoQBHb1ZszF6v/KK8dyPE5RlN1uGxkZUSqVYrH4SNlRsVg8ODSo1+stVqvf72dGI6yhwFU7pfGxr6//xMlTer1+Rzl2IPbR2IeevIXxxfERqPatahry+YnYl4+VcvIwah/G7StaT97FaFSj0fT0XDWbzVubWm0vYB8oT8vxeCAQ8HrHjUajUqns6GwXiUSvc7lHyo6eOHlKIBC0XGrp7r5yXat1uVx+vz/Vqwh6as59gT/WswD9BhIMBid9PrPZrFKpWi61CASC8qozJ378E9rCP/4Jj8erb2yQSqXZhJ1x7N2I2ul0nU7H4XDUanUgENg5gh9iH6p9qPat11Q8wjTEPtbGRrWv6NU+emQePF81Gg1gCtvn4jZhH4hDGz3sH1hXmeLZCxuWArcAj8fT0dnO5/MPl5SWlpS8zuWea/zlhYsS8W9bxb9t/cWvmn/6s+rjx8oOl5RyOJzmpqaRkRGY+GTD7W7/iuzTZ5Y3PywmW/bCukWyMzDL6+ZMLi0tUhTV19dfU119pOzokbKjEFGo5VKLvLdH9enljs72lkstQqGwvOpMaUnJkbKjdXV1g0ODgUAgRX7rbxYqs8lkEggEarXa7/dvlK/40hH7EPsKiX2o9m3hHkfsY200Ru3DuH3FqvbR2Nfc1FRXV6fX63eO2kczRKZ37wE8sV6tpYUlZguZ7ayXkU6jMxMEoVarafGpovynP6v+xa+aW2S//0j5ed+w4eaYZdRqH7Xadd98qxwc/KDn419feu/s+bdPc7lV/J/LZDKn05nxP4VD3WhH25KeNiMYYTmlasIprzeKDo5wdZEUWq17ajk5U4WzMZ1eC59QeH50dLS5qemNN3nlFeX1jQ0dne2fqZU3vvly7I5x7I7ROWODhRvffPmZmtZZz55/u7yinMfjvd/WljU/SnqPWaak9+j3+/V6vdvt3lFeHYh9iH2FxD4c25fVLOS7iNiXr6WYfKj27RS1TywW2+22WCzGXLv8Fx692geMsrS0GEx9tuSATGPKBi4COaceDodNpm+bxc0nfvyT01zub9o+VN+4afMRU6F5+Hpn56ZC897ZOViYCs27SGrUav9d76dnz7995Pjpurq6vr7+Yu1eTENzhn1pm1AUZbFaTSaTy+VaTwCmiyQSCcZ6mbI5dsv9kTZ1rpCcvgQEQXymVpZXnTl+rKz+HdFnaqVzxkbMe2eXpol576rv7NI0pI/dMX6mVtY3Nhw/Vsbj8bIsnE2WcBTZKdnLucdYdL8Q+xD7Col9qPZt4RZH7GNttBy1D+P2FaMnLz0br0Kh6Om56vWOb9pZtuHVf/TYB9jh9/s1Gs11rZaiqA0PbuMVy/G41zsOCtBGJ74YjV7Xassryg+XlJ5raLg5ZgHUc03POAjS5ks3ypaJKXrYtY+wT5H2KdJBTHtn53wL9xwTxAc9H0OPsEwmIwhi48PZrjWMPEbz0NLSosNxW6FQiEQioVB44aLkula7xteHLhJZiDidTo/HE1mIpLBvs+NnTJ3rUUFvhyCI1tbWI2VHyyvKNbe+YGjPPWNzztjcmW/2snvGNhF0Q867s055b08F5+ThklKFQpHqw10H7Jbj8cVodGlp8YGHutlpPOp1iH2IfYXEPlT7tnAHI/axNhqqfTtC7evuviKXyz0ez0b0s/mF3w7sS0Ko5JZLLa2trYBuFEURBEGSJAhU4XCYoqhJn8/v90cWIsvxeGQhAp2tsVgsHA77/f5ryl6ZTOb1jq/bux2LxYxGI4zkk3ZeNjq+c03PuKkAMJ/VR1gmptLAl5lmyuojrD7C4SOdhN9NBTzUrMU78XH/H6r4Pz9cUtrdfSWl+W1uzke8Nq32gfbp9Y5LpdK6ujqpVCqXy0UiUX1jg06nCwQCYEPgp3A47Ha7Ozrbu7q6vN7xcDgcCATA+ECBYGomTvKkz9fdfUUmk7lcruVEInWGNPNRFNXV1XWk7Cifz9fc+uLurJOY904E3XdnnQz2AfCtwr67s867s06AP+eMTXPri/KqMxwOR6FQrDuNRyAQMJvNTqdz3bWP2OJ57w6xj8Y+9ORFT968b5nCZ0TsY23THLUP4/YVpdoXDocvXJQ0i5vtdtvOwj6n0ylOfcxms06ne7+tTSKRtLa2jo6O+v1+nU7X3t5+4aJEJpON3Bz2escNBoPDcTuyEJn0+XQ63cjNYT6ff+LkqeHh4TU0cG9padFitQoEghM//skHPR/bp0jv3JzTTwHtrWqIV8Ffeq2PcBCkh5r1zs5pbxn5Z8+d+PFPFApFSvFaR5FifXcVpkBa7UskEn6/v6+vn8fjtVxq8XrHSZI0GAz1jQ0ikUij0YyMjEBsGo/HMzIyolKpTp46zePx1Gr1da1WJpOJxWKZTDY6Ojrp8+n1euggdrlcer1erVbzeLzjx8oGBgZoLkzSI/qCwWBfX//xY2Vnz79945svoTMX5L1cyHNAouuv9mzxz5mRA6EgTX4V5cePlQ0PD6cC6KzgbDKZtNttzU1N3d1XvN7xwpjtUWwFsQ/VPlT7HsWdtsk+EPs2Mc76q1DtK361LxwOg6hjsVp3yti+ZJJW+5xOZ2vqMzw8LBQKT546/X5bm0AgkEgkarW6uanp5KnTEGNFJBJ1d19pbmoaGBigKGpkZARQpr6xgcfjGQyG3JH+NAl5vePNTU2HS0o/6PnYRVLe2TlQ8qyZjt1V5Lf2p32KpJU/gnRTAe/s3KjV/sabvNNc7ujoaG5f5/r3zqNKXcEjp9MpkUiEQqFer4e9h0JzPT1X6+rqmpuampuaTCaT3++/rtVKJJLu7it8Pr++seGaslcoFFZWVQJzNzc19fRcFYlE0Dus0WgkEpq86xsbKqsqr2u1kRiNvMvxuNFoLK8oL686Y7B8Rcx7QeFjRD4G9Vx/ta/6MvDHLECH72dq5Wkut7KqMmu6lDRem0wmPp8vlUp31KTJiH2IfYXEPhzbt4VGFbGPtdEYtQ/j9hWzJy8M5NqJ2Pd+W1vLpZbBoUGhUCgQCCxWq0wma25qAvFJJBI5HLcHBgaam5pqamtramsHhwaDweDw8HB9Y4Ner3+/re3CRcnaTt7FaBTUrHONvzQ6vgPms0xMrSv1rQU+OsVHfyG/1Ue4pme8s3O/6/30NJd7nzWLSXNaUftAEmtuajIajeB7EVmIqFSquro6oVBY39hgNBpJkhwcGmxualKpVGKxGIIUCoXClkstFqt1dHS0vrGhvrGBz+df12qDwaBGowEQlMlkFy5KmE7eSZ9PLBafOHlK3tsDHbsM57lnbKs4b92fDPPBAjHvtU9Z5b09h156uVncnHGgAahNmkymyqpKqVTqdDpZt2LbVgCxD7GvkNiHY/u2cCsj9rE2Gqp9xa/2LUaj15S9CoUi49LBuv9xu8b2OZ3OlkstEolkcGhQIpG839YWCAQAR9rb22HkWSAQMBgMEomksqqSz+cPDAwEAgGNRiMQCEwmk1wub21tJUky5QvMnPg9r3ccunfVN266qYCTnF6/GzczpG998sustUxM2afo3l6Ld0L47oVXXn1No9GsO5qQ9Q1WyAL0WctksprqaqVSCUP0wN+ivrGh5VJLfWPD6Oio1zuuUqlEItHAwIBUKr2m7NXr9c3iZqVSSVGUy+USCoV1dXWVVZUajSYQCPT19Tc3NV1T9nZ1dUHfcSJJuwDrdLrSkpL6xoaxO0ZG6luLd6sQEH4yimBuXzDt/GufspZXnSmvOqPT6bJHLGAn7+ZVtAjXwluW00/dHLNIOy9XvPXW6Ohoric4u9rv9/t7eq7yz577oOdjB0GPvi3Cs/4eDwln6WBXX9K5EftYm41R+zBuX9GqfTDKKhgMph6TTJcfi2u9XdjncNyWSCRisXhgYEAsFrdcaqEoSqlUMmofw3YikUgikQgEgo7O9pGbw++3tVVWVZrNZplMJhQKLVZrJkwJHaVvMRodHBp8ncsVvnvB4p1w+inadcM7sX6LnFL1QNtL/83Q3qr8lokp7+yccnDwxI9/0ixuTs0Py8LIjyBrZCFiNBp5PF5dXZ3RaPR4PEqlks/n9/Rcva7V1jc2KBQK6OGFOMnQq9vX1y8UCiE29eDQYH1jw/ttbTXV1XK53GAwiMVigUCgVCrB1GazeTmRCAQCra2tpSUlqk8vg9SXAjiHe8axivzcMw7w3oC/qxQ+wD4Y8wcxX4h5r+rTy2+8yWsWN2diJdKWY1w6dtS8eaj2odqHat8jaPk22wVi32bWWXcdqn3Fr/ZlxdoFuYsRvda9pOskbgv2wfA7CD0zOjra3X0FvDiva7Xd3VeUSqVIJDpSdlQoFIpEIrlcbrfbVCqVMPURCARisdjrHb/vYSAUCvv6+lMhYNKnHwgExGLxT39W/XH/H1zTMyD1rav2gcdu2r2XpJzktNNP0UUIvy3l55smv8xwQA81e3PM8otfNZdXlKeki3WMuY1JiRSQgT4HoCwUCmUymdvtnvT55HI5dOAKBILW1laz2XxN2SuVStvb2+vq6jgcjkAguHBRolAo7HYbDO+Dnvf7hGcymfr6+gUCQV9f/2I0arfbzp5/++z5t2FUH0Nv2cwHwLcqaB8wYnancDYIgiPw2B1j/TuimtpagiAYwQ98t8EZeRstzHLXiH009qEn76oXyC3+RLWP5e0H2RH7WJstR+3DuH3F6MlLx9ENBAIURYE6soXAZtuBffSItFBozusd93g8fr/f7XbDED2SJN1uNzhtVFZVdndf0el0Xu94IpEgSVKn0/X19Ws0GrvdBi69o6OjZrM5GAxmYg7fm/T5qvg//8Wvmu87YbimZ+xTZDbzOSYIp89nm6AfSDTh+XwW7wR0SKWjtxDTtgmClgl9PoA/h4+EltpJTjt85EfKz0+eOq1Wq7PkVdZ3VuEKMPpumnrD4bDFalWpVEqlUqPRwDDEpaVFt9s9MDDQ19d/f35biIQCcxNfU/bW1NbW1dXJZDKdTkcQxNLSIkEQGo1GpVJd12ohM0EQIyMjFqt1aWlxcGiwgnOyo7MdJLq12OeecUwE3RNBt3lMD9OyfdDz8Wdq5WdqperTy6pPL2tufWGfskJB9wwtEwL/Afl1dLYDWDPaXiKRiKU+W6jehTM12y0h9qHah2of27umwPkR+1gbFNW+4lf7lpYWNRrN4NBgRh3ZEWpfeqh+pkYyx0wvgJOvXC6/puxNRWZJA01G10wXykw+Bj/Bs4EuazabyyvKf9P2Ie2KQVJMTGZAN2A7p59y+inzmF7+YQftB/2OSPzb1rZuxW87L/+m7cO2boX2L16nn6JDOk/QYfygrH2K9uod+urrN97kyeVyiqK2nUIAdhnkXdeeySQdcGXNsCr6hSGZTDoct6VSaWaSDLqXfE3OnMREMiHv7Tl+rExz6wt3ajaO7AF8KZKjO3bdMzbDDWVHXdkrr7723PMv/PDQj3546EeHS0oPl5QeOX66tvkDo+O7zKDANPO5Z2x3Z52zS9P0nB8V5T09V0mShDPCTt4tSkQbjFh4BFvDsX0FNjKqfZnWjdV/xD5W5qIz56h9GLevGNU++hpB9LvM5GwMQuV7ubdL7cvCixzUgM5Ki9UKkl4GWe4xE85m0CTtxMpMzptMJsH5tLyi/He9n3qoWUdKustuf2ESDqfPZ7ihbKh5q7SkBIjkuedfADp55dXXTtS81zdscBB0ny9Eb2a2AM50/LPnxGKxw3Gb6YXM19aFz7ei9qUMxSAaY9KVDKmdrxgNzEhRFEzjlpmug7YzmBQsD7PuZi7WvchCRC6XV3BO3vjmSwi5DKgHPbzuGdv4LK3zGW4oq/4XbdIjx0+fPf92bdWbL/7TPz7++A/+4Z//5ac/q27rVtinrMS8F1Avu6uXmqenequsquzobKdV3iQdHdput4nFYpiKpvAm/L62iGofqn2o9n1fd1ee20Xsy9NQK9lQ7St+tQ/i9gmFQrPZnOvQunIdN1/aFuxjWG05Ho/FYpGFSGQhkoo7SGNKLBZbjEYZEGH4IwN8ADf0aTFQCFxCkmRPz9XyivL7U2vQs6tlsI8J2ucgpieogHlMX/+/jz25f/+//tu/iz/86H74kuPHygBKztT+h+h3qmy1j2E+8Or41uU510DHQDaZTFuaTXjzq8F2bRrjsu3ATMWxGI1CT3RmbRoK6Ql5M2zHzHuWQdjVXJixOf06kUjSUZo7OttPc7ljd4zMhBzMqD7o9nXP2DrqysC8fcMG94xt7I6RSflk4I8QqzkTsXl1J6/m1hdnz7/dLG5mAuXcjzhYU13dcqkF4/YxtbHIF1DtK/AFQrWPbdOYyo/Yx9psjNqHcfuK1ZP3HhOu2Ww275xwzWlJKbIQMZvNXV1dFy5KJBLan2DS5wNSychLdKVdjsfD4TBBENDnC8iSqs0r0JMimyRJkt3dV954k6ccHJwKzdun0v2zDPY5/dQEFbjS0fTiP/3jP/zzv4h+p3JSEafPp/vs91X/6wVI0f7F6yCmociqPmIPNTt25+65xl8KhcIM9rGWV1nfh5sVSIt5NMnF48vxOExw0nKpBZyjYdKLLOxLk9/S0qI/9cl6VVjpTM8ofOvsOBgMtlxqKa86M3bHCFqdMytQn3vGQcx7vYaPGGM6Z2yzS9OzS9PZid65uYmgO1smBHCETl4G+1Lu0vRRYdy+AjPE99/5i9hX4EvmIzBu3zrt0YOSEPseZKE161HtK3q1j45Xokh9vN7xjFq25kJumrAtah/MsQuuG0KhsL29HaboaG9vh87TyEIEZomFnAaDAaYOW47Hl5YWKYqC2XszQJPu04TgXq9zuR/3/2EqNJ+t9lkmpqDf1nf3z/X/+9g//PO/nKh578/jM965uanQ/PTs/3elowkStX/xTlCBNPBBhBd4TKZaXlD7QF7dGmdvejXYrlwB3+V4nCRJmUwGns4Q+FooFGo0GojvEwgEJn2+QCCQSCQIgujuvnJN2UuSJLjXkCQZCASgCmXIe/XBJJKJyEIEXC4Mlq8gLAsj9UFAPmLea7ihLH3hwL/+27+Lfqci5r0gAXoNH4HZa5s/YERB8OeAGC6uv9rBpUNz6wvQ9hi1774rCczUwqSsPrJi/I2dvOjJW8hOXpylYwt3OWIfa6Mxah/G7StatW85Hvd6x73e8XA4nGEgdhd6u7DP6x2/cJGOw9zX1x8MBiFWs0Qi0ev1FEUZDAaVStXX1w9OvjKZ7PixMplMRlGU1zsOfqbgw5s6W5AP6bF9AwMDr3O59Ni+2UUnOQ30BtqDg5h2Tc8A9j33/Au1zR/8eXwG3DvcM47/uix67vkXTtS8Bz28MDnbqld2DzVr/G/7mdr/yBrbVyxqXyg0NzIyAqFYYEZdi9XacqkFQnl7PB6NRqNUKq9rtTDBcXlFOZ/PBxuazWZwkQZ/6k0qUiwWk8vlJ0+dvvHNl+4ZG4h2DPkBtzHS6ScDfwS/DWLeO+kY6agr+4d//pfa5g/G7ty9O+tk1D4m4F+2S0dHZztBEEzf/XWt1mQypWbvYFe9ty83Yh+O7Ssk9qHat4V7GbGP9fMJ1b6iV/voPjvo3cs8qllf5e3AvmQsFtPr9QKBQC6XwzQbgUDA7XZbrNZJn0+n00kkEnpOtupqqVSqUqneb2s7fqxMKpVe12rb29shBB3MzJvppkwPCqQ9eavOSDsvWyamIIALHZBlYgrUPjcVoCPDpdS+FeyjIoB9T+7fn419q5gP5ucd+urr8qozAKCZzlDWNt9C+7VukawDuOd2u+lZOmpr1Wr10tJiOBwmSdJitXq94263u7v7ilgshlB8Mpmsr6+fm5oAV61W9/X1i0QigUAAsZozs/yte1I0ysDkuapPL4MnLzAfBGEB7AN/Dugx987NzS5Nr+35nQi6U54c6SDPoBRCcXlvT3lFuVqtZiBvOR4PheYwbt+qClnMP7GTt8BXp5Bj+9a9tddtYHZ8Yr7YBw6D0J7upr+ZodksLmSO2odx+4rSkxd66EKhuVgstjXy2xbsW4xGNRpNXV1dX19/OBz2eDwwLVvLpZbh4WGDwQATgtXV1fF4vNbWVnomWXGzSqVqudTC4XBEIlFrayuPx2tuaqIoCjol4fQnfT4+n1//jujmmCXlzEvH7ctW+8Zn3R11ZQcOPJUmPCrinZubdIw01LyVnUhH+8sEaoYW3DU9Y5sgftf76Ykf/2RwaDBjbRY3VMGzZo6BRl6H4/aFixKhUGgwGMLhsF6v7+hsF4lEKpXKZDINDAwoFIqWSy2VVZV1dXVqtfrCRQnwX2VVJcx4W9/YUF5Rnhs3Z/UhJ5KJkZvDlVWVzeJmmJmNCeACGEfMe8fuGOXvnnti375//bd/7xs2OHNdOugUPwVBXhiZEHp4Idpfs5gOiA1+3LD7RCKxtLSYqeGrD6lYf6Pah2pfMap94NGVSCZ225d2U1v9yRP77sXmI5HAbGw2FJsNwcLu+LvReJ3Vdsr6jWpf8at9sVhs5OawTqcjSTITyo7dy9y2YN/S0uLIzeG6urqurq5A6mMwGADpWltb1Wp1V+ojEokqqypbW1tHRkbkcrlOp2tuaiotKWltbVUoFEKh8P22NjjxVLWlT5yiKGaWDg81C7N0gH8G6H8TVED16eUX/+kfn9y/v7b5A+1f0pjy4j/9IwxHo3t+M73D2a/s0MkifPdC1iwd7EyddW8VZjFL7Uu63W6YV21gYGBpadHj8ajV6prq6rq6OqVSqVAourq62tvbBamPRqORyWTQjX6k7CjM4QYyaiaG3/qnlkgmPB5P/Tui01yu5tYXMHSPmWCNGbTHCH7/+m//fvb82xWck88+83TahybVNZwJ2pKezw36i4l5741vvjx7/u26urqskI3JUGjO6XR6veORhUhhDPcotoLYh9hXSOwr1Ng+iJwAjlazS9PBxb/vjr/R2Hy2IyDc4nlhXyKRmCWm/3Z74m+3J2Zdvl3zd/7O/8TmIyltgEWDl6P2Ydy+olT7IgsRmNnW6XSmyJ7F9YWs24J9MCSx5VILAIfdbrPbbTKZDJQ86HOUy+VCoZDD4TSLmzUajUgkAp9fLpcrlUoVCgU4/4ZCc9miF8SvPs3l/uJXzdZUzwiofSDd0V4dVMQ+ZZW/e+6Hh370D//8L2WvnznN5R588eAPD/0o3e1LZyBXSX0OgvTOzX3c/4cjx09nxxZhbe4CF0h78iaT92BsX2VVpUAgGLk5zGGHVwAAIABJREFU7Ha7h4eHa2proaOcz+fDVGx8Pr+yqhLUPqlU2tNzFfS/rq4uuVwukUhGRkay5jhee7h06L5ryt5XXn2to7MdumUZ0Q5isjDhmhtq3jpSdvRI2dHDJaXlVWfEH340dsfIRG9hZEIoDjO5gdTX1dWVCY5D06fT6YS+/kmfb+0BFWsKYh9iXyGxr0Bj++5FY/NTs+N3Z53js274Mss7emF2aXot4bDAPsp2N2DzzNi8u+NL2e7Ounyx+chaFt68xUS1r/jVvvsR74RCYX1jg8Vq3UHYB912ZrNZLBYLBAKpVNra2ioUCqVSqVqt7uhsFwqFcrlcLBbX1dV1d18xGo1isfj9tjaVStXR2S6RSNrb21tbW69rtTArXVZNpudnO9fQcOT4aeXgoIeadU3PWFMOuZaJKfsUCZNtGP/brvr0ck1t7Wku9zSXmx2uLx26JeO9a5mYcpLT3tm5sTt3698RvfLqaxqNJrXTrH1u/yLt0ktR1DVlL8xc3N7eDoP5lEplX1+/UChsudQik8lgmmO9Xg+j/a4pe68peyUSScullvb29q6uLofjdma45PpnlUgm7HZbedWZ8qozmltfUPNEaqDeymQbTBDmsTtGza0v6AnZvhwA4AMPj1U9vDCZG0h9pSUlNbW1LpcruwU3mUx8Ph/j9mVrz0W+zIztwzl5C3OlCja2L419zKvarlmg5onsRgMaL9bYB/C3C/5Strt/d089jNqHcfuK1ZOXnqWDwb6txRPZFrUPwjVHFiIul6uvr7+1tVUqlV5T9no8HujR6+m5KpPJlEolzCHr9/uHh4cHhwY9Ho/DcVsul7dcahkcGkzN35WO3sJASjgcVigUR46frn9HZPFOeHOHpQLV0eH6/NTYHaP2lnHoq6+Nju+cVMQ1PQMR+1Zm8k0N73NNz0yF5j9Sfn7ixz/hnz2XiifH7K1IFmjsW47Hg8Gg0WiUyWRAxnq9HrykdTodUF1fX7/BYCBJ0m63qdVqk8lEUZRGo2ltbZXL5WazORwOP2hAyL1AINDTc/VI2dFfX3pvIugGmEt55trgL5AfA3kgCmbpfHTfLuPA655xzC5Nj90xNoubQURcWlpMzc+RvrIM9rnd7iIxdx6HgWofqn3Fq/Zlh9vcHeRHzROpkK45t2Ze2Lccj88S0wGbh/nudOwL2DwM9qHax/bFq+jVPjpunzz1cbvdO0jtS1VF+qG+HI8HAgGCICCkHMSNg2DCkz4fRVGh0BzMNhEKzQWDQZjAgyRJr3ccwtGl7vKcgWjLqbh0Uqn0cElpW7fCNT3joWaZ0M10HfARDoJ0+ikXSX8B+FKT8E5DDVkR/FIv2d7ZOd03377xJq/irbfMZnNqhFnOHnNamm37ke7wXYxG/X6/1ztOkmTmUOku4EmfD0Jeg0vsYjQaDAYh7k8wGJz0+UiSZCb22LytgBF+zeLmI2VH5b09EKUZOm0zg/Zo/oPAfsS8F+bzgIgtQHvMXyDCiaCbYb5McL50SMJkMmk2mwUCQUdnO2If2xZsu/Izat/NMYu083LFW2+Njo5uXqk2v28gJCf/7LkPej6mb17Cv12ntj37LbTaB69nDPBlj7jYicuuv9ofVu0D5puxeXdHby+DfWsl0M3vNBzbV/zYB4PkJn2+TcdjbXadt0nt2+yQHnodTZMej0coFB4pOwrBXKZC8zDHLt1qMy66Kf5zEPRIPtp1N2v2AnhuuamAd3ZO9UfdaS73dS5Xo9Fk2LoIse+hzZbeAI2PD2wrluNxu9129vzbpSUlNJDN2ADvMlOupbGPUfhgITtcn+uv9omgm5on3DOOX19670jZ0frGhszMHIx56YPx+/16vd5itab8PAp1mt/3dlDtQ7WvqNW+bLxj+G/HLTBnQVEUTOGdfWOzUPuA9nbN8D4G+9i+bOHYvh2BfWwva/ZdkUwmdyP2pU9xZGTkNJd7uKT0g56PLXfvemfn3FSA0QnSrh6ZMXxp5ksRoX2KBI3Q4SNVf9Txz5479NLLMpksFUluRYVaZck99vMe7T1z64vjx8qOHyu7puwFzY/R9iAUH/wFnY/pV2IG80G0l47O9iNlR2uqq0dHR1cNVEjRZ7r/+kFdz8VmfsQ+xL5CYl+BPHnTY/tWqX07jvbggBnmc8/YCqb27Q7yY7DvgW/wqxrOHLUvd4BUti6yi5eLHvuSiUQinPpsPgx/1ZXN/rlzsC/diZnCXFjOPg9meUWsiixERkZG+Hw+jPMb+upr8O11UwE3FaC7dwm/g6CdPOxTpIMg6T7f6Rk3FaAjv/gpo+O7D3o+PlJ29MTJUz09V2Ees9RuGC2K2WnRLmxiqIc8ZprGQqE5nU539vzbR8qO0g7Xt75gQrGAZy507zJ/IZHRBWH63dKSEvBJisbm17yvp68mxCR/yDechzxhlsUR+xD7Col9hfXk3R3YxwwRBuwrwNi+ArrxUra7lO1u9gYhZd307GwFWWawj22jiWpf8WNfLBYzpz6BQCAjh7CDkmLCPmCU9f8ywk8e1XjFAqHQnMFgEAgEh0tKf/qz6o+Un49a7S6S8lCzHmo2zX/TM67Ul0m0TEypb9z89aX3Tp46/TqX2919JRMdcGXLLCFg92VPAVmSJr/R0dH6xobSkhI+n9/R2W6wfMUofwznZS+4Z2w3vvkS5vY9UnZUKBSaTKbsiC2MseCih8PhSZ/P7/cXnwM1c6RrFxD7aOxDT97CyCLf89i+na72FWxs3+6Q+mCE4kN68uKcvEXryRtZiLRcapFIJFlx+9ihSTFhHz3XXDbeZS+vfa7ml0KP83O73SqVqor/8yPHT0NIv4+Unw999fXNMcvYnbsW74Tl7l2j4zvtLaNycFDaebmK//NXXn3tcEmp8N0LZrM5FJp7kMSY37HsxlyJJD2FBj3PyqeXz55/+8SPf1JeUX72/Nsdne2fqZU3vvnSYPlq7I7RYPnqxjdffqZWdnS2nz3/9mkut4Jzsv4d0cDAwKTPt7FWTVdml8vV3t6uUqkwbl9hGCJrDOv3tEF06SiwYX3ETlH7GA/9dVFy87XrFtk8kennLczYvoIobdkb+dvtib+7p+bv/M/8nf+JTlDwhZ/zd/4n7CayMxdwGdW+Ld+Bxa/2ZQdwyXgbsIOLIsM+dgf/wNwwj8VyPB5ZiFis1p6eqyKRqIr/88qqSvDMraurq29sONfQcD8yy09/Vl1edaamurqh5q3aqjfFv20du3OX6V4EBn3gHvdahkSSDhyTSCYiCxG73faZWvnrS++dPf92edWZyqpKCO8Hf5mfZ8+/LZPJbnzzpd/vz4rVsq7laOwzm8011dWtra0ul2vdTEWZiGofdvIWspO3aMf2pebjZibXdkBEp2x1n1mGwR6AcdmlNge7TdYyEFmwsX2FUvtgqo+/u6co2927f7J+d+vWd7dumbT/j/lCyt0/WWdsXpga5G+3J0ClKwj8MdiXem6xaCGZsX0Yt69Y1b574XC4ualJJBJZrNbMcPgdrfaxqJ/5ZU33RSaT9GM4Gpv3esf7+vovXJQIBILyqjOHS0p/eOhHh156GWLyNTc1dXdfMdxQGm4oTaZvvcEU09CzPULXc3773Fu5GB8XWliNLEQIgtDr9QqF4teX3qutevNI2dFnn3n6SNlRgUAgkUh6eq4aLF9BvBiPx0OSZCi8dkhfjgVNJlNNdTWGa97y6+ujL4hqX4FtXsRqn3vGAaGaIGz72B0jqPsg8IPeD5I/xGyHqbdTMdvpGO+bUF0+q5gtFCZu30MiV8Dm+dvtiYDN47Peufsnq3nka93nQ590yP/z//6y8Zyg8ZzgDPeNM9w3YFkkEnVeuKj7fMg88vXdP1l91juU7S7A34zNyyxs7ZAY7MtjUFROa4tj+4pf7YssRN5va7s/m63T6cyMjsq5iA/8sbvVvqzTT3NbIpGAkHXBYJAkyZ6eq1X8n4tEIrPZHEx9IguR6ARluKFU37j55/GZtcOEs7aJi2stcA+6fWPzkeDi3yd9vs/UyvKK8s/Uytml6VBoDiY9N9xQ/uq84Oz5t8UffqT9izcS2+xdBeL2tbdj3L7CqUffcz8vYl/Bsa+o1D5Gq4MZd+xTVqA9za0vOjrbm8XNZ8+/XVNbW15RfvLU6bPn365vbKh/RwQDPwAB7VPWzHQ+6Ym5Gf+MfGgP8jBq3/aP7YMpfWduj/usd767deuTDvkZ7huHXnr54IsHjx8razwnEIlEzU1Nn3TQYXY7L1xsbmr61XkBNzUx6MEXD57hvgEIGLB5Zm3jD8l8OLbvYW6/ose+dIA6r3c8E7dvs8fn2kf07g7gsu75Zmvey/H4da1WKBS2tramxo3RyJJIJv42+a383XMXLkq0f/GuuxFMzMMCNGeHQnPXtVo+n6/T6ZLJZCKZiMbmDTeUdDd68wdqtfpX5wW1zR9o/+JdF69h3AJBEBqNxmAwpALo5LHnosiCnbzYyVs4TC8mtS+X+RzgnsXn8wFyTvz4J2fPvy0SiX596T25XK769HKzuLn+HVF9Y0N5RTnkqeCcBN8v+5Q1I/ulu4nzZ74M+dF6Id3JW5C4fVuQ1mh33ds0qAVsHpP2/3VeuMjn82uqqwH1WltblUrl8PCwwWCg+4+84x6Px2K1GgyGkZERmFq+uakJ9L/aqjf/8//+Uvf5kM96Z+b2+KxtfMudzqj2bZn8ih/7GB8IeNJlM02ez749o/al7ZEZokdDyWI0qtFoRCLR+21tkz4fjFFLJu+F3URHXRngSCZ/nubEbDkWCAaDGo2msqryulZL19VkIjYfkb97rrb5g75hw6zL91+XRWdq/6Nv2JAS/Fa/tIDxF6NRiqKCweDW9OycA3p0PxD70JO3kNi3jWpftqgGjHV31mmfsmpuffHrS+8B5AgEAqFQKBaLwZFrdHR07I7R6x2foALmMb3BYNDc+gI8utJaYHV1ZVWlSCTS3PrC9Vc7wB975ltRCgsTt48VZqXjs9wen7k9rvt8qPPCxcZzgsqqyprqarlc7nDchilxmacys0C/AdMjh+gPdD+53W6FQiEUCsGaAH9Ml/HWYLQAnrwYt6+v/9E9MvLd073lBO1HycypxdSlfDewq8M1P9AIdMBhjUYoFLZcagEv0ZTmdA/UPrFYrP2LF5xC2A6QeOCu90AGGqyzsS/t+RGYlb97TvjuBe1fvH6/Pxv71vNJAhBcGT64cy4EYh+qfYXEvm305AV5D5gMenVvfPPlry+9B8OjhUKhQqGwWK0QdzP1DIIRNcxfOkQDKBTgAebxeBQKxdnzb9OQU1sLIT9hOkcYq8eM2HsgCDL5H+nYPoi9N2sbD7uJu3+y9n/0SeM5wclTpxvPCQwGQyg8n3kk59vOL8fji9FoKDzvcNxubmo6w32jturN/o8+ufsn69/dU1uQ/VDt271qX3JpadGY+lAUlYnbl29Ng3x7Te3Lts5a7IO1gH1M5+NyIgE4mF0Wlx9kAZrVsrEPmv7YfMRwQ3muoaG2+YOBgQGmkzcSo99h6E72zGtwZvu03xJMMZyK27daEcxkK7b/iH2IfYXEvm1X+2ACRvuU9TO1knbVryiHIdGh0Fw0Nk+75Kdd3za5E9MgmEjQgz2Ci393Op3N4uYKzkk+ny+Xy8fuGMdn3Yy4yCxsBH/ZGbZB7fvb7QnKdrf/o0/OcN8QiUQ6nc7tdsM052tasU2Mslr583rH9Xq9WCzm8XifdMjv/smaHjho8+Yv+zHYx+pIkskk48mLcfuK1ZOXnlrt/bY2iG2R8uRl/VBE7MtW++Aeofx+3We/7//ok6Gvvnb6aFfTSIzuoNzs1sV1qy1AN/HZ2JcyID0adfl//vuTDjn0Cv2fi//ZN2xw+kinZSIQCKxrZ7fbLZPJ1Go1QRCrd1K8vxH7EPsKiX3brvZBx668t6emuvrs+bc1Go3XOx6NzadlPLrpzL+FTD+nlpYWJ32+G9982Sxu5nA48t6esTtGZrTfRrSXnc7ogo9ubB/M3vu32xM+651POuQcDqe7+4rb7c6E0thKm7QKziDYbHf3FT6f/6vzghmbN+wm2HZAQycv2/6RzTx5fYR9irRm/lp9BPMFH67NBTbIvDpnajrUzQvaJugdQUH7FJnO7CNsmUTmMKypxAdubfMMRT+2j0ZzkUgkFAotVuvGMW83q4cFxT4GOlOSPt0KMCmrjoFOT1X1jTKsyv+9/GTUvtbWVq93HOSoZJKetjI6Qfnu/vmTDvlv2j4EV1Oglu/lOB7FRuE9G3pb1u4PelHTfTGp1Q9/XWj1Lhv7Vnp5aBnQ6XQ6zWazg5gOBoO6z35/4aJkvRF+9GHQAVxqa/duAJdUUwYtG0wkyPy1pdpM1m1dfi3t5m3j5mt3hCcvPMKYR4ZlYmrzk9rOtds6S4dzxkbMe90ztl9feq+86kzLpRa73QbAl9XCMy3M2uZlbQo0L1CEfhWcmh2/puwtryj/9aX3GPLLxrt1lxm171HH7fvb7Ym7f7LCYD6ZTEb5/fQQltX9FGtPO9+URCIRi8UmfT6lUtl4TtB54eJ3t2793T0FLrr58N/Dq32r4/alWg16unqSgmlMmQUHQdpSCLj5HWKZmHIQpJOcdpLT0HLR+fNpjHwElIIdpfeSok8nOe0iKWgBV295q9EKih/7IgsRkYh2ksrE7WN179GV8PvBvs2r98Mjxebbz3ctYJ9IJMp48jIFaTMmgs7/uiyqbf7gz+Mzm0cYYYoV4UIWWz/Y7IkEE6ewIKeSo/YxVJ1M0kRIf1NNZWw+ovvs9//n4n8CXue69NLHbDQaK6sqYSqaghzWI9lIQdU+H5FuY6HJJSk3FYDG0z5FOv10O7x5k/uI1xY59tFGI/yMSZ3kNMzNvWKlfB5GW32srOwl/y08ck9eICr3jA0mWhy7Y+zobBcIBPIPOzLBwh7cnuR9o9HkR1GUvLenvrGho7N97I4xtWsbI+ati33gX5L25J0ncpsOeuePNYubH3gQy/H4LDEdsHk2xykQ+QCnKNvdTzrkPB5PJpOFwvMZDeOBu8o3Q2ZEeRK8Ds9w35BKpRDbefODZHqBGezLAvO89r6R2mefIi3eiVGrXXvLqL5xc+irr9U3bsJX9823Rsd3m1Xr1Jurw0eOWu19wwbtLePYnbsrut3mt4GP+Nbl0X3zrfrGTaPjO/rlLCPpGf/bPvTV10NffW3xTozduTv01de6b7791uWhj+QhbuCix757kYVIe3v7+21tbrc7MyKe3d1YUOxL16tYLBYMBid9PrvdZjKZDKmP0Wi0WK1e73hm+uC8KuH3mSnHkzdb7aO5JB6PBGYNN5TiDz/a0diXuevpEXIkSToct41Go16vH059RkZGDAaDxWqd9PmCwWDmlZX1y8N6l4lWEFcFcAHBDw4J3o1hlI/u8yGZTJYJ4JddgelliNvX0bl34/YZHd/pvvkWmjimsYXG8+aYBRphW+rt98HNnY/IeWfevMnd6loG+4pzTt5vXR7tLSM8v1R/1A199fWo1W7xTjAPlAebcauW2ezhuMk2H7nal8E+OhSzfcra0dl+4uSpa8rerJkq17vpt5oGfSnBxb9/plby+fyWSy1jd4wQ/3kj4EvR3qP15KVsd2dt4zM2r+7zoTPcN5RKJcSUKqDOlzEg3fAB/AWDQZVKVVNd3Xnhos96J0/3Dgb72B7bRmP77FPk2J27H/f/4VzjL8/U/kf9OyLhuxeE7174xa+af9P24ScDf3T6yLUkB1q6bYJudDzULF28oeH/XPzPUavdNT2z7s1AS3dZd4J9irw5ZvlN24c//Vm1+sZNi3fCPkXSTdgEob5x81zjL881/tLo+M7433bhuxdaZL8ftdpB/GNk/FUbzN74usvFj32xWMxitVqs1lT1y35eZqrPg/4XAvvS+00kEuFweNLnM5m+VSqVLZda6urqyivKX+dyORxOeUV5XV1dy6WWa8pes9lMEAS8Jq05wK2cxZqNPDghFot5PB6ZTMbj8QQCwcjN4WAwmFGk6O7Oe5E7hhvK7E5eNoNXHnwA338Omt6gp9Xtdms0GplMVt/YwOVyjx8rY74nT52uqa6WSqV9ff0Ox22SJB9mjErmpOhdRxYiHo9HqVRyuVxoITM+GUyfMp19aWnRcEMp/7BD+xevb2Ed4vR6xxUKxXWt1u/3Z7Zf/P8Lo/aBCqW9ZRT/tvWnP6s+19AAjS00nrpvvv1I+XnFW2+da/ylbYJIN6SZITfALnQj6UuPh4EFeh5qeGfOal3TDWBWXw00nus2jA9MZLDv5phF2nm54q23RkdHM28gW7l2fr+/p+cq/+y5D3o+pnuKCP8Dj2H9DKlnytBXX4t/23qm9j/ONf5S+O4F8W9bf9f7qXJw8OaYBZ5QzCMDNgIPjpXHR+6Dad0drWRea+QtpDxytQ+g6u6s0zljg3m0OzrbSZKEyKaZdrIgbTV9y2fkLXqADR3gveqM6tPLmah+m83kwciB3/vYPiaQsu7zobq6OolE4vWOrxUYt1K7Ny2znEgQBNHe3l5TXd3/0ScQ1YVR9TZaYLCP7V23kdoHr5U3xywwpTr9XLxl1H3zbd+woUX2e/q29JGu6RkHQTOZk/DDyyUgGqS4qcDH/X8AZLw5ZvGmosMAwNkm6FGDDmKa+UvfVKk3VLrr1k+1dSv+f/beN6ipK/0D71v70umb7kxfuJ12tzOtL7Q7Y9Vx1FmBEQVE0SyCEU2BhDFKMKOxkBKEAkoBJRj+SImUzKQCsmEpNPxZDJhFgk0kMRtDCBAzacgSylcQQRD5ce6Te7gJCSYIrvv7/TIO3v/33HPuOedzP8/zfJ6Q0P2VtXd6+wd0VuRfqLeNqM1DyZd4x07EtvWqe/sH6lramjuVavMQmJJ1VsThE0y+y6YMzjGuEhK2Zr1tZHlHfedhH0Ink8RvdVTfWhh5YZ5GzBnkPRMIBAwGIyYqghl3IvUcO+ebC0UZmTnfXBCls1DYZtwJCE7n8Xg1NbVm8+DE5DPoO2COhL9kP6CCANfoQO560/8dDkdWVta27Ts3bfr4s08/iYqK6urqovaR2WdTloEHcrkc2L7/Hd8+GItdZBtkImaz2dQWuVmYhv9R2yUhPj4jMwuEkSEwnGwOVyv7WelwllqjEQgEwUFBn336SXBQ0Pf5+SaTaVm8OSJWLZr+7uZ/KjRab+p9CD7abDan00mgRj+L8F8/bG1gH/p+JqAYNz1j1+49LA6nrqWtrVddJrkN39jSJjmdeTY6jt5HEEJ6q11vtcNgC+fqrfbe/gGl7nFv/4DeNqLQaKVNcqXuMYy3MBLCKa5hlhixsd1z+ajoFeV4bHxnYR/UjFL3+GJmztYtWwVX88BslV8ujo6jJ1/ioSguVANoOsATBKBAZBq2uSYmmFPAux2uSWVb8XaoRpjCPKoosNW3zvaRWnp9jZ1/j46j83g8k8m0OvfxALviK4fDUVhUgJDfz/VgZcY+fB7MH97+lnz7fn80pGq/txhjkZSU1N3ds+a2XW81hUbz+fl5vV6fwmJzEk6p2u/5Y+fFsI8Yi71d2Mc2N7aPqttnseqt9h6D6Xwq/9iJ2BtV1UaHE0E320hzp7Lh7j2dhUB7xCcmfF/qhqywgEL2rHbDyKhEJmNxUMKWtl613u7yyQPMh/uDDlhDsOQSndA89rRMcnvHvoMA+8C7xWBz6K3286n8SBpNfr8HOQ5a0AcuMI6oT1rQ0IkGNfKrl9pF3Zbdv8PeediHpvbZ2VnSNuejIVfc/MZsn8sto7GxMTmFExUVxYw7IUpnSauL5T+VmLvKhnXt+B/S7WyRSKuLReksTsIpGo3GZrNrampJhgljCzRljo+Pm0wmq9U6Pj4+Mz1Nvr1r8n2JasRut7PZ7A82bnyP+G3dsrW1tZUC+4i6fTbldDohaez/CtUHkOvl3JzNZpNIJCfjTsZERaSeY98sTJP/VKLq7YDm+H24B/7BqvynEml1ceo5dvLfDhyl0QqLCtQazdTzKbjaim+Qr52vlEplxKHIDRvef++99zZseD8qKspoNFJqGJ0I5MH07LMp59j4+DiK5HVzjF56JTxO9HXXd2b7WsA+klUyjz29mJnz5bavWCkXegwmy/NXvf0D8vs9bb1q+f0e+OJ1wT6LDQ22MN4SA3VzpzJXWCKRycAzJ78c5Upu61UbbA4cxIAGTDhrCI3trnGSuPv/y2BfH1EnavPQ5fzrH/35L9cqKi3PX+ntDqil8MNHWCkXEOeHLebExAHgGBGBREVBZCHe6DoYzx3khAUT2dJh+IBVLLx1ts842jc0buztVyaeO5N47kyX+i7JLLyFHvYKhF1QvHDn3yHhL2b1liE/Fxe4jrp9IMs81jcILn1gvAChlvWuDDwazkxPyxpkzLgTYOr9P+MT0A58m2yfzmrrMZiAJ79RVW0ee2oee9rcqUQud+ahupa2XGFJmeQ2fJIKrubJ7/dIm+QXM3Oyi4rrWtr0dset+iYWh5N47szFzJzzqfyLmTnSJrnOansy8azh7r0bVdU3qqqzi4phI7jrSZvk0ib5+VT+rt17JDJZ35BVqXtc19ImbZJX1t45fjo+kkYDR8MbVdXSJjl4veSXi6Ek3PSMy/nXwaasfIg8CyUymbRJfqOqGgqGvBLJcRZ67DsP+xZezs25G3kDRkVvDPsWhi2W7OzsiEORMVERonRWV4vk9+GeV1P9K/z7fbgH2fXSWTFREWEHQnOv5EJICoYsJpNJKpVmZ2dnZGaVlpaqNRoi+xx0soCf0WvfnHo+JZFIPvv0k/fee++DjRtjY2MJUOK6BcAR0vTgQif/I8gDAXG9Xp+dnR0cFESnHbtZmDasa58f11NbZH5cD//wxvlx/bCuXf5TCSfhVNiBUMio9gYE2yubzZacwgHY94cPP+TxeMuyq7lQHdQzOcR5ti9m+9bC+uz1XViPjWsB+wAfEFPCUOaPAAAgAElEQVQ+Nz1j2/ad51P56oEB89OnavNQj8EEfi+slAvA9hlGRmEwlMhkucKS5k5lj8GUKyzZGxScfIlX19KWXy6OpNEiaTRCKQNRgJW1d8okt3OFJZW1d8DXDSw2l/OvgxkHf4QHtPDOsn0I9tlGevsHLudf//yLzaKqiicTz7RPbDCFxTG+3rV7T66wBExGZZLb+eXiXGFJXUsbsKS5wpIbVdW5whJuesa1ikrwCITZDWq+4e69PotVodFW1t6BIytr77zG390fFPjW2T7jaJ9+tE9UVRETFSGRSN5ughw0gjV2/j04KOjbK98ZR5F/oVfYh9m+9c3JC+bd0T7z485OyKKm1mjeCtW3NDDNz887nc7s7Gxm3Inu5n+O9aHUbb4w3zrl5AXDwcXMnGMnYi9m5gDYOp/KlzbJ+4asZZLbkTRa4rkzucISOvPsjn0HL+dfv1pUTGeeheMVGq1EJkOSj3F0+AsDU1uvWql7fLXIlcUvJHQ/nXkWLn45//q1isoyyW0Wh/Pltq9u1TcpdY/LJLcFV/PKJLdvVFWHhEWGHz4iv99zq74pkkbjpmc03L1XWXsHPuCuFhWHHz4SEhYpbZIbHU6JTHY+lV8muS2RyejMs7t276Ezzyo02iU6kOiK7z7sm3o+JRQKCwoKDAbD6r7GVgv7YMJe0Gr7cq/kBgcFMeNOyH8qefnbQxeYGNHM/0eHlv+jezWieQWrxLJr+7h+ZOzfGGTgYGR4vSUSCZvNzr2SmxAfHx0TLRaLbTYb2Qc8YQG5PbD/ARvt2r3nvffe27Tp48KiAsJb2XUR0qTrwTatza0J+LhWl/J86pdzc1pt32J9hh0ITT3HBhSOMB/RBKiB/qN7+dtDvPryt4ewEbfLsK79ZmFa2IFQZtyJ9vZ2arV43sz3OgQFi8XiTZs+fu+994KDgmQNsqnnU8QZy2sVZBG9bF9YWDCbByUSiVwu//+cbx/wRkNWk2MM2D5GIutWfRN8rNa1tPX2D7T1qlkczrETsTor8nUBuHatohIJbQhL5Pd7BFfztm3fSWeelchkgqt5ME7mCkvgq/hiZg43PQOPzGWS2yFhkcdOxILfW11LG1iKA8J8fUMujS293fEO+vbB5AWwL79cDLDPMDJqcoyxOJzPv9jMSGQ1dyrzy8XnU/mslAtQGxKZDOY1RiIr+RIvJCzy+Ol4iUzW2z+QKywRXM2DRrlV39RjMEmb5Nz0jIuZOWB/v1ZRCS5JgVbj0vFvne0bGje23P858dwZvoBPatK5xnzfnX6t9qAbGQwGNvFruf8zxHZQQR7m/AAOrm9OXnCnc/QNFGVkJsTHNzY2Em7ga/W0AVxHLpczGAzQc/n90ZA/sC9QrmK5b5+OcLzrG0IfTD0G08XMnPDDR46fjv/2ynfc9IxIGq1MchtoP+gqCo22rqWNkcg6fjq+THJbodFezMyJpNEqa+9glxQUlvtQm3yJF3qUfq2i8mJmjuBqHnwqHT8dH374yMXMHOg/DXfvGUZGc4Ul27bvrKy9g83EPQaT2jxEZ54NCYtUaLTy+z2RNBpw9fL7PeGHjyRf4ik02jLJbUYiC77kBFfz9gYFy+/3GB3O86n88MNHyiS3IUaESvi9+7CPqttHwr7A8MTqYB8Ylw0Gw6KTQ3BQ0M3CNFVvh4tAIlDFnE2F/83/9uv8b7/CKiy7UCDBP1kGHgDISEpK0uv1M9PTao2Gn5a2qFJuNg/W19dzudyCggL3SNsAesoKh05MPE1O4fzhww/3BgW7u5zjOsRAZIXLvAu7cDnRcMnlcoODgnK+uQC0qwvzEa0w/9uvL397OGdTLf/raiCCBQQ6NiYqIjY2drEJCLgW6KCP6lCt0UTHRH+wcSOPx7NarfCKAqfrG/suPQvwfyqVKikp6fv8fIPB8C7UtX9lWCO2j0B+Qw4nwL6QsMiLmTmslAvnU/m36pvU5iEE+1IuxJw6pbEg6wd8G4P1g5VyAT59Q8Iis4uK1eahyto7cYyvWSkXgNi7nH8dPptzhSUhYZHRcfSGu/cA0Eib5PL7PQHILLhTVpjte+cieSls32effgKwT2e1GR1OBPtSLnz+xeaQ0P355eLsomKwWV3MzNmx76D05/rmTiWKqkm5AMQemKqUusfnU/nHT8dDODCQgtlFxTCLZRN0Q/IlXo/BhFyS3GspgNW3yPYZR/uwMvNRIhiL6LaBdn//eon3o9C9pp5PqVSqhPj4xTQeYOfFUA8vUIHg+mbp+D/jk4F/aZhxJ5KSkpDTz7z/ytTeHzHQrXBHh8MhFAqDg4Jqy25NDzn8gX2BFhX79mHdPirsU+oef3vlu+On47OLihUarUKjvVFV3XD3nnnsqfx+z/HT8cmXeOqhJ2296uRLKNs6ci4ZegKsW5nktrRJzuJwWCkXFBrtk4lnucKSYydiIUoXDL636pvKJLcra+/kCksSz50BGPdk4tmNquod+w4Cf378dLzgah44tYBvn1L3uK1XDaFtSt1jhUYLzJ/GYgUnGBaHg7+AUWmfPuWmZ0TH0XFo8P8c7ONyuUCVvU3Y95KgnAFeiNJZI2P/BsyHsd2cTQUIjwovYAv+i475j+7VVP/vwz3S6uK4v27OyETRUYvS06Cl53Q6VSpVXl7eYryt2TxIMQWuyRiEwlAgzpTL5VIsvMs1jTEKDLSzehwP10HuayhZBfEv0F7pcUVylchsRjRK7pXcXbv3/KOYZxl48GqqH9hWXOcA+4Dhw+APL0BjQaPMj+u7WiRgJiZVIcm7+fE/PJfT6SwtLf1y21cSiQSfROzC2A5vxgt4l6uVu7u7GQxGdnb2fw/2eRTJn/dh7WDfkHXJt4/DAXjR3KlEFkZigMVsn2FkFCy5yZd4kTQanXm2rqVNIpOFHz4CAbDSJnniuTPnU/nwGczicMDtTyKT3aiqrqy9I7/fExIWSWeeVT7UQjgCVmAIAKO882wf1bfP/PSp9gkJ+zicbdt3wuR1Of86zFOVtXfyy8VK3eOGu/cYiayLmTlglWIkso6diFVotLnCki+3fQVGrR6D6VpF5flUfn65WCKTQcVKm+QovhB7lq8C/L1dtm9o3NjY+feTcSeB6iN6JhphAmWOcJcOcME1Tr6cm+ML+NFx9Jb7P0NsBwZ8eGGJ7Vs/3T6chO1k3MncK7nkROvnQ3kMFngoWT7N+HXB+vr6rVu2FhQU/P5oCMd2gPchFQXikI5A22w524d6PuH9Bu4RQMKVSW7DpxJALvA1jo6js1IuqM1D8vs951P5iefOAB9+Of96+OEjwPaxOJzzqfy2XrXJMZYrLImOo8NeVsoFUOYDE8a1ikpGIgsDRLDn3qiqvpx/PebUKcHVPBQmYnecT0Xvh0KjxbAPwGjoUTo3PUM99KS5UwkAFISvki/xzqfyb1RVC67mAXKFEBDq6Pbus31Tz6dyr+SCku3qPJ9Wx/Y5nU6pVAo8H/iNIRMhQenN//brqxENwD7AEy4jL8EzAf7Ae+dsKrSXQH5FGZlhB0KFQiFKiXu9MDmFI5VKs7KyGAxGYVGBTveIjCMDr38XJvCrqywlC8GdDmE+g8HwfX5+dEw0m83+pbmZFBR0uzKJUfy7z7Kj3KGqK/Jaq+37pbm5rq5OLpfr9Xqn00mCP7dbL7vYChvQ2DIx+ay0tBQCOFzulWRDYNgHLYLtuYD/lkNz1EDj+jmb6mZhWkxUBD8tDSV9XvrE9RjKPAsGT/3ixYzRaCwtLY2KihKLxePj4yhx5wISaoZaJZ/a83SSCHTVxlqwfcsrFrZ4/PUoiWsvPA5Me+T7gE/0OAWvrg3sg0HJ5Bjjpmd8ue0r4I3ALqk2D6mHnsjv97BSLhw/HQ/M39Wi4vxy8bWKSvCcljbJqbAPfFogkO5aRSV8NgOrJ7/fA6aSkLDIxHNnkMeLlYiKc3d3pg6PKyxjti8QIy9+qaBucU2ihTUUcIFRHYy81yoqn0w8A7bPYHNEx9GBGWWlXEi+xAO3POVDZEHSWKwAmi9m5oA87fHT8SFhkUgyTPc4v1x8/HT8sROx3PSM5Es8RiLrcv51iJ6GikV1taqadFXyatg+an3iykQKKU/GBvVIh9lNGAWc+UAk2frMXFhUsG37zp/qJBTvXi/tgq9LLOA7wmaP8Cz3Y/1Ym1+Yr6ur4yScgtQdQ+NGvWeZ34pu36TROvAvDXj1dXR0+B62vD4TqjWQMHU6nePj4ygHJXJ2eW1ter3aQnd3T8ShyNRz7MedndjOuwLse11pPRsJs33Lc/JCSAeO5NXbRowOp2FktLL2DnwyAhkOH6PnU/l05lkwSQDbByZacB9RaLTmp0+zi4rjGF9X1t5JvsQLP3xEcDUP5DQlMtm1ikow4C7ahYcczhtV1bt277lWUXmtojLiUGQc42ul7rHeNsJKuRASFgnRbS627yHiICNptIuZOWrzUHOnEkqCYR+LwwHFJvn9HsPI6HItqEBhH2VK8N5ka751dnZWqVRSFTcCBfeBwz7kb9va2hpz6hQz7gTGfIDkMLyABarfGDLsUpAfPhKQH8QTJP/twMm4k4skU3fzP/OIH4PBiIqK4vF4paWlKpVqYuIpruTXvc9eK9ulY9fR0SESibhcLnyyn4w7yWazs7KyampqKSIj0DE9xjKvl/W50YUY5uZmZ2ftdrtcLi8sKkhO4SQlJSUwmUlJSVwuNzs7G0An+Wg+r+Z7x6sXL2bUGk14xCE67ZirUcb1uJI9FuZsqqeart+He6g83/Jj5sf1vw/35HxzISYqorGx0Y+oGleNOZ3O7u7uioof+GlpjERW+OEjIHQlFou7uroIvUY02pDGI9+PReB1rNtH8e9c4RSvu5a4CrKSYbhz++ved1zDNRYVwydi0Wlyi/c7zs7Odnd3RxyKZHE4WFhgBajkfRdh5F1i+1IuKB9qTY4xiB7FIR0xp071GEw3qqqPnYi9VlHZ3KkEpzQYaQHKgDM0dtoDEHPsRKyoqgJCEG7VNwHbx0hkAexbNVJ5A9jnVu24ZtcS9hGKNpfzr4OR1/L8ldHhVGi0MDcBqssVloB3EEwoN6qqFRqUEYDOPIthXxzjawT7HiKiASTMzqfyQ0L3Iys8hxNJo0mb5AqNFnwxV20ux7DP75y8eNTyOnD5hH2Q6wLnxuALUOhkR0eHe6fADeJ1wdWbwETrdDodDsf4+Lh7N/FaKq9XQxuHLZZFs2HYgdAu9V1IELccrQLzty66fUCnTRqt3c3/3LV7T0Zm1qoEctGUaTYP/tLcLJVKVSoVqRDr87G97iDqccFms4lEItDwmzRaMfKjUn3UkI4V289LYyxn+3SYnbZY23rVdObZ8MNHsouK5fd7QEQepC+he4B4MphWwcir1D0WXM0DF8C6ljZuegYjkQUwMb9cDBJKi5+eoUfpe4OCWSkXLmbm5JeL61raLmbm7Nq953wqv+Huveyi4m3bd8J2OvPs3qDgXGFJw917iefOhIRFgmIf6Jo2dyoXdQqOnYg9n8qHmF9WygVGIqvh7j0k/hcWCZgPItcgw4eH/3KgsM9rY63rRrJHQfN5acTX3n0VsA8iioKDguQ/lWDbrgdogFWw+WLFEBQ6QHqY4QVsWJwf18t/KqHTjuV8c6G7+Z8SiaS0tJTNZifEx3O53KSkpIqKH+xLyQ9hdHvt86EDAHsRh6J0YTU1tcdOxO7avSf0KB35kl4vE1wvg3dpx76DAoHAaDRCF/Pr6q85CAUrQK+vqPgh/PCRHfsOHj8dD/e9mJkTepS+Y9/BSBrtR0mV1Wp9zcV87H45Pz9ssRQWFQD/imy7BFeHKxkvQDCHuavsH8UISQ/r2gGO4wNgAVoKHUxoVtNpx7hcLuFeCSXw/qZBpTkcjpqa2phTp3bsOxh6lE5nnoXPrZCwyJDQ/bGxsY2NjWSYiPfreDzlzPQ0ktGZeDo7O+uxy+9VNPBOPZ+amZ4mTTTU2ZG67LokpWd52UuMpXi711KsBdtH4Ydcun2EvAhKxYYErUZ0FlvD3XssDuf46XhwswFP6xtV1YxEVuhROmgaHD8dz03PqGtpu1XfBG0BOOZaReWu3XvAXxAGw+ZOZfjhI3TmWfn9HgQ4yJgS75AUTwfLFlYF+6jViAAEtQ+uFewD7T2FRns5//qX274SXM0DI9WNqmqwC8nv94CfUuhROijmQJQMZIdiJLIgWFB+v4fOPAuSYYKreWC2ulFVDaaq/HLxl9u+io5Dw8vl/OuVtXdARDbQalw63m+2D95bd4MstZe9HvYNjOlb7v+cnMJJYDK12j5qq7xuGfWIqedTRqNRpVIZjUaDwaBUKrXaPvcQfmp5Vr4kGjz5Av7nX2xu7Pw7CfuWGD7s27e+un2/PxqS3274/IvNeXl5pFia/8/gyj1vNg+CW55cLqeMQSs/v8de1CtmpqdVKhWddqwoI/NZ/29ggPbAfFTYR+1F1MvNzs5SUPnSHgz7qL598JXZ2z8AgizJl3gQhCG4mof+XS+7Vd9U19IGq/ANdDEzJ/kSDzTQBVfzuOkZZZLb4Crx7ZXvWCkXIAxK+RCZFXRWG8RqgKsfiocfQm55ucISRiILDLLc9Azpz/U9BhNgRzrzLMRSgeIAKLBfzMyRyGQNd+99e+W7y/nXQecFwtbqWtrAwAElB7zISGTJ7/d4ZGYMFPbB1OJ0OgleBF6MAF6Ppar3dwl1s9nZWWQ7czleBHw7P2Afnt7QxV/OzSmVSgaDwUk4BaySi65bhufA1GvuKhOls7KyslDMx3902PkP4wyX2fG3X4HwA27pZmHat1e+y8vL43K5uVdy6+vrv8/Pr6+vhwRiMOn6ep+XVx6uHKfTWVNTC3FI+eXi5l/N6qEnDwZHHwyO9hhMNa1dwBknp3DM5kECZMCzL7+kv1uA0wKNG4hML5Pcbv7V/GBwVGcdeTA4CnwAhJPn5eUBrvX36uRxL+fnu7q6QB/b3FUGLn1e+Vcw75q7yuL+ujn0KHLhh4Nxc1AXAPbN2VQ531yIjolubGwEJT8fNY+gldPpFIvF4YePhB6l55eL5fd74GGbfzUjn9rrZaFH6eGHj9TU1CKT+pLVmHwSz//d3j3PnQGsvwI/UYVCQQbhufF88Ia4Pxe6NfnmLL8T9fTle5E1fw3YPkKsFAbA7KJiVsqFjMws8EJGAnKEpLBEJsvIzLqcfx2MiRAVd62iEtxgkFfZAMqoBGNgH2Gp5KZngMuNQqMVXM1DthEOB7QRGu7egxBUcEd762wfIq3BFEZOr666XSvYB0C2uVMJ9QlTAMhESGQyhUaLAhbtSNGwTHIbVCbAmU899ETaJE++xBNczatp7YLpLyMzq+HuvVxhyflUvuBqHkxAettIW68aCA6I/3BL+7YMIi9huxV2BeLb93JubmLiKeUziTopvAb2DYzph8aNoqqKhPj4n+okT8aQR7XX99vbRoT5Ojo6+GlpP0qq7Hb7+Pj4L83NPB7vR0kVSft5O2+lba9EVRXbtu8UVVXoiVgTDPWA5Ft33z6Q66stu7V1y9bS0lKiqAHMCrj6nE6nRCLZtXtPe3v7Ss/rxz6HwxEecSj1HHt6yAFs3wpGXl/Xs9ls3+fnSyQSMt2e68DJycmOjg4ajZZdVGx++hTJeJLvpXroCYib44S8IKoHvq44g6RS97jHYIJUkgqNFmdCRBLNFgt4/gFMRIZauwPl4bDa1QMDNa1dt+qbIOkkSjpusSl1j+FIYBZd+XYJRAjwDth48LRAkw1B9eGSgM8fqElDcBmEuWEVAxaHg0pltVNHOoB9KMwtdL9UKvVVgXj7zPQ0ZKNSKBSkwjDucngBH/7mCy7y2GwenJycdP/C8/fiGPaVl9+kuHG4PlGwhYu4HHrbZ6anxWJxTFTEzcK034d7gFXyoPEA24FL32JsQdxfN+/Yd1DWIEMIw93Oi42M4BE4MvZvaXVxTFREVlaWrEFWV1cna5CpNRqDwSASiWpqaqmwzzd7DVXtmrbJmRuVXC6Xx8bGhh6loxSCjinz+Dz8szx/ZR6f1zummn81X8zM2RsUXF5+c9hiCbBKYTSgNjTaMvV86qc6yd6gYDrzbE1rl94xZRqbQfLmjikog2lspqa1C+GhiEMVFT+QuMRrC8It8C7XHV+8mJFKpWEHQqXVxdAoLg7VHYsjIEiwgOausuDNm3bsOyi/3zP2YgQkXainLKFzIuYGWNi8vDyHw0F5JaioCJUEajj88JFjJ2Jv1Tc9GBw1j89D3UI9PxgchSeNY3wta5AR7xtuLPxQ1AV0i2VEHT7As6pXeCWMRqNYLM7Ly4Ps1Tikxp23Qx0KeCaSbXIVYGZ6Gv6BOjp5I6gBXB7qwlrAPlI5AY9jEMnR2z8AGTX6hpDVBVKQK3WPtU9skJ0cnM9gNAaHHLTlodbocPb2D8BFQLi4rVcNQzfk8FDqHoN3zVKOWnLM9wudkAevgu0DcQCzefBHSZWsQUaiBNcL73A41iY525AVQp5hjgA6ABKfqIeeQLYSEFgGsdhb9U0Nd+9BHg6w80LtwfSH6xmuA6J9kCIPPufqWtp6DCa0hULcBlSTroOXwT5yWKO+crCMDBrtba11dXXgr0ICD/Suzi/M+/LtAxQ1MKa3PjPnXsmNjonu7u4mWfnld/GyBURk+WlpPB6vu7sbmHWj0Qj+2b80N5PzC7XbermO+6ZXdXV1MVERXrP0UiHgekXy/v5oaOBfmluFouCgIAhMIyvUvZw+11xPO/V8qrW1NTziEKEZ4fNof3aMj4+HhO7nJJwC2OdVwA+lDzZYZp9NLfu2dpVHp3u0a/eez7/YzGazpVIpNuUA7DsKsA/yp5G9Gr2LxJco9BDoFZCEzTUekXtBHhPSaZCJ11yewnAuEGwoygl3DEJIHZg/vBGR82TSIZxKCGyy+L4uEy3l1kSCxRFI9Qa6M3q7Q6l7DBaT86l88BHMLxffqKoG+VN8R6xTA3qnNTW1r20RiDk/SqPtDQrm8XiyBhnhjRTQW/7am7gdMDM9XUr8TCbT6kxgGPZVVPxAdkt8Cyi5G9QYHx8HzciuFgnI8lGhG+aKEBAk9FkwwpA2yZEyMBFkQCWi8OnI2jiuN3eVcRJOZWdnD1ssdrsdUnI5HI5G4ocCC+bmcPlet+AqOUzhwxYLl8sNJ8R6MN4yj88jEEbBf0rdY+D86uvrybn/dfdx7QcHMlhxNfr8/Lxao0lgMo+fjpc2yeFeeruj5f7P+eVijD4B+SGviYhDKpWKfMblbw4xdrt9f6MtNpstOzubTjvW1SKBSgYMh+E4BuIA+/5RzAvevOmjP//lRlX1yNi/AY7jtoMFfIVXU/2q3g5OwilOwilKvLNH2VAx1BoNi8MJPUqXNsmX17Dr2R1Tt+qbQsKQVy5EZ5PAy2slo7uYzYNSqdSbbh+0L7o1xmHkgsfVXkH+5aioKL6AT8nwi3DewsKriYmnKpWqpqZWTPykUqlSqYRQG8jdXFdXJxaLRSKRWCwmxcM9asDzjmvA9uHxlkgaAUnDPC0SVjtkDAN8AMMmjJZLH7HEkAj5NjzGakjmRv2kJ+7iJal6QGDFB+zzqCK31fn5efBPjY6J3rZ9J0xG2O3BQebkvVFVDRk+AyqP58FEfZIZO8mHxRMQVDtRaa5piNgCiUBd+dbIvTDfUfGiR0O4Uk95XBy3rJ8LFNiXlJQkl8t9vOeIZnY6nd/n5+8NCo6KiiooKNBq+/DUMD+PYN/gGIqN8HCSgyS8Q+NG6zMzip+NiSa7p1szrbACIrJHaTT4ooNe+XJuTqVSnYw7yePxhi0W38X2eeGOjo4EJpMv4GP3PhzGC/6I6+jbN9pnhniOoozMqKio+vp6n8X0ucM1TKwh7JuYeBpxKJIZd+L3R0O+fPuQxLR1BDf88tIZjcatW7ZCAqWtW7YmMJkVFT+oNRqHw9Hd3R0bG7uc7XP1IvwqQ94zvEp2GxeEAgcRX3upIU4rupJAUBu6JlwKXxCv4i3UvoSPJ26ksVjV5iEk+0wk4cbiTJCEe+nixBWobJ8/LT4/P280GoODgqAyYfCqqPhBr9eTQrXLq/+Ntkw9n+LxeFwud1H0ZHVC6hj2icVijyuMj493d3d3dXVZrVbYNT8/bzYP8ng8bOHF4ICK5BDaIJSZzV1lhUmhW/70x4/+/Bcm/1pvv3J+XI+xCPVcHPzx+3BP6jk2jBHkdI6IE4fDYbPZyBColSrNbrcriR9y8nUhJDS7t7e3h0ccYvKvAQuld0w9GBwtk9wGF1Lg4YDzq2nt2rV7T1ZWVkCut6A42NXVtaicRzY3IsCkUmlIWGSZ5Da+r942Iv+pJPQonXdDCpwfQCLIN11eftPdFcbtYV+8mOno6AASFIcA6/V6yHeMfPVIShW3CKbuXo1onmq6ROmsuL9u3rDh/Q82btyx7+C3V74D+zsV9mEsjjYS2TtyvrlApx3T6R4tLCyMj48rFIpfmpu12j4ygdvC7OysWEy4zF4vA8wH7Omt+qb8cnFNa9eDwVH8sEz+tfDDRygCzm7P6LGi1miSUzgg4uOxa2FhYWZ6GipEpVKRsdjLj3plNg+KRKKQ0P0gCQmx27jwExNPFQpFefnN7/Pz8/LyRCJRa2srUJvgl1lfX597JTcqKio2NlYul1O8OJbfC7asDduHRlqPYW35Kh4AqQe7j7puXsvuQ+JSIjKPYRMP49Tt/i1j2Af+OXGMryGFqa/KwttNJlN4xKENG97fsOH9z7/YDB69Ot0ju90ukUgYiSxQolkefucJ7FYuJ64xXJl4wdeJuD5x7VFPoe4lr+BW5+TGwMqJzyJ9+1CkcApnZcJo6vnU9/n5f/jww/fee+8PH35Io9Fyr+T+0txstVoB9kEkLxU84WVg+xLPnQmPOLSi2QG3GF5ALCOPx4uOiSY8AtEnGQzgNpstKSkp7EDoL83N8JWFz/Fj4ZVKpeILkBhIy6JFrqAAACAASURBVP2fCfe+t+vbN2m0Pu7s5KelJcTHg32WnFT8KDw6xAX7Jicn5XI5Ck5Bqd/f6Dcx+exk3Elm3ImBf2mWG3khaZuzz+ToGzD5/rW2tn7+xWbITAp4ZdOmj5OSkhobG2UNsqioKBTJ643t8/cNxqCQ6CeuRJDUPoNfbljA/Qpvx50Kb/G14HGkx11g1WIFEzNysx1CKND7gxDCnj0G09Wi4r1BwSKRyHcVuvYYjUa5XL5t+06PyuSnpSkUCpvN5oGr3qjtiZOpcs3ExVdmIDxuiA6enJxsbGw8GXeytLQUJUV9PoX/qTUaNpsdGxsLUbQOhwNIETabLUpnYcc+0G3xwHCvRjTg1Re8eRMM4h/9+S+Cq3lqjcaF8Ei1F4wwgCBE6i3prAQmE3LCTj2fmpycBGf8melpXDZfC9C5EphMBoMhlUpNJhPEy4+Pj0skkvDDR25UVWNQAvmdP9i48aM//wVp2P5qBtqv+Vcz8u8mwPTs7Cz1vtjYBwu4GDPT08MWi0AgOBl3MiMzq6ury2azTUw8dTqdhUUFoUfpcHFwImxtbb1ZmLZj38HwhO+afzWD95vl+aua1i468ywSvNRoxt1/ExNPJ4mf1WpNiI/ftn1ncgqnhog7djqd6IM4Pj71HNsVw0vYdjHsQ9CNyJjyVNMFPN8HGzfCvz98+OGmTR8z+deMozqqBI9Ho8zZVJBJT6FQwDuQEB8fErqfy+W2t7ebzYPj4+MOu10gECC/PcKQbR6ffzA4CnJLH/35L6FH6ZW1dx4MjgLALZPcRuohhCI3NDE8HfwFzyT4O/V8SqFQJMTH517J1Wr7Jiae4oqBA0wmU1JS0q7dexLi4xeDdQwGA9Q8+aGLXvL5+XmTySQSiRgMhkqlAv5AJBIBsAPztNFoVCqV7e3t7W2tCoXCYDAAtgMrs8PhqK+vT4hHZTYYDMTFoa/56nFrB/swmKMOjNRlX4Mh3o4PxuMhZQFZWvCRsICP99ju9yqGfSDgcpRGAzvSykOo0WhsbW1djNLDeZw3bHgf0vpBCDzAPmAoPcvsd9k8T4SHpVSIJ872uDI+nlpL1NPx8XgjbkG8K9AFCtvHYDAkEskKNanV9vHT0gD2wYT+wcaNIaH7S0tLTSaTw+HAsG854QdsHzPuRNiB0PGZ//OYMFZYhexKXC73ZNxJk8lEHonAn9VqTUpK2rZ9pzeDEnmgz/9Rfl5I1wSwzyNRG36EdcnJO9Y3+Kz/t+7mf6aeY3O5XJVKRZTTV5/3+RALCwtTz6fa29vDDoSujNlXugS5b3HEBDWZ7uZ/Iq++RyhZMI7qcPaZnH0mi6a/tuxW2IHQz7/YvHXL1s+/2Ozxb9Omj6GbYbACWUo//2LzIkKHsFkvsC/QFxcfT+0MeONbWyDurrPaDDaHweZAIwjhUOiiEqnFIGHfopA9zI4e9eZ1dYXK5PF42IBONuCb/j85OZmVlSUQCKhMvt8XRX0S/LHCDoTGxsbW1NQ2NjbW19fLGmSNjY1ZWVmff7H5g40b//Dhh1u3bI2NjRWJRN/n5zPjTmDHPg+DIMAFsNUCz7flT3/ctOnjz7/Y/Nmnn3z+xebwBIJbIrVFMLxwaf4RXODNwrSoqKjs7GwoST3lV0f86uvr6+rqlv+FwnO53M8+/eSDjRs3bfoY0IBUKu3o6MjKygIhIXA4A2yHJ5jPv9hcJrkNiPDB4CjIQOZeyW1vb5c1yChF8L7Y2NhYWlq6a/cegFOff7E54lBkdnZ2aWkpiI0D1afTPRKJRFFRUVu3bP3oz38BPATgz/L8VfOvZkg5nZzCKSwqyMvLy72SC0I2BQUFIpFIKBQKBILPv3BxdfCAoAITHRMNWBxbbDHswxI5gPm+3PYVJ+FU8OZN4B8SvHkTpL2hmuBxuyDLOxGII60uDg4KSmAyhUIhPy0NXowPNm787NNPgoOCeDyeUCiMOXWKzjzbYzBBDde0doWERQLoRxNPWGTzr2bT2Az1SQuLCmpqan+UVInF4oqKHyoqfigvvwn/wHthkYTm8Xjbtu8MjzgkEAjKy28WFhUIhcLCooKCArQgEAi2btkK5OWmTR9/ue2riEOR5eU3zeZBCrXwymg0ikQiflqa1WpdZN+5XK5QKMSKME6ns7GxMTs7m0v8BAJBTU0teGjMz89PPZ/q7u7mC/i5V3INBgPpkugyMfvobmsK+6jj0v/CMoZ98vs93PSMzz79BAYBr2MmdeNnn37idTL67NNPdu3eE0mjoc82q/1N2b7/hTqkwlONBUl2KzTaOMbXmzZ9vHJlfvbpJ3/48EOPagQAHXYg9EdJlfaJZmBMjxk+6gKwfSfjToYdCF3m8+PjTSf4LB+wD7FdNpuNzWbv2r1HKpWugvgwGo2FRQUMBoMM5vXC9q1jTt5Jo1XVfi/1HDuFxQaiLkC2z1VrCPa1rY1v3+TkZAKTyYw7oWq/hxz73GEf4D9nn0nVfq+uru5HSZXE2y8vLw/yZlJh36ZNH8fGxmZkZoUdCEWRvO4hHdQ3MrBl6hfSf7fvvRZ9krAPQv3ZbLa3ynPbJhaLs7OzqdQpVOmmTR+fjDspl8tJP+WFtfq9eDGjIH7g9BbgC4nmrdnZ2Y6Ojr1BwVu3bGUwGEhPLj4eJOXCIw59sHEjfis2bHh/b1BwJI0WExXhCh0gJJo9jIOAEgBhIJaUMCmGhCGBybi/bv7oz3/JLxcjfzJSxg8jDExK3SxMCw4KQiAjPt5VHqJIqGA+/sFhScQvOCiIWuwPNm6MOXUKwAoEVWDYh3kFsIaAyRVoqouZORGHIqOiokA7xnVfJhMqZ+kvWZ6kpKTomGhqPwIrVWxsLI1IFQiwTz0wIJfLCwoKOAmnvtz2Fdh5eTeksBcCSr7c9hXSx09Lg/wrAETCIw7t2r0nNjY2gcn87NNPcKN8sHEjVFRMVERRRibEc0CLuCA4xNAQkRyFSaHBmzclnjsDcTahR+nyn0oAnTP511CqFcI0D0ZhTN8iFvA/OoB9YQdC4YPe40m3bd+ZEB+PNOpSLsCzWJ6/ulXf9NGf/4KL+uW2rzAR2PyrGdDAybiTUMPQdvCXSMXp+sPlcuHK0THRAHBhR3IKJzmFw+PxkpKSqBWyYcP7X277CqhBkvBDc4/BYBAKhZAjDnIWFxQUDFssOGTEYDAoFAo58Wtvb9fr9aBTCNKYSUlJJ+NO1tXVQXzixMTTZTFbHn16fWDfa0et/+6gSt4dwz6IaQVfZ7exctnKj5KqHyVVuVdyweMIvzaQMjs84hCDwYhjfE349qHIv8DmHbJg/6NnaSxWwwiK+melXAiPOASxscuq0LWhvPwmZESk1uGGDe9Dcge9Xu9BmFFhH7B9APv88ahZoPwgd0DEoUiFQgHmXWLnK7vdnpSUxGAwCBeRgJkyENXHsM+j8EuRvA4HkUidUqCFhff4Ar7bBm8rL+fmxqwjjr4BnPQCM2fA9j3u7Mz55gKDwSB8Kpfstt4u5nMbsH3hEYfWxMgbGxvLSTg18C+NC/M9GsRlHu0zg4V3emgFR3jk9fLltq/wKwLUDpvNbmxsbG9vj46JRr59y428q+hIRKyGYWTUYHOgOIxVXGFtT6FiUOoy3IWEfVeLikNC98saZD5blLJj2GIJCd3vUZk8Hq+9vZ1CElBOeKNF5LIGpi7QcAkc9i2Ar1jYgdDgoCB+WlpGJuIOBQJBVlbWybiTYCkAUmfb9p0MBoORyKLTjnmwfRj5gSzcU00XgInkSzxzV1lMVARGGBs2vM/kXxscM6JwEAKRLMEL0hYJsA9SA+HyQKlW/gvEZ1RUFC72519s3rZ9Jz8tTSKR5F7JPX46/lZ9E44qpTPPwpGAFXCARY/BxEq5EBUVxWazc6/k+lOGjMwsNpsNPNyGDe9v2vTx1i1bUQABoVdMZ54FMPSAEItRDwzcLExDobuEkRec3szj882/miGaJPdKbk1NrYT4SaVSiUQSHRO9dctW4Ki2bd8J3+6ff7EZaNHs7OwV2D6sm1OYFPqHDz+8nH/dTAq4dLVI/lHM2/KnP4YnfGcwGCB7L/YFhNaEOF+E44OCuFzuj5KqjExEAwPB9vkXm3ft3sNmsxeTpx07EUu1lSO2L3Q/5lNBL4bK9kHTCIVCRNwR1B0weULyJyJ+QPsBBQiMYEXFDxB7IZFIhEIhVMgHGzdChQgEgl+am5ezfeXlNwUCAbB9fAFfKBQqFIphiwU+xl7Ozb14MfPixczM9PSLFzNkVA0yzkBCmuiY6B8lVXK5vL29vaOjgzT1+urA6wL7XPkkRkZdcWxrOx6u3dVcsI+QMrlKSPGT9jFf1eXavtg6UVFRmKn6YOPGrVu2JiUlQUOzOJxrFZVrxfa5bD4jo15MPWtXFWs1zYGmNDc9g8vlKpXKFerx5dycUCikGnk3bfo44lDk9/n5oA+FjbxUwAfLAPsYDEZI6H747FnhRh67Xs7N1dTU0mg0kUiEQ4AhpAOcNEiX5cCQn8vIy2Su4Nu3LmwfAEGI5HUP6QjgAQD/zs/P2+32mpra4KCgX5qbKT4iHnXo1yoO6fAl1wyw7/+MT2afQToQ6mVdhdfr9UBQ/eHDD9FALOAvpkCGj9quri4ajQa+fW8O1NTmIcj/09ypVOoe9xGpG332CuK7Vj30xOUL+Np+SOC2tfWixbp9IaH76+rqqHXndfnFixmttm/X7j3AHu3avYfHQ35aEI6KnTu9nrvajWBpWu3ZhEd8a2vrybiTQqEQ5BvBd8rpdCoUiuiY6L1BwVwuVyqVGgwGIsqnh81m53xzwcONDKf5Agtv3F+RRwHiiQmEsWPfQUAYH2zcGJ7wnfYJSsgGhl3M9iHfvv/osG8fpB7Bjlx+LoAPVsShyF279wgEArlcDu4sTqezrq4OJYChBBzUtHYdPx2/Y99BpN19vYwKv0LCIrlcLgiN+nlrg8GQnMLZGxQcGxtbUfGDSqWyWq02m00oFCLUe78HK7YYHc6uFgkr5QLmF/WOKaDHQo/Ss7KyjEbj5OQkAHpYEIlEJ+NOtre32+323Cu5R2m0jMwshUJhtVqJlBg9CUwm+PZhI+8SniYd+wD2QaMEb94UepQOjRK8eROdeVY9MIBhHyByF19I5OooysiMiYpQKpWTk5Pg9Emj0Xg8XmNjo9FodDqddopvHwbWgutlu3bv+ejPfwkJi7xRVQ01bHn+iurbt3L1QiVQ/2IvQNhotVrhE0UgEHR0dFit1vHx8cnJSfeh9RUEqAHjbrfb29vbwY2htLRUp3vk+3sJ6e+0t7dnZ2dnZWWBZRnkJMViMZ7bvHW/NYZ9KBZt6AkouaDx8yFKyIu90JbGSSJGlbrdNcDCZ637x+3SWa8dXQM8gMr2QQYmguNYebpEgfB6vT44KAi+ar7c9hWPx1MqlRDORRFwWQO2D09Gbb1qlxzYa5lUXIcr1obbhOVe4T4nuxUviM6i+Pax2WwitMBXZaLQiuzsbLDzfvbpJ+C9M2yxIJGvubmVBVwA9iWncKKiorzmvfD2qru2QfBTQUEBAFMb8dPpHhUUFPB4vI6ODiA+fPc1r9d+pVQqwe6BI3mxPx+O5AW55mVaJYGwfeASR+XMkAZK3yAWcNm1ew81s7jXwnrbiAJbJicnu7q6srKyIg5FisViIkDdV/t5u4b7tsVYy+CgoBSWS7eP6tiHy49z8vqqboPBsGv3nl2794hEIq22z263w5EgvegScCGMvKt/a4esOkJ7D9JjhB6ll0luu0QsqW88MWa5oBt1mTwGNF+gG4ASAf5Qo8rBrBX4A9iXTYR0+CPgMjM9rdX2RUVFhYTuLy+/qdX2UYJJ3VtubdbQGwW9i4xJDBgFTj2f+qW5+WTcSbFYTDGKofJNTDxVazRqjcZms8GX3/wCygaReo7tQhgjKD4D4zbQ3ns11Q9Qb+uWreiDgYB9KG/eTyX/KOb94cMPMewDOy/1dMgGlnqOnZzCIaL9V1NNDodDpVItyqbY7XbsSgLyIsdOxNKZZ8HDDEBY86/mhrv3IKgCO/bll4t37d5TWlqKKR9/yjEzPa3TPVKpVCaTCVvzIZEdjUZj8q8pdY8hUtgwMooE0ohgDowFHwyOgmQgReDKdduXc3Nisfhk3MnW1taJiadWqxWwLLTX/AKKV0Aj498OqHo7PCJ5wbEPCDyAfdz0DKqRF9g+bnoG0msY12OFHTgFtRERyZt6jk2nHdPr9TgAwmg02u127AAEhcQAGp70weBow917SIOTUKgGzUK9YwpIzdbWVnz6CjUMun2kJrnngS/n5oYtFpPJRG1u4iDquIp4cYgdAcW+qedTJpMp90quSCRCNOc8loDxvD6k07Tb7TabDWq+q6uLn5ZWWloKMR+eJ7jW1xj26ay23n4kvIySnRAYGn05uyMVGBJd+lYQRoBRIBlXRx0bXcMpXARjmrVAKh6wL+bUKcKRndoiy6sNtZFO9wgEXPLyUPgXVi/Hun1vLuAC+nxK3WNkxgmLPHYiViKTEVJf7gYoXCHE7IOFb/D0hCof17+7ahjMUK4D8DHkLLaaaZSM5D2fyvdTwGXX7j0MBgNob8zbUSN5qeAJqD7jqA58+0DA5XV8tvcWNJsHZQ0yoVAoEolKS0sLCgokEolW2zc5OblCL1t+LbyltbWVwWB8e+W7LvXdoXEjtdhvQ7cPVPFqy259/sVmkUiEi+X3ApqkQdFXoVA0NjZCvN4bkEDIWTLsQCjAvkmjFUM96oIL9o1N+LgR+g6WSCT19fUkB+syXkOWjuiYaJylYzXvK/mu6yw2tXkI0gFBvkLq1yqIGwF7D1JJEGmBoi5sI2DRgLw6BoKThwEL9mLAB3pO6PjlsWlkMQJ6BMz27Q0K9gf2vXgxY7PZZA0yuVxOqUyoz5WHPL9fIrcDkah9TU0tRMmBA7svcO92HmVl6vmUXC6HSN4plCEa/9DrSrkaApTz8/MOhyMrK4sZd8LcVYbVWFy00DI3MgQmSHsiuJF9sHEjNz3DMvAAjLwY8wHVBwiDk3CKL+DbbDZSLRmwrL8VSHXkJx8Gldxut2dkZu0NChZcLzOMICVhiCoFagqWLc9fNdy9F3qUHnPqFCVaf4VbL+Fs8BIj7+jqRC8JyRsulwsaLpgGA7SHMZ9pbKZMcjv0KD02NpaqjQcD5cu5ucUYhdjYWFmDbPl79XJuDijAmKgIEFP04jdJ+PaBw+WOfQdvFqbF/XVz+OEj4Hm55U9/zC8XI71TMo0KtAsYeQHHcxJOsdlsomzLawNV78v5+e7u7jjG16FH6TWtXfCk8BfwNCxDwDLkowOxSXIywK3sueBwOBQKBWW09DhgqcrJNxYfsLRr+RIktxSLxaQ+mZfnWn4WyPh9n58vFovd+4vHsWsP+zREjo0vt321Y99BiUyGOCoSUgDDtDQAWpEMKqyCRw0MklQ9PxhO0TBrGwGYorPYYLBdAo6rGjbBjINU7uwOiOSNOXXKn+yu0EkhMAsr9sG0hWHfWgm4qM1DEpkM5aYL3d9w957nI0PtWShisbYRiAKEyQgqCjQUXRMTESCIbWIQLIhFFn3qRfhZwyTbl3yJx2azCR+z5a8regPhK0WpVNbX16s1Go/PqpVhn+E/WmD7vr3yHcqN3tWF8aLHy+171TVHgIRWV1eXQqEg3S18n7Tinrq6ukW7P0WuuY+K9jAK9MpNvqlv32ifGQg/+e0GZL26kuuRPWbFkrvthOnBXe3d7QA/VlCuuomJp+3t7cy4E0UZmThLBxXwwTJm+3zAPvSivHgx424TQUXAydkQZ/PGbB/SbbY76lraIEku0smzIMF0+CRCyTnMQ5D3sK6lTflQ22exNty9J5HJpE3ytl612jyk1D2WNsnrWtp0FpvR4Wy4e+9aRaW0SQ4DHKRWbO5U4uNdF/ezX3k7LFDYBy3rtTL9aNPVHDL1fApU0VcVyYvuCJG8APs8xgivBZqZnq6o+AGiOlxYjZALAdoPCL85mwoHjaIwgqCg8IhDyX87ACEdZZLbwCpRmcI5IoHE78M98p9KwEgaoGqU18LijQgHgIg8l8sF5Afcm+X5K/xP75iqrL1z/HR8eMShX5qbSYDlfXglL+11L3UjipVub2uNpNFCwiLzy8UPBkchcQVOX/FgcBT4RQaDAXweeXESO87NlZaWQjZbr9UyOzsLWvbgc/lqqh/jNkzaAXqjhld/9uknW/70xz98+CGdedZFExKwj9ouoPwirS6m044VFhWQdQIFpD4m2jIx8VTWIIs4FAk+lGC5xtVref5KZx2RNslDwiIhPGJF2LRUB4ualDweyiC8toHwkKlPIpEYDAbKp8LSfb0uzc7OWq1W0G1eUdZxjWEfoCiFRhsSFslIZKEsGtjIS1B6avMQ5Byqa2mT3+/RWFBOS4lMJpHJIN1Rb/9AXUtbXUtbb/+AyTHWcPceZOxF+Tnsjh6Dqa1XDVdo7lQuwRQSWQb0wYzZPkiJ5CfbB50Uxk/KBydqhzVLzkaO84aR0d7+gWMnYuMYX6vNQyjNMSmzAuxDc6fSlUHqoVZjsda0dtXU1KK5SfcYklTBZKQeeqKzoszIUJl6q93ocPYYTJAWBfJ/GGwODUx25N0DqkwoGPj2nU/lrwz7IH/mzPS0D4Dx+uRsA2N6aXUxyPdSwLfX3uBrIxps8T+PpvR1jo/tr4RC4dYtW3+qkxgJiWl3zOeK6l3fnLwQzAvO7zj430dx13UzGnBNJlN2dnYKiy2/3TBptHpN0eFPTl5fBQXYd5RGWxO2DyTO61raImk0SFytfWID4Xig+uT3e3AqyTLJ7R6DqbL2TvIl3vlUPqShbOtVQ2ZrGKFuVFVfzMzJyMyC9JF1LW25wpLsouKLmTmVtXeUusf4SyvgPkZ2zkBhHwGsPedCX9W7JtsXdeMg0hPp4bnSVwRWgJnpaTDyeiRn81U8pHvc1kqnHcOKzTieAxYgJxsWagbpli1/+uOWP/0RBFxAtBmMieAR6CILCce+nG8uxMbGQnY7Xx8qvsr22u1Tz6e6urriGF9D+vma1q7mX81gb23rVeeXi0OP0kPCIoVCIWmlBd5ohQu/trbR5+/ExFOcqVZwvQyblSFTLdw3POKQRCIhkNDSNWHEnJ2dXRn2LSy86u5G7n2chFOQqAOgGyZTAVXP2VRAvm750x9BV2XTpo9DwiIlMhkgeHQYoae45KlJNkp0THR7W+vyj0Nq1QAZLBQKQ0L3A/ID2y6oFTb/ai6T3KYzz+4NCpZIJF7xK/VqxDKqiu7ubgaDkZ2dTZiYlx2y2g2QU6e1tRXStfk5Oc3Pz4+Pj7e2tra3t6NUgcg67PW3xrAPmSbtDuVDBPvozLMesK/PYlVotGWS2/nl4uyi4vxysUKjhZTlLA5nkUju7R/oMZhgr/KhVql7XCa5/e2V7xbVqWCwhfHzKjF+XquohM/yVY+cGPZhts8fI+8K4+f6wb7jp+PdYB/BRLT1qq9VVOYKS3KFJfnlYqguFocDM5fGYoW887nCkt7+AYVGK6qq4KZnCK7mLU5w2ie2W/VNgqt5lbV3LmbmIFko2wh2RlpllZJsnz+wb4VqXFh4DewzEnlvW+7/zOJwEs+dIYWXvb7hb2PjzPQ0BJCBesvy5CLA9q2Lbx/QZti9L+ebCyksFOhKTrRv4/nd74FGw66uruCgoMXU9VireTnVR4V9gU6imO3DWTpW+coSKApgn7RJfuxEbPIlHmb7wPoAmTMEV/Pk93suZuYknjsjbZIrNNrkS7yYU6ca7t5TDz0BLYD8cnFzp5KVcuFaRaX8fs/5VP7eoOCGu/fyy1EC+DjG15B0Aa7/hp0tcNjn3krrv0aVayam5IBvGRDsI4y+yM4rEAiQ3jiZnw1TfRj5UaX7AGF8ue0rvoCv1iAdOGyFXDqRUAnpapHEREXwBXyCVXot5PL/YZesfpBLg5+WBj5SoUfpdObZ46fjAfDFMb6WSqUUzOfi23zfaQmi+TiGIBoJrKBUKtlsdkhYZOhR+vHT8XTmWTrzbEhY5I59B0EKlPQVW7qmn7AP8JZEIoEBARnQCQVEBOZIWWwcQIPjrD/6818u519HLUJEVVMxH3CE6PRxPTRKVlYWqPz7hkcI4KKSEAkVaDTajn0HIbaXyb/GSrkQepS+Y9/BozRaY2PjxOQzH9XlsRlVxWKEGUQCGgwGj91vsIpK++LFzNTzqZWxrPstUGuCr87U86kVx/91gX2Y7QMDiMvIa7H29g9Im+QANXKFJdFxdFFVhVL3+GJmTkjo/sraO2rzEMC+axWVyofa86n8/HJxW6+am56xbfvOG1XVucKS8MNHjp+Ov5iZkyssgUS02Igc6Mi/KtjnXtPua2sO+4DgPHYilpHIUg8MYEu33mpXaLSA9mDG2bV7T8Pde229ahaHExIWqdQ9NjqclbV3coUllbV3mjuVl/Ov5wpL6lrazqfyI2k0QHvbtu+8mJlzPpV/o6oaamPVlYkqn+Lb91q2z73mPNZeA/sIXIU8/L698t3WLVtbW1s9zn+7q69Aayk6Jrq3X2l9ZvYIPaYyf+uVk3e0z/z7oyFH34D8dgOddiwrK2vFbr9+9eOaDuvr6z/79JOCgoLfHw1BxO7KsM/3eO29qJjtWxMj73K2z8V7E19X2ic2+DyV3+/JyMyKpNEEV/OUuscSmez46fhcYYnyoTa/XAweLWWS23uDgo+diOWmZ0TSaCjCRia7VlEJY1Zzp7LHYIJs5W/U04as7z7sm5meBt8+UCALFNmDkTcQtg9Nwy/n5uRyOY1GA8Lv1VQ/5pYAWyBURyAPbO0FuT6s24IRBub55sf1loEHyX87EBUV1djY6I+52ftb62Mr+fKjOXt2dtZms6lUKolEkp2dLRAI+GlpBQUFEPbrHp65hMB8XPj1B4CHIoAMq9WqUqlKS0uTkpJCwiIT4uOlUmlXV9dioAwxmLhQf1nC0gAAIABJREFUBb6X/7APnAijY6Kxhx+k34WmWWogol0gUfK27TtrWrtQCAjh+bcE9UhhHexqGRMV0d3djcKGFnyGPhBldpV/cnLSZDLV19dnZGYlp3DYbCRxn52dvZj1B+vh4WdccQFVLzbyUtT/VzzJr50wikLzobfCv74DR1Jv4OsFWEfYR2eeRbBv6AmEF8Bfpe5xTWtXw9172UXFkYRUpEKjlTbJGYms86n85k5lmeT2japqxG13KkOP0o/SaBczcyJptC+3fZVfLr5aVMxIZCH9nU5lb/8AGj/B6PFmRt5A2D5qrXourznsM4yM9hhMx07EIraPgH1gNIcxv66lTaHRKh8inbxt23dCAOKNqmpINtNjMOUKS25UVSs0Wqi346fjky/xwg8f2bHvoLRJDmncK2vvQJjwm1p4l0XyruDb51lxnusrwT4cGGt9ZhZVVQQHBf0oqSLHQ1/vuecN1mgd3W5+fv5HSRWDwVhMdNTbrxwY0+tH+5YhP9eW9fLtA/e+sb7BgX9pOAmnUlhsSgrIt1kp6F52u110vTA4KEh+u+FZ/2/LhQYxBHytb5+vdno7bB8gM9CivFFVDZ9Kx0/Hc9MzlLrHvf0DyZd4ySmc5k4lNz2jrqVNbxu5VlEZfvhI8iUeGDXyy8VgIE48d+ZqUTFKEjD29A15Phjy3nnYhyYhs3nQbB4kOqfre8BXg3rdHhDbh69gs9lKS0vDDoSKrheCRDAQS5hbAqIIrIrBmzft2Hew4e49yAMBjCAmolDcwFT/78M90mqkj8gX8IFVwvdatwWUs1yr7evu7lFrNGbz4JpjTY+SA7aAxM2LgYpICP1KrtPpxOHGHsfDwLewgNLdvs7Ii06dnJyUSqVgf7cMPEB4jgzRgDrHUb0A+3bsO+iCfRSXviXw9x/dyNi/ReksXE7/gNHSQ0AkeHt7+y/NzR0dHTrdI3IKWTrmdUuusW4xrRElpON1J70T+9ce9sEgGR5xKI7xNbB9LlMJgf8gRuFGVfXl/OvHT8cnnjsDAA5WJTLZ5fzrN6qqIS7kKOFpg43C4CedeO7Mxcyc3v6BNx8//4fYPqpvH/gdqc1DzZ3Kyto70iY5WJPyy8Vgbjqfyk9O4Uib5NcqKm/VNykfarnpGYnnznx75bv8cnGusORaRaV6YOBaRWVIWCS4oRtGRoGuc8Fo0oMosNW3wvaR8bx91mfmxs6/n4w7yePxSM+Kt4xw0Fy2qKOJkvzG0Vvu/wzWZxzAQRb1rfj2OftMkPr2ViFK7+juofLW6gXVSF1dXWxs7K1C0cC/NGN9g/7APpLw8HdQdGP7CLnmwN5Uj/d7WUgHxOEabA75/R7oSNz0jMraO9cqKmEA6jGYnkw8Axrv2yvfcdMzGu7e6xuy5peLI2m0MsntJxPPYITq7R+4UVVNZ569nH9dqXvsYuw9ChD46jsP+1BTgmUt0CkZvwSrg33w4ZHCYsdERdwsTENZNyggA3N4wPbF/XXzjn0H61rasDERsAUcBphP/lMJ5PhCNkef/lK41Gu5QKnAt9CFXTiGn5a2bfvOrKwsH57XrgeEqvAD9rm4q5np6R8lVWDqBSc/sPa6WoQQxAYsXpgUyuPxVCoV9QDccNAoouuFYQdCk1M4JpMpUMsGbkRiARWPXAi07dCJZPzccrIt0Ku9tePXHvbpbSPg2wchHX1DVoPNYXKMQaxbZe0dbnrGtYrKMsltVsoF4O2eTDyra2k7fjr+fCofRle1eQji6q5VVOLxs2/ICqMufGwbHU7sdb26Mf/dh32GkdFFlz5QdNJbLEaHEwU+2x1gYrqYmQMsA6h3ITBnHjKMjIKADivlQpnktlL3WKHRXszMoTPPVtbeeTLxzOhwLoaJGEZGc4UlIWGR0iZ5b//AmhAQHrp968T2GUd1YDY1jvZpn2hEVRUgUR54tvc372WvJicnu7u7o+PofAF/aNwI0i3Lc8phILguOXmp5NnoI0T4pZ5DWerVGs2qZ9zV1c3L+Xmn08lPS6PTjqGcbAaLV7k+aoF9yDW/5v5ry/ZB3G6Z5PaOfQePn46vrL2DHNuJwNtcYQk3PYORyGIksipr71zOvx5Jo4Ehwzz2FJj2Xbv35ApLegwm7RNbZe2dbdt3Rsch8T+wXLT1qnOFJWD2VWi0RodzdaOVx1nvPuwDpy6Hw0GGAgQMXFYN+0BblRl3Ijgo6GZh2rCuHcyFkNTBpeE3ojF3lf2jGCVsVfV2oLBQ0oAIdCDYdm8WpoUdCGXGndDpHpG2ztc61b3m7fVnNwWIAGzy56Q3OcZ1F7VGs/g+b9jwflRUlNFoXIFlBPDkH+xz1ZjDbi8sKti1ew+Ed6CgaQKRYzdKwNzDuvbfh3t+H+6hQnCI23011T+sa4dcKaA3DtgUChPI8+O3kbqAl/25EqoxkNybmZ4OFHr6c4N1O2btYR+IG+zavSf88BE8fta1tN2oqgbOKTqOfrWoGL6Tj52IXXSkBlMmYBcIR9DbRuT3e0CvDsbPaxWVYBpGjpgcjkKjNTnG1gr2BRLJu1JTrLmRFyozJHQ/0HLy+z0gHAFOe3uDgpMv8epa2i5m5mzbvpObnqHQaM1jT+X3e5A/buj+G1XVJseY2jwEll+o7craOyj+46E2u6h41+49ECuDJV08JpfAVt8u22cc7RsaN3ap70IKRL1e//a7nl6vZzAYySmclvs/D4x5Tyj3lnz7AEuBh9+tQhGNRhOLxf6FpK30Tvu9D33sTj2fWkwNmRAfX5SR6egbWNmxjxrSEeio7cb2vaGACyGDBAqZe4OCQ0L3n0/lX86//u2V71gcDkSTJV/i7Q0KpjPPgucs9Eakrzb2FEIdpU1y0Mxs7lQePx2/bftO7OGnfKgFyy83PaOtV42i8VflkuLRFd992Pfixcwvzc2yBpnVaqUAJr9fKELAJRDfPrcrv3gxI5fLk5KSgF5yAbtxPQRtQEjvnE01rGu3DDwAfz7k9kdEb8yP60fG/v24sxPgRXRMdEdHx3/js9LtidZ5BfXf2dnZ+vp6SJ20dcvWmpraFXRA/IZ9SwWfnZ01Go0QcwPIz5Wol4ikgUZBNl9oBQivIZdxo6SeY4cdCOUknKJIfwUE16A8y09ZDV3ndDpVKpVerw/cRrxULW99aY1hH5Zr3rZ95459B5Mv8QRX8wRX8+jMsxA38O2V70LCIqPj6BBYsGPfQVA2NoyMAuG3GLQBKjDgObNj38Fdu/ccpdFYHORCAyYU+NjW25HgiMdgGNDqu8z2gU+kUvcY0DAKqErPyC4qBmv41aJiwHbgR5R47syOfQej4+iLk45pbAZCD1kcTmXtHb0dacpCfMyX274KCUO6RcBN5JeL9wYFZxcVKzRalzRM4LYmtwoPLJJ3hZf9Nb59pPG0DxzppNXFx07ElpffnJh4+jq/3hVu6s8u/OGNxOlmpqdlDbLF1I65V3IhCS+ot3g49mFnRBTJux45eTF5BoEdY32Djzs7UcJNBkOhUAQSC+ZPFfg8Zp5IX5MQH5/CYj/u7BzrG/Sl24IL/E749hFxG739AyAlBXpIICKFFPyJIAxwp5DIZHUtbUiu7+d6ZK61O/R2h0QmE1zNa+tVw3ikNg+BThJ4qzTcvacbsrb1qqVN8kWtXRev/mbDFnS5dx/2gW4fPy1Nq+1b3QfZ6tg+gCPzCwjEqDWanG8uhB0IhVy9jzs7R8b+7SKZCKoJufQRcQN448vfHgKflPy3A8FBQQKBQKVSEZ3obZB8PnvXOu+ASrNarckpHMg6+sHGjWw2m4hUWI6QUGlWAfuAHrPZbD/VSei0Y2EHQlPPsbtaJL8P90C7QCtAo1Cb5vfhnq4Wyc3CtJioiLADoVlZWaQYpPeyrXNtLV1erdHw09IWBavXVrdv6QbrsrTGsE/7xAbuZRKZrLL2DgyedS1tsAyqpdImOazCQluvWmexGWyO5k5ldlGxtEkOSvh9xGgJXoAgfaoeGMCafz0G0xtiPq9yzX4IuKzUDGvI9gHsUw8MAL0HM07D3XsNd+9V1t5BSRQtFuo8BdqHEMCrfIhUciBWAxJ76C02UHu5nH8dtkMzSZvk4FvpMvK+4Xz0Ftk+wFJ6gvDr7VcmX+IlJSWR3+QrtdFa7YM0vmw2ytVE5uHtWx7MQZTT5du3Ljl5MYQC8gxzft3N/4REUj7E69eqHpauY7PZsrKyEuLj5bcb/MF8a8L2rYlunysPh23E6HAaHU7DyCgSPR8ZNYyMQl4NnXUEQJ5hZBSOUWi0APgu519H0n2EMCZ4MRtsDsT8DVn1FuSQAWHC6LLEdtd30hv2tP+FSF7Q7UtO4VB0+5beFn+WVgf7sGMDBKhCbpJFcgi5gv3tQOo5trS6GKAGopoIDZHfh3uGde2q3g5pdfGi6lBMVERMVASbzf5RUjVssSAzor/RlP481rt5DPqiXcx3txgkAbBvw4b3aTRaV1eXL8i+CtgHpC+IBUIeyOiYaKDuROksaJdhXTsYeYd17V0tEvlPJTcL01LPIU/NmKgILpf7S3MzyouFbu9Ll+7t1TDo9uVeyV1TAZf1Lv8awz4Y03RWpFQPY6aeyBsBQyXkhDA5xly77Gho7TGYpE3yy/nXBVfzwM8MKdsTtBMk50AjKoELkVsbcTW93WUngcPcCKdA+Kp3l+3Dk4IFCTXABOSqNKsdZqU+YuQ3Opx6ohqhhoGV+PbKd6AjiwI1iEuhFB12h57IQQVpPFBiAmKa09vRJLXqOnQ78e2yfYD8wLTacv/nhPh4LpcL8pZEt1mP78Alts9kMvEF/MRzZxo7/w4kn34UwT7sxkfl/NZdt48K/iCqF8RcGAyGSCR6C1+iTqdzMZUQRHJYNP2v5fmgwO8E20cMGToL0meGaCn8F2cNggU4QGcd0RBZOjDxjmLs7YSQOnEpOBguCOHx+HTUW6Bv4x4eyIBF7WzvPts3OTmJs3T4gg4rz2+rhX1AyyGbHfotIN+D7u7ub698x4w7QacdS/7bgZxvLtwsTLtZmPaPYp60uhiWReksTsKpmKiI2NjYjMys7u4epH9GpPZyXWnBzzEFDxMrP1+ge/Hd8UKgV3jN8aCyHhK6f+uWrSgUWiQiPRq9nLgK2EcgclR4SMRktVp/qpMkp3DotGMxURHMuBM531wQpbOgOW4WponSWZBvF1D49/n5Wm3fzPT0uwD4oEb+f9iHByUYNvGIh4dTOAC2a5BHDdIHbutVw/h5MTMHWRtHRtEuYnjEV8AXxFfA0BDfdBUL7y7sw3MBkTYD1xh1GsK1CnuhMkFiIvHcmeyiYmR3so1g2AcVDodhohQusoqq837Kf4Ptw8GzhUUFiefOCIXCVedJ9zK0eW5yjbd2u728/GYCkymtLtYT2tFUBz4q4HurbB8V/E0arRZNf23ZLWbciezsbFJ8az0MVShzrlgsBskMiN4NFPbBFOJZ277X19K3D3c2PxcoUumgL7qUM/GNwZz3fuWtYO8+7Jt6PlVR8UN5+U1Ib+q7MX3u8Qb7VomoXhLpKIYtlsbGxsKiAgwmoqKiwg6ExkRFnIw7yWazc6/kNjY2Dlssk5OTZJID6PNwX4+741W8gJ6FxIjwXB4Qze1ITEz6rAK0A06hnoiWiS6DL44XvF7JYy++IPVgdMzLubnx8fHGxsbkFI5EIoE0Sr4KuSrYh+9IPALhKON0OtUajVQqzcvLSz3HZjAYsbGxdNqx2NjYpKSkrKwssVisUCggNohsFHyd//LC+uj2rfdDrQvb5xq7VhgDKV+8St1jsOQi7Xr8MYwHOmKMRdhlhavhgwNc+B+AfSs/EVEngOEA/EFGgGsVlb39A5CWd2kewTW58jXfZO9bZ/uoTn6Qri3sQGhFxQ/ICIDSQeGh0mPcC7RbuYZZGGltNlt5+U0Q6tM+0WCvPg+0R13FFOC6+/YB8gPNlEmj1dE3cKtQRKcd43K5pGd9oA+/0vGQal10vTDiUCQotkwaraN95hVEW6jY9N1h+5b6ycodgOxF6qEnLuFQi1VnWSO2fOVbu+9992HfwgISnxsfHyeDIQLuhN5gH4ImM9PTU8+nyMuu9H5S9iFv3PmF+enZZ+Pj4w6HY9hiQTQt+Ru2WKC0SPiXyJGwmGWEvAW15EvLL+fmFtWbXryYIT9a8C6U69ZbdKcLq7lfn1JGb4sw6MBf8I2bmHhqtVrN5kGn0+kt0haKgbGdi/WkXNsDMuI96MTJyUmAfTU1tXiH1wV4aj8ieb2eDRtdhYR4WGgXq9U6bLEMWyxWq9VutzudTrIh8HVwPeMt/7WF/z+kw9+R03346htC2Tuw8PJSmt1lh636+r5OxLDv3Y3kDbASoCbBcRxTer4ef+23v122D+MqMK0OjOm1TzQ/1UnCDx8RCASkxCkMcW84LLjGyZdEdp9vr3wXHRP97ZXvtE80oNiCUR0uEnUBE4Hrm5OXCqcAeOGMbbVlt1JYbH5amlKpBLvVquoDTyeIgZidnZ16PqXTPcrKykphsYsyMiEP25jB4lGSFVYx7CMnTn/L5cb2vbluX4DdDD5DwQcFeUisz1fpyv3zfwH2YaYKLayCp/EG+15NTDxVqVSNjY3kZwwV1rhgBAZJxPu0BIAWFhZevJgBPDE9i3JwzS/Mv5yfVyqVYrFYqVROTk7OL6A0tb80N1dU/KDTPYKIKJLAg0shPu/l3JzZPKhQKFQqFehR45uCTbmjowMk0+Fc2AspIszmQaPR2NXVRT4ChEe4Lk5+rSJxEFjGV56ZnjYYDOXlN7Ozs7OysgoKCn5pbsbJ4nB+8YUFRMAbjUaHwwGoFHaR16G2i2ePm5h4WlNTy2azJRIJWQDPY2CduJq/cs3eL7G0laxYd3c9qjEXOfO9Wx6WqMyzs7OTk5OvS4a29JzvxtJ6sn1+jqUWJOxnGBkFDZH/Cux7Z7N0rDzyu+0lmD+dBbk/6m3I++i/AvtMjjGFBmXVW7/kbL4QlXEUpWvr7VeCtZfH4ykUiomJp+6RrDC84AHWz16IRuCZ6WmVSpWRmZV47gxOyAGhxCvDPvBBhL/rq9uHARaQbc6+/4e99wtOI7vzxed18jiVl0nVPsxNJXdTlcxDJls1mUy57NRGdo0cW/a9zPDTmljKslJkKuxIul2z3AzUxdcsgxYLJybbxcjyxfZSxR1EcaVlg1iZsAxh2HQSUQhRBGOwmS6GUMZDBEYgEOan5ksftSSQQGokPO4uFeo+fc7p0+fvpz/n+yfy2B97cu+zx/7YzIe3LvLfEYlEdXmdutVZVBHUCb22oUrZgvPQakRtBlUq4XDYYKjL5dy6hlMChaE42ItGxdjzBMG+WubouXufsGy3r8WpqpuidT/sq1QqudpRKpV2dK29m7iJc7anoDc3Oj5GEARsSpIkmUgkQHwQvNE/jMdTqRSgFkS8gVndRCKh0Wi0Wi2SwV8vl1UTqm9+61WhUBgOhyuVytKSf2Bw4NjxE7Nzs6VSaW2tGI3GSJKskX9UyYuFwsN43Gg0KpXKqakb4H0OoFWpVMpkMlqt9vIVxcN4vFgoJBKJSCQCvnRDoZBWq9XpdI67C1arNRqNwcwSjcaSySToC6+Xy9nsysN4PJlMAt2Iai8SiajV6oHBAZlUqlarxbXDbrfncjnw6gYPqlarLpcLNqyBbU0mk9FojLbGsnOkbzZHNrtiNpvFYrHRaGQO+c0Y9Bl7sK/+VU1n/Gz87zIM2laldQHsO7q5FLF9XwTYd3TVuIk+j4jtAyAIGhUPMmHY7R0YHBCJRDqdjtb0h3FRn2HoMcuEPfUIjLkObSY8jUQiU1M3RCLRBV4ffns6+IjyEQIsIyLzmHiUec6M0EGfvLtgrM+XH8R99+wfzY1fEvedOy+Xy81mcyOHQqg6mk4i2exKKBSat9nkcjmfzxeJRPaP5uK+e/WnL8d2KcbOWwj2wRLS9Kk7bmxh+w5ot68bRk77Zeh+2Le2VnQ6nQ6HgyFysaMhdw1oyPaBXK1YLF5YWCAIwmSamZq6AcwcSInp9XqdTqfX68PhMLg4W1ryZzKZRCKx6PPN22w8Ho/P58/bbIAU86t5pVL5yitfPdnT4/F4ioWCw+H4fs/JY8dPADJzOBxarXZq6obX681kMiRJOhwOvV4vFlOCaFqt1ul0gg+6VCpFEEQoFNJoNHK5fGnJDyXEcXzeZguHw/M2G5/PHxgcMBqNdrudrB2Qv16vJwgCHPIajUZ4BbfbTRGQNXIxv5q3WCwDgwN6vT4UCqXTaY/HMzV1w3F3IRqNLfp8dwy3p6ZuWK3WUCiE4zgYOgmFQktLfoPBMD19EyjStbUivHjDumfCPpglm41NCD/YJm/DIjxLgdnsSjAYjEZjuVzu2Sk3B/vIYDLFwb5N6Nb+ArSZ9ohk+xDGCtd0aYGB+/f//DcMw/ov9EskEovFssPpIuA/NFIB8NQ5LxSaX80Hg8F5m02hUJztO0d5J/83y9KnPlDdrf1uGmdBxdh5gujAQ5LtYwKslP8+mFMBj72w4XvmdK9IJLpjuA22RpPJZH41v0MaiSI519aK+dV8KpUKhUKwhsmk0r5z50Fpl3D8pu4Ubjn2aDm2u08OZqngHME+ju3bHEWtjcDuh3351fzlKwpAP1spdzS+9jhpCPtAfwjDML1ej2GYSCSSy+UikUij0djt9quTk/0X+uVyOYZhU1M3ZudmcRwHs2per1ej0agmVNB7rVYr8H/Z7MrU1A3KwUDfudm52Wg0ZrFY+s6dHxgcgOSj42OQoUKhmLfZgORWKBT9F/p5PJ5Sqbw6OWkwGABWXr6isFqtVycnlUql1WrVarWqCRWGYWKxWKvVGo1GgUAwMDhwdXJSo9F4PJ7p6Zuj42Og8qxQKAwGg0wq5fP5CoVCKBRKJJJAYBn2EKPRmEajEYlEIL+SSqWWlvyLPh9JkgRB4DgukUhkUilUhVwu5/F4qgmVyTRDmVUaGZFIJMMjI3q9PpFIAJ5rWPtM2Mf4Am4Q97mHfRQrsLTkl8llG0YMDsFaQoM22GcQB/s42Hcgk9dbVqsjZftgFxX0agH5/e6ex/gvv/zJuz/l8XgYhhkMBq/XGwgsJxKJXC63U00NgZxkMhkKhRZ9vtm5WQzDeDyeUCj8v2aDe/E/aL1dylBLzU2cfyfI2xaC2L5Dle3bibEe+2O5MAnGnGc+vPX+uxTzR5nw7n3r6uSk1+sNhUJAkICgOhB7S0t+t9ut1WrP9p177duvnezpGRv+8a1rOOH4DQKUCMPtG/Y1YxSaTWuI7WPLbt+Wftwa8DraJN0P+zYk8SUSCYZhS0v+RroRzdp2M7wZ7LtjuI1hGI7jwyMjWq0W2CyJRHLtukZZO4DVUygUEolEqVRqtdpwOOxwOORyuVarxTBMrVYHg0Fg0TKZjF6vHxgcGB0f02q1s3Ozer0ePP9cnZwUiymh2GAw6HK5AD9hGCaTy5aW/EajUSaVXr6ikEmlOp0OiDoMw0ymmauTk2q12uPxWK1WQHL9F/rFYvG8zaZWqzUajcFggFcAzBcILDudTplUOjwyAhBtacmv0WhGx8esVits1AYCy0qlEsOwTO0wmWbAQRDMa/M2m06ng89TiYTyOKdQKOx2u2pCxefzh0dGAAiKRCLYHG824piwD9Bhs5gQ/hyzfRTs83q9w0NDnN2+o50M23o6t8nbVnXtHfmo2T5AfoDGwLBL8JHfvfgfxn/55ej4GJijAqcaLpcrEFgOBJYzmQxI74A4TTAYJAgCQM53Xv/useMnRsfH8NvT//6f/7YV8DW2z7cN8KHLTbbvCblTtP0FmVy2udY1OVsvlx+Tf0r7Iy0qye6EfSghOHDz2n596xr+/rvi8UtikUgE6039d2hIKBQODw3BJXW35nvj/XfFt67h9o/m7n/iAwT52B9D2e584p4hHNu396BqgkGfIdi36POB1FqTrt00mAn7ao59KV2EZDIJsG9q6gaGYRaLJZtdcdxdkEmlVycngVHLZDLBYFChUIjFYoVCodPpHsbjTqfz8hXqXCaXTU/frNl5ovjsTCaj0+kwDJuevgmsG47jGo0G4J1IJLo6OZlfzZMkeXVysu/c+eGRkWvXNZlMBmYKuVwukUj0ej1sMQPsu3Zdo1AojEajVqudnr55dXJyeGRkdHzMbrdrtVq9Xm+1WiUSiWpCJRaLIf9oNKZQKAQCAaDPTCZjMBhgqwJUQ0iS1Gq1QqEwFArlcrlgMKjT6SBbnU43PX1TWzsGBgckEgmO45SvYYKQy+VAf94x3JbL5YB3QeqxYb0zYR/H9jWsIjqQgn0ej2dgcECpVAaDQTq8+/9zbB/F9n1hNHn3vYiwk/Co2T6AWeFHAZC6A2k/YP6sH/+/a9c1YGD5J+/+FIGcQeHfDQwODAr/DoGc4ZGRn7z705+8+1OgD6wf/7/f3fMgjV20vYsg3Z4niO3ruJeOPWEW07TK58sPQNvj/ie+W9fwD3723vglCgKODP7obN858Gc1fkn8/rviD372HtB7j/2xP4c//Xz5AaC9g2BQKCqCfc0YhWYzKGL7/un6L6OcbN9etjaaVWMnw58iu32guLCPZzWDfSBmi+P46PiYyTSTSqWsViuGYbCHK5NKQQ9XNaEC7Q2ZVGoyzajV6uGhofpmqFzmcrlACSOTyVydnJRJpW63G8OwM6d7r05OmkwzkCGGYRKJxHF3wWSakUmlMqkUNnwddxeAjVPUDtWEat5mm5q60X+h32SauXZdI5FINgwKCAQCpVKpmlCBrDHIiwAbB/vUQIguLCwYjUaJRDI6PoZh2NXJSbSXbTLNgK4uJXR4d2F4ZESpVM7bbGDrTiwWS2qHSCSCbPsv9GMYptVqJRLJHcNt1YRKJBLJpFK9Xq+aUOn1epIkgcZr2CJM2AfRmo1NCH/O2T6w24fjeM2LXcMa7cJADvZxm7xsbvIesiZvM8hVI/wC8IvAH/n++i2UAAAgAElEQVQk+iAT/t09z/81G2RyGbWN8z8l/Rf6T/W+dar3rXd+JPjJuz+FL3z89vTv7nnCNb0NZJYPBAcRb9fs0Q3DIdVh+OTdE/mBei9EA6PKAOZyYTIXJp/c+6zwIPXk3mfb/uAukhFE8DHlv9+u9i6zhAj2cbJ97X54dT3bRy0tD+PxaDRWI+qQelQbq2BD2JdOp41Go1wuNxgMl69QwnaZTMbhcKgmVFNTN2RS6cmeHmCvN0yIL/p8YIVueGSk/0K/UCg0m82AF/V6PRg3yWQywI1Fo7Fr1zXDQ0MGg8HtdqvVapDkw2oHmA72er3zNhtgQR6PJxAI7hhum81mkDIUiUQDgwN2u12v18NmLpiAViqVw0NDEonE6/Wq1WqhUIhhmFKpJAjCaDSOjo+JxRTjrlQqDQaDVqvFcTydTlssFpAmRBq46XTaYDAIBALYCBYKhWKxGHalYeYCPV+oHACpRqPx6uTk6PiYUqmUSCRGo7EGIsGGS4O2YMI+ju1rUEF0EKDeRCIxb7N5vV66VunbXf2fg30c7GMT9oVT6cM04NIQY6FA2O1FVv0QUXf/cfBBJgwokHwS3fYHusAI7SGXa5Abyrz1k+5i+5ioC84/X34Af7kwCRQgYD64hF9g+LaRfMhMzM48WwxBsK8Zo9Bs8tzC9h2+3b4mG6/tQreDxO9+2AeScwzrLW0jPybso+0SU5aQH8bjS0v+aDQGgrpra8VkMhkILLvdbrlcPjA4ACJ6D+Nx0EZyOBx3DLdNppkNSaxkMhmJRBwOh9frBYnDUqkUiUTC4XAul4vWVGLBsF8wGEylUolEwuv16vV6o9G46PPlcjmw0GuoHS6XCyI7nU69Xm82m71eL1hsCYfD0WjM6XQajcbZuVmXywUKxUtLfqvVarfbQcQkmUyCYofJNBMILCeTyXDtKBYKJEnCC6J3Xy+XU6mU2+02Go1TUzdMpplFny+dTieTSbfbbTAYZudmnU5nMBh8GI8DQo1GY8Fg0Gw2GwyGeZuNNkPTVGefCftqo3Kb7tvmiOTYPjADmclkKJ8ulJHFZ+XgYB8H+9iEfV3C9jXEZAj/AeyDXyb+A/e+6BfBxNpJYH88H5Rkk+07Qtm+ZlAs7Y+k/PfRji0TzDU7R2xfszxbDEewj2P72oWA3Q/7qlVqn5e2ZNs25mtit69m+blcBiXcCuMA63o4jut0umAwmM2uAC6pVCifvKlUKpPJQCrwCUFHqOvwA8SBdRsAKy0A93RtrZhIJNLpNFJMAaDJdECSX80nk0l4BOXGt25puZpfzScSiVQqRXmSrR3FQiGbXclmV1AcsO0HAnzghwOVHJIwWDeqGtfL5XQ6TZIkPA7K3PBBEKFUKqH4MNBq8sWNW4QJ+xjPbQBoONgHtk5BVKBBBXVvEAf7ONjHJuzrKraPCf4QdEN7tVtRHWjmNvhFxpaZubV13r1sX8p/H+neIoS3cycXYTiIA5gPJUR393GCYB8sIa3Pk1vYPk62rxtl+yh/GI7akUwmmaCq9VZuxPah1HW4hrzTgqHmRZ8vFArRDtOoOPSjEcpBJ5AVuA9B7Ne2E8R1oVQoQ1QS5PQCpaVCtiI2tKm6JQ79tQOZo18UZzOEfot6melnQ0zmL9PhB8pnWyo6daP/TNgHD639NogK4c+xbB9V1ZlMJhBYPogkQ4Oa7XgQB/s42Mcm7Otmtg9htZ3Ij6ECTLF6wAui+Ac/QUzhEdjt2wcagyQICALOA1Jw37k1TIhgH73+tTrhAezj8/lKTqWj5+Se7lNbrVZW4+VyOUXtCASW97cFtivsg7JuojHgyRhmmdCtVt5qE2DtFRtli04QpGuYlBltZwR0F51AHLikfrcCvm05bKZqEm0zQotDjAn7OLZvW3XvvAyHwxqNxmSaIUly591uDeFgHwX7OE3edreYGsfvDk3eA6I0Jjl3wKwgOcrwiO32NQReewYitAcbwXvGbysCgn3NGIVm8yZi+zi7fd/vUtj3dMNXKYZho+Njiz4fDfuYKKRZ226GtwD7NiNzZ6zUABP2AZRsNjYh/Dlm+6jO7PV6hUKhakLFGXBpjAm6QAx6W8E4u33bKuSgl11gt48VoMZ6Jl0t29cWUGM3MoJ9LVIRaGHj2L6ul+2rZrMr4J2Cg32o33b/CRP2cWzfnu2FYB9y8bxnki6IwLF93CYvm5u8XSvbxzqSaz1DxPaxYLcPKDcwvMIuAjuS3BDsa8YoNJsiEdvH2e3rVraP0mYAwyjhcBipLzRr0IbhHNvXsFo6GsiEfRzbt2dVL/p8YF47HA7vGblrInCwj4N9bMK+Z0K2r3XExlbMTdm+J2AqdcsE0JKXjkql8pj8Uyd2Wo8E8CG9kD+HPy09yXNsX7tMe9ezfdTSsujzgYWRdmE9jA8O9m2ZJw7lggn7OLZvzyqPRmMGg8FutyeTyT0jd00EDvZxsI9N2MexfTuRIptsX9x3DyytAP57pn9Bj/hxKF56km8XFmxh+zi7fd2oyUupsoLfw53uCFtc/zjY12JFsRiNCfs4tm/Pii2VStnsCme3r92v1iOMz8n2sVz5rMr2xR6HwVTyTiD1jIYsfer79HFsJ7HVBtv32B+jLCeH4o+WY49DccpDBn0Cgc/WXcplCPknju3bxzjseraPUkHd0OrIr+b355C3ud2+PddiLsL+a4AJ+zi2b9d6pOzjIBOP7X647ppzp29ybB+nydu9bN/9x8HY4/AX6e/x2p92zg8twb5qtVoqlUpP8g3/qMW1ya3SE8pkbhfehSKtrRVpNc82JrstbB9nt68r2T7Y5CUIAlzKttG6dFSO7aNr4vD+M2Efx/btWu+UJm8ulwNT3rQnlV1TdMtNDvZxm7xswj6WZPsopqBUKuVX84XSk2f0DwoPv6Un1IvkV/O0nf8t479V2IdswDKm47rx2O4MQcZydy/elspo7YLT5O16to9y0aGuHaFQaB/InmP7WhsKLMdiwj6O7du1cinYFwqFtFotZ7dvH/sVR5WE2+RlueZZs9uHRltXo5rdwUylWoFps1Kt1P+oBBCIXpA6aR32oWRQL2DKtXt/axW0R/Fqr7TNnQB6zaYniO3j7PZ1rSYv024fvc/L2e1r2qW75AYT9jEmuAalg9HN2e0bHhpSq9WcAReWwUTHDP5xsI/llmJNtm/bJMN0PvTFON/ygm3BvrYR0pZHdeUFrC5tFY1j+7qe7aP2v2RSqUQioe32td11uU3etgYFK5GZsI9j+3at0i3mmjnYxzKY4GBfx2qA5ZZin+3bddhRN6mhR4nVVip7Rj3cCM3gaYNStAX7GqR/DoMQ28fZ7etWto/a5L06OalWq4PBYEPhhj37LQf79qwi1iMwYR/H9u1ZvQRBiEQiju1jGUl0EvFwbB/LjdUptm/PwUdhrH1wRnvmezgRONjXdj1zbF/3s33r5XK4dmSzKzRv1F5Dc7CvvfpiIzYT9tGt1nhr/rnf5KWqmyRJq9XqdrtrektsNMBh5MGpdHCavGyqdLBkt6/1rk+zfeUyMH+tp+yemJ2CfWBcAGbn7nlbVkqyhe3j7PZ1pSYvAzRQn2X7IOQ52MfKYGkrEybs49i+vaqOorTT6XQmk6GlV/dK0RX3OdjHafKyCfvY0uRtbXA8XS+XS6VSOp0mSZI2mdn407S1DI8mFvuwD0ymBYPBeZtt0efL5XJb3wztQG8N3n6Fom3W6TYQWakddLrNaHRIp/5zbF+Xs32AGNbLZeqPksCoKyG11SE6BvuYHfvgnfbgObRVK52NzIR9DODe4KEwFTzHKh11GaMGVdPtQRzs42Afm7DvcNg+mHAymQxBEB6Px+v1ejweh8Ph8XhIktzd/+cOoLJz0qYWBVi2dsx7DSJDYRhJ2h7z7MO+9XKZJMmpqRtnTvdeu64hSbLlQm15eagF+g0hD1gyq8VCIZPJ0IY5mOtoy486QMQtbB9nt68b2b7qerkcDAZDoRDdT3YOnj16QMdg3x7PfZ5vM2Ffo+G/WTcwLTzfsI+aBjm2j2VZsU4K9vkfkJxsH8vtdUiyfRTJl82uOO4uyOVyHMfdbncgsKzX6xUKxfT0zRrI2WWJoSAK5LCVmK/jGQaAq4O/rbAH5r2na2vFXC7HuIWSb06MLZ6xD/uqVWr3wWKxHDt+Qq/X51fzUJQ6+1IuFwuF2stvVhPsCBcLhVrkeh2tl8sw9UOVIZC3tlZc9Plm52aRJ8r1Wp50hBZffP/ROLavy9m+arWKVDpCodDWkdZqu7MO+8AcaLFQgH6eX83Debv9FvlmeHYlS5q1ARP27fjq3ZKIg33VajUcDut0OqvVmkgkttROV19wbB/H9j1zbN9TNDUpFIpoNJbNrhQLhWQyaTQaeTyeTqfLZDLVKkU3oPmcJvkoPFMqlSKRiOPuQm2oUiFoBsvlcjWlw3raZrAnl8sFg0GCIJC0+nq5vD9txf3Z7dtzUqGA7cLCwqnet8xmM9QCUIDpdDqVSjnuLkDpYQHLr+ZJkoxEIk6n02q1gluFXC4XjcZSqRRgxFQqlUwmoU6XlvwYhg0PDblcLoCPyWTS6XTWUOB+tvP2fJ9tERDbx9nt61ZNXsqAi0QiwTCMNuCyrQ33vtwv7EMfM6grUiHrlUomk1la8lutVqPRqNfr7xhum0wzCwsLkUiE/jRCaZsWr1QqZTIZkiTR4G8a9Rm8geZWo9EIn3wwOe58FTRp6nQ6gUBgtVph2t0Z8wscQhDE8MgIp8nLMoHUScKPY/tYbqzDYPuoaZkkSUHt8Hg8zC/SpSW/SCTi8/kul6tSqSSTyVQqBdAtnU4nEolioVCpVBZ9PrlcLpNK3W43fO0nEon8aj4cDlssFlikKrU1giTJdDoNEoSJRAJyKxYKVqsVwzCtVgsOCCBtILAMa0ezebLZ7NcRto8J+yqVSn417/V6tVqt0Wh0u90ajQbDMIIgSqXSw3jcZJrRarU4jl++ohCLxVqtliTJ/Gre4XDcMdyORmPr5TJBEGazGXxteb3e/gv9Z073zs7Ngnc1p9M5Oj5GEETtJffPfDaro23hHNvX/Wzf0cE+ZmehkF86nfZ6vUajUavVyuQysVg8PDQ0PDQkFAqHh4ZGx8cUCsXU1I3ZudmlJT8tCNuwD1NfU8Fg0GAwmM1m+MhhPuwLcM6Efcy5deercbCvWq16PJ6BwQGFQhEILO+som4N4dg+TpP32WP7Fn2+b37rVYFAAHQdiIxXq08TicTU1I2TPT0GgwGAyh3D7XA4XKlUgsGg0Wj0eDzJZNJxd0EgEIhEotm5WZIkXS6XakI1Ozd7x3BbLBZjGDZvs+VyuUwmM2+z6fV6kiSLhYLH4wFQmE6ncRzn8XhyuXzR56tUKuFwGK8dqVSqNtL3pgyYEwL7sA82s+x2O7B9AIGvTk6eOd07PDQ0b7NNTd34zuvfBV4UZq6zfecwDLt2nYKD3/j61/R6fS6XM5lmzpzuBRA9b7PBAhkMBjdAIYZhb/P5dru9UqmsrRXnbTbAkfD+7SJfZnW0co7YPs5uX9eyffnVvLJ2HLpztvrwWy+XE4mE0+nUarUDgwOnet/i8Xhjwz/+4GfvXb98Bf4++Nl7778rHhn8Ud+582dO94rFYoPBsOjz1Yir7cO4UqmkUinVhOpkT49qQkWSZK2fNwSIrfTibozDhH3wds3GMoQ/57J9BEGIxeKrk5OcuWaWOaSOEX4c28dySx0G20cZZ7bb7V95+eW3+XzayTv1SQ+UlsvlOtX7lk6nq1ar8zbb2b5zVqu1Wq16vd7R8TG5XE7UjtHxMQzDXC5XMBhUq9Xf/NarIpEIx3GFQnHmdO/Jnp5gMLheLut0umPHT3i93vxq3mSaEYvFqglVNBozmWaEQiE92J8u+nwajUar1dKibtvXi93n947AvvVyGcE+ELxzOp0DgwMajSabXfF6vWf7zsF5IpFQTaigOnK5XCgUOtnTIxaLQRGYx+M5nc5KpeJ0OmVSqWpCFQwGM5mMUqkcGBwIBJaRUGA2u0LLC7b3/rvXTsO7HNvXGtsHDYGaAwAKgikovGEdHzSwVCot+nxAD+/OGzV70kE2efOr+UWfT6lUHjt+4tjxE++/K7Z/NPfHjz9O+e//Ofzpk3ufwe+Te599vvwg5b/vtf361jV8ZPBHx46f4PF4BoOBEmmoW4Gv11ipVPJ4PDwe79jxExaLpVgogChJ7e2avcQzFs6Efbu3Ggf7qtVqJBIBnpiT7WMZTHCwr2M1wHJLHZKXjqcOh+MrL7/cf6E/nU7DFylMUGtrxQ3F3pM9PVcnJ6vVp06n820+f95mq1ariz6fTC7bQHWLPl8gsCyTShUKxcN4HO2FmkwzqVQK4N2x4yfsdnupVNLr9Sd7egiCgI1dmVR6dXKSJMl5mw14AcCdoN6RX80zCtPGbN8R2FcqlRDsA/LP7XYPDw1ptdr8ap4gCB6Pd3VyMptdSafTGo0GUZcbtYBh2Oj4GKUdfXeBx+MB2+dyueRyuWpCFQgsZ7MrAPtq37ibYAJWgjZefb9Rt7B9nN2+ppq8m01Tq2mQdUMSb/ut/dbSgdoU+hjYR9/YF+yjXjmXyzkcjuGRkTOne8cviW9dw//48ceP/NHH/tiTe581/Hvsj8V997y2X1+/fOUi/x0YHeFwGER9YWDD/NJ/of9kT8+8zVaDfYdUma1VOQuxmLAP3rpZw0H4c8z21XsaJQCdTMI3AAsNcBhZcJu8nEoHm5u8h2O3jyCI1779mlAorG2qUqMPJqhMJmM2m48dP4HjeLVadTgc/Drsowi5y1cUAPtCoZBMLlMqlfCF5nK5+s6ddzqdMHLdbjcIrRULBYPBgGCf3W6XSaUaDWUOBTY8jUYjvReEeBN00sbo7Szss1gslUqlWCg4nU6hUKjRaHK5HEEQZ/vOAexLJpNXJycB9q2Xy+l0Wq1WAy9qt9sB9q2Xywj2Adu3oU0jEAgQ7NuqybufWmijwqqUuoDL5eLz+crrv4xyBlyawj7KtBjQsXACrPjhsFPwsVEqlWBw7uOhbcK++kSQTqdn52Z5PN5F/jv4L67d/8T35N5nhQcpIPYe+aMp//2U/37cdw/9PvbHPl9+ANEe+2Ne26/ff1cMe75e729pXS1KsC8cDsvlcrFYTOupUA9tq+t2eWQm7IOP6WYv+JzDPnh9NKya1VJXNjcH+zjYxybsOxy7fdFojM/n91/od7lcNS3VOuwLh8MyqZTH48HGLnBVVqsVqXEolcqlJT9i+8CendPp5PF4brcbPuw9Hg9whMVC4Y7hNoJ98zYbE/YB2wewDxZWeoFre6CzD/tgvl5YWDjZ0wOwb22t6Ha7BwYHrl3XFAsFgiDOnO69OjmZy+XS6TRs8oJCRjKZFAqFOp0ukUhsWHs+c7rXbDanUimj0SgSiWRS6aLPl82uXL6iONX7Fuz/ViqVaDQ2b7PtZTun7applmAL28fBvqawj0IqSAW7Wq2CHje9F9+sdtkJXy+Xl5b8iz4fg5NvL+d2YV+lUslmV+4Ybp/tO3eR/479ozkE+B75o+gPYN+j5RicpPz3H/mjaX8ELnNhsvAgFffdu375yutvvCkWiz0eDxigqVQqJElqtVq5XI5sYdLLf3uv1rWxmbCv9mpN6Ux48eec7QMbCEmO7XtWdiQ5u32st9ShyPZVa1yPyTQjEAgkEgmteEeZCbtjuP39npMajQZk7BwOB4/Hu2O4nU6n5202kUgkkUi8Xu/Skn90fEwkEhEEsV4uO53OM6d7N3QSQA8XGC64dcdw+9jxE/M2GyiLiESiy1cokzFWq3VgcADk/KrVp8hw9P4sGLAM+0DHIpPJWCyWvnPn4f2z2RW73T48MnLtuiaVSgFVpppQpWqHakI1PDJiNBrD4bDX6xWLxV6vt1KpeL3egcEBuVw+b7PhOC4Wi2VSKUEQ+dU8aLWA5sd6uWy1WoVCodvtrq1nHadAOLavRdm+YqEAJksIgohEIvM2G4gswIreCHxA2x38l7Jkq9PpcBwHTfCtz2qJIWsH9lEFXq9UQD/pZE+P/aM5IPAe+2PA8KX9EYT8Gp4A7EPM3/1PfNcvXznV+xaGYaC9sV4uR6MxtVqNYVgoFMpmV7LZFVZh35aBAwMZvmuBTELE7dbKZPOKCfvg67EZj8XBvmq1Go3GDAbDxtRKi3Wz2RYdy4tj+zhN3meP7QOkNT19E2BcsHa43W6lUglgDmaqRZ8PoN7s3KxerxeLxRKJxO12R6Mx1YRqYHDAaDTmV/Mej+dU71s4joPYn8FgUCgUwFvN22w8Hk81oZq32TQajUgkksvl0WhsA/mA/Bugo1AodHVyUqFQ0HK9LS1qaFCzDPuqVcqw4dKS32w2q9XqDV8diz5fIpEwmWY0Go3RaFz0+RwOh0aj0el0oVAokUio1erhkRGZXKbVavV6/aLPB3JLmUzGaDSOjo/hOG63281m8wbcjkZjoBo9NXXDYDCAhRun0ymRSBZ9vtpbtff+qCJaP0FsH2e3b3dN3lKpFAgsX52cBB11uVzudrvBjmNDvAKb9fnV/AH/wImLRCKRSaVgFSW/mgfOrPUe0hbsW69RcRud8Mzp3lvX8M+XH+TCJNrSBT6vIdrbFlgHf6H4k3ufpfz3xy+JT/b0TE3dAF8jiURievqmUql0u93zNpvL5YI9gta77q4xKWptba2YTqdhlnG5XBtKJKA7z/A+2cHxxYR98G3QsJ9Uq5RuXbVafb7ZvirY7bs6ORkOh3dt2a66ycE+bpOXTdh3OLJ9MIRyudyiz6fT6a5OTqomVFqtFrYZ6cWFIuGsVuvo+NjVycl5mw1AC6joLvp8OI7Pzs3mcjmv13uq963LVxQajUapVBqNxkQiAd/YiURiw8kFhmHT0zcddxeMRiNseBYLBbfbjeO41+tdL5dDoRDwGt1iwGW9XIbdW9jgA3vWQOylUqlsdiWTycB+X341D7BPJpfZ7fZoNAY2mZnykg/jcdB2gYQgArleLmcyGbBkCEATTP2hhB2d5zi2r0W2D8Q65222kz093/zWq8DONm+jOnHtqB2uAxzgLbH/Qv/bfP7U1A2HwwG+dGrkfKuopR3YR7H9G7ZXzpzuvX75yiN/9Mm9zzYx3zJF+LX4h3Z+YbcX5Pz6zp0Hw2zFQoEkyXA4DOK9oAvPXld/WiwUvN7fqiZUZ//bfz915vx5Pv/UGcqyjEgkslqtyWQSoBh7T9yeExP2cWzf9trZce31eoVCoWpCxRlwYVk/lPW9SDpDzoALyy11SJq8MPaotaNUKiUSiWg09jAep83mw1co9dlcqVTA00QikchkMqC0Chab4Ys6k8mAZZKzfefmbbaH8Xg0GkNGYeCDFj68k8kkWPLLZDIAK8EvCGzyFAsFwFQMQcMdE0TzANbZPuQjHNbXnRt2qCxUBJIk5XI5cHXAAzGm+91XaJRzXXWgli8zED2I5RPE9nF2+3Zl+6hhAHIMJ3t6vvH1r90x3AYeF4YHo1XqrRaJRK5OTo6OjwE7iO3rkNQODMPAeMrA4MDo+JhQKMQwzOPxwGcD49FNT1uDfVQXrVQqG542MAy7yH/Ha/v1k3uf5cIkiOs9Wo5RfzTsA0k+uIT9XyTYl/ZHkIQfkvN7cu+zmQ9vgS1QNDWAGU+ZVDo9fbP112n6njWlEBBMtFgswyMj7/xIcHHk7//hygfyf1L/w5UPLo2/9zd/OyQQCNRqdSCwTA/S5vkd4A4T9nFs354VSRCESCSiTXntGb1LInBsH8f2PatsH73PgLANwh5M4IHO0QkaeiCs/NRxl/JhZrfbkTdaFIM+qa8sNBwCWAUZQpR6VrULZjidwa7/OwH7dn3glptPSZK8OjmpVCrBaceWm916wbF9rbF91IdRNBrT6XQDgwN8Ph8UtOltOyamr/fgaDS2YeIHwJ5MKoVd2n38QhLIB1Dgqd63Xn/jzWvXKUXyFrtVfjW/8TU2MDgwNXWjCbqCYlNyhCDt+8HP3gORPpDkQ9Qd8+RxbQMXoGEuTP45/GkuTIL1PiT/h/Bf6XH2/ie+kcEficVipEEGDD+O42azGWB0i2/UJBo1ZYB1+LP/7b9/7wc//N+Tv7D9Ifr72KNgKh9M5X8fe3TL8qvety8eO35CIpGQJNk55MeEffR8x+wnm2/w3G/yUlURCoVAcgap+GxWUPeecbCPg31swr7D0eRlazyBII3H4wGPHbQ5GLaybzWfo4R94IQOzOqSJMmqoFKr77+PeFvYPs5uX3NN3lwu53Q6YWVyOBwg6xkKhdLpdEMgBSQ2SR+JRIIkSfilw/b+vy1+IpEAB4AikUipVLau99QC7KsT2+l0WiKRXOS/M/PhrcKDFFOqjwn4Hi3HAOQB2kMG/P4c/vTz5QefLz9Ayh+QKu67BxJ+t67hfefO6/V6MOayXi4/jMd1Op3BYKBtOO2jF0MSCvOBn5sNi0jv/Ehg/JX997FHkcfFaKaC/oKpvO0P0X+48sH3e05OT998GI/v+3m7J2TCPo7t27WuKDSMtpMajqZdkx/hTQ72cbCPTdh3mLJ9Bx82aBeYIIhAYPnAE/g+S9Q52NcK8UjZ+FhbKxYLBfCuu8+XONxkHNvXAttHMWEgi4ZwXjgcNhqNVycnQVCsRucg7hqaEFE76GTfTUt1LeClKpWK2+3GMEytVmezK/Rzd8mZ6rrFQsFxd2FgcIDeS6WKtLZWBFlV4KKAc9qQzxAIBMNDQ2ClDwE42MxN+e8/9sceh+KfLz+4/4nP/e+GW9fwW9fwmQ9v2T+as380ZzLN2D+aCy4+gDgp/33E9n2+/AAs+fWdO69QKOg54in44Q6Hw/QewS7vgm7VX4qpnAG78A/jcbFY3Pv2xQ8NHyHAF0zlA+Sfgqk8hMRXn3oCf7w0/t6pM+fNZvOObXr0lAOd5HI5i8UiFouNRiPH9u1alczZlXm+a6KuuAvLfBAAACAASURBVMnBPgr22f/zt8rrv7zw4x+7XK4WZqSmLZdMJqenbwp/cunn0/8nQCaCZJJl4TlaKrFLsz1U2b6mrdDWjVKpBICHVjQ8+GLX1vOpyB2EffC9TvfpI3i3tiujtQRb2D7Obl8Dto9ah2hkgNqdCnE4HBiG6fX6GmMEyxWK0FrttxSLWlqi0Vg0Gsuv5tfLZcfdBQzDtFpty5u8FGoEKv6O4TZS1IpEIlarlSAIJnwMh8M8Hu/9d8Vx3z0AakwZPvDPUXiQ+uPHH+P/69LgX7/62rdfg7/X33jzZE/PseMnzg7/o/2juUfLFDoEsAiifo/80VyYJBy/uch/BzZY6TG1rRZ2qcPNSgaHdfM2WygUovkhqlHcbvepM+cvjb/3+9ijaKYCG7vGX9kl/2z80PCR7Q9RhAVNC+7vvP5d1YSKEiuuVhjIbJcCbCvqbpfAsGIYZjQaObZvt5qiDaHD+gGfH7vG756bHOzj2L7nl+1rfxxSUzQNotpP3SRF52BfMyKnSUGenWCO7dud7aO76TYoQHVfj8ejmlBtqA7ULI11pENDPyoWCnq9fmrqRjQaK5VKDocDTCgFg0FQngJQuMtvOBw2GAw8Hk+hUITDYUil0+nOnO7tO3deLpebTDNerzcYDFoslrN9565fvgK7t0iBA05gA3fF58b/16WTr75y7PiJiyN/Pzb845OvvvLll176yssvf+8HP5T/4kPC8ZtHy5S7DsT2gbZHLkyCeN/w0JDT6QQV+DTjQDry204YUajTTCaTTCaVSuXJnh6BQKDRaAD/kSSp1+t73774z7f/JZjKA+z70PDRqTPn/+Iv/+r1N968NP6e7Q9RuGX7Q7T37YuXxsbcbjeUBLT1tz263ctk7QD9tampGwODA3cMtxmYssHUAEDn+Tbg8vRhPG42m51OJ23EoUFFdV8QB/s42Mcm7Hu2ZPv2NR63raT7ymNrok7Dvup6uUw7DN765Gf2CrF9nN2+Jpq8dbaPbmHotVTgos8HzuNplyrARdER2fufy+UkEgmGYUtL/lKpBE5iXn/jTQzDQHMcVD2a/YJCCZ/P/+a3Xj3Z00PpiMhlMqn0VO9bX37ppRdf/NKXX3rpG1//2qnet4RC4cDgAJjry4VJpJ+LwB9s3f7rLyUnX33lL/7yrz40fETt5/pj//pLyeBfv/oXf/lXI7KfQwi1F+ynvHcw7fwB7AN3baPjY2CrSdvCgeO4jnHo9Xocx7/fc/LFF7/0wgsvfOXll1/79mvDQ0MKhUIkEv3N3w6ZFtwgzAfYDqK98MIL9TLXEOHvY4/+x/uyU2fOi0Si6embOI63UJBWo4A1LIFAwOPxTHUKGT4MGnQLDvZVq3W7fWq1mjPg0qVbkDt2SDkDLiy31GF56WgwBzGCioUCvX/CCGXjdG2tSIvlsJEdnUcHYR9Y302n0yRJ0ttklNpjNruSy+WKhUIul8tmV2q3Nrei6IJt/gdDgJlMBuJn6IMkSTDptxn1UM44tm93tq/WCJsNisi/SqXyMB631g4wu9255toG+zweD5/P//JLL73+xptg2KWV39ffeBP+UORvfP1rLzAOAH+vffu1kz09t67hT+59tg32PfbHntz7bMXnvibq/fZ//S9nh/8xuPig9DhbeJCCwK+8/DIEQlqE+dDJk3ufxX33PvjZe1ByQe3ov9DPrzmI5Dc63ubzeVuPt2uReTwes/wvvvilb3z9a8eOnzhzuvfiyN8zYd/3fvBDBPu+8vLL8l98GEzl46tPfx979A9XPtjwHfT6G28ODA5AMd7m899uVIx9hPF4vL5z5zEMq5le3+0bl4N91WrV6/UODw2p1WrOXDPLYGIHXGMrfw72sVWT9XyOWrYPwAlJkrSyIKUhl6sdgAUBt9SkzHfnOOoJwdofWCkGu30P4/ENrUFa4XW3WbH19bQTsK9esmx2BQz902Zyqdd2OBwSiUSv13u93juG2zKp1G6301XWsNhP0+m0Xq+Xy+VTUzdkcplIJFJNqHAcBzsds3OzYAKxYeJOBCK2j7Pb14Tto/b3EdqrNUH9slgopNPpZDIJvgg70TqQZ341L68dwWCwVCo5nc7hkZGBwYF5m83tdjudTjAKvcuv0+l0uVxut9vlcjnpA8OwV1756pdfeunY8RNisVin05nNZq1W23fu/PXLV57c+wxk+4Dqo6DbMgX7/vjxx6P/3+lv/9f/MiL7OVLgBcLvKy+/3Pv2xeDiA4B9CDXCVi/I9t3/xDd+SXyR/45erydaO7xbD0jkcrkGBgdgZ/lkTw+I0M3bbEql8p0fCW5ZfgVs3+9jjy6Nv/fKK1994YUXvvzSS9/7wQ9NC27Y5P3dvfsXR/5+UPh3G7apQQEfflsrVKuxIpEIQ3Sy8TTHwb5qtQrOADeaj2P7WAYTHOzrWA2w3FJHyfZRi1o0GpudmwVRIlh6wuGwonYA+FGr1RqNJhwO7273CsxyKZXK4aGhqakb09M3L19RaLVacCtvMs0s+nywpMLUd8Clk33YB8UCV8RmszkSiTAFEu8Ybp/qfctgMESjMcfdBTClS/tVa/Au6+Xyos9nsVhm52bnbTaBQHC275y1digUCoPBoNfrkR3gBuk7EMSxfa2zfaVSKb+aB8sjzG7QgWZhZkl9OQG2S6VSlGxfTaVDo2nDbh9DtmwTeXg8HrVardVqHXcXNkw0g/TCos/Xd+78Bz97DzzqgnweIL/H/lguTK743IN//eorr3xV8s9GQHhAAf7rLyWvvPLV3rcv2v5AOfZAmK9u6tkfhQzvf+K7yH8Hw7ADWk4plUoWi0UmleI47na7wQJfpVKx2+2nzpyX/+JDMN0C5lpGZD//m78d2sB/tyy/AlWPaKYy9x+/oSQR5fJUMsms7s6cb1b7zvw52FetVsPhMI7jFouFs9vHMpjoGOhBbB+nyctOkx0d27e2ViQIwmSacTqdNG9FTVmLPt/ZvnMikWhpyR+NxnAc5/F4165rap+yO2eyuhWw9XJ5acnff6H/VO9brhrdoNfreTyeWq3O5XJut9tgMHi93tpW8u6sYcNHbA9kH/bB6h4KhTAMm7fZttKbT/V6ff+F/qUlf7VaBRnzY8dP1JTY6++/rYClUikYDIKv8WQyCX6O18tl8PwLrhRGx8doYxbbUnfkcgvbx9nta6DJu9mVSZIkCIIkSfSNUjthoePu2rSbhoEqlQrAPvCT2HzsNcuPKioqMyhGMKhK6lYkEuHz+eOXxBu0HIj3wRYt/Dbc5C09zsIm75dfeom5yfvYHwPMh37/HP7Ua/t137nzMqk0VXeP1nikNHuBWjj1FuvlciqVSiQStBgKVfhKpRIILL/zI8Hf/O3Q3d8tgkpH5HHx97FHtj9EQZkDqXrIf/Hh937wQ51OB4IZdJvuhs92LdX2m1sz3K2TQMznXKUjm12JRCIkSdLbKdvrsyuvOZUOTqWDTZWOo7Lbl8vltFqtTC6jFapgvqLk18+c7tVqtbAt63A4TvW+NTo+RkPD7YMSFhdwuSsUCmVSKfCCJEme6n1LIBDAtq9Cobh8RQG+muh5cntWrV93BPaVSiWXyyUUCudtNngr+AWcJxKJAoHlRCJhsVhGx8cUCkWNEWy2mFEW1MC8n9frHRgcUKvVYJINXN0tLfkVCgXDH/luq0Xr9bJLTI7ta43to+Q43W63UqncUIkNBoPpdBq+AdY7oJG+o70Ai1C/pVJpYYHilWm7fTvithqwif+YKRKJxPglsUAg8Np+XXiQQmxf3WJfTVEDqXRI/tlo+0P0jx9/zAwBIy/b2L6U/z5Ycp758FbfufNarZaGa8yHt3Vex3koDcC+TCaj1WpPnTn/P96XeQJ/hK3eyONifPVpfPUpXAZTeVDvHR0fIwiCzoE1wEdn2Op/mPieW9gHIwjMLq6XywdfBlqtdxbicbCPg31swr4j0uSl9OgxDJNIJEw8VywULBYLWNdPpVKBwLJarRaJRCbTTHMbq9QsCtBoeGiops32FCyYgjYhSAoqFAqhULjo89G6EAcaih2BfclkcmrqhlAodLvdAPjAGYDL5RKJROAd1Wg0isVimVwWCCzDerb75JVOp6embgyPjBiNRsY2+dNEIqHRaPh8PqIMd8/nQLVVS7yF7ePs9jVl+yi87nK5RsfHRsfHcByft9kSiQTqDwdviOY5UNAfNH9KpdLaWnFhgbLbd2DYt/OB1IjNZDKqCRWfzwetjlyYRM45AM8xCb+/+Mu/Gr8kBgMur7zy1bPD/+i1/Rp0eIHqQ156U/77hQepuO/e9ctX+Hy+yTTD6PY7S7KfEJRhMBiUSCRgSua3oQhCfnAS+lPdP9upM+fdbjfYPqTbcT/PPXgaGOPPLeyDHRUwkrC2Vuz0jHfw9mLkwME+DvaxCfuOhO0rFgpOp1MoFIIRU9S9SZJUKBQ8Hu+O4bbj7oJCoQDj8+l0evcJMxqN9V/oh63hYqGwsXu5IdUzMDgwOzcLglJTUzf6L/Tr9XomykTPbfeEfdhXqVQWfb7R8TGxWEz7bqdWRyBFz5zuxXHc6/WKxeINcxharbbGWwLV15A8AIqlGgwGBQKBSCRCso3wqtnsilarff2NN61W61ZPye1WRavxObZvT7YPujjAvuGhIR6PJ5NKxWLx1NSNVCoFnF+T6q5T5VtF69oNpIhGQ+2Ax3k8HolEsm2INinA7sFMLrneM9fLZbfbLRQKxy9RFpuf3PsM+eRFNN5jfwzMNZ853Xvs+ImTPT1nTveOyH6+C+Z7tBwrPEh5bb/m8XhKpTIcDtMTR8NhsnuxmXeZyevnpVIpHA7L5fLv95zsffui/Bcf3rL8yrTgNi24//n2v1waf+97P/ihQCCwWq2lJ3nAHHQDMXM+vHMAOs857CNJ0mq1gg3Fw6v6gz6Jg30c7GMT9h0620fNmbBD8jafr9frGTI/lE2lt/n84aGhhYUFjUZz7PgJkUjk8Xj2WvKq0Wjs+z0nBwYHzGbzHcPtO4bboMYBym351bzJNHO27xwY7T/oEOyEl471ctnpdPL5fLFYHIlEYIKuVqvgupTP54NyisViEQgEQqFwxw4vc1mCF6RCFn2+Y8dPgFtVev2j7gLs+87r35232Q4T9r3N53N2+3bR5K1WKezldDpHx8dUEyqPxyOTSuVyeSCwjHzL0tChjupyuVw4HF5a8m+IRxzkb2nJTxDE8NCQUCi0WCwEQeA4LhAI2vLJ29rQqvfVdDq9oXV15nTvzIe3Pl+m1HK3EX6fLz/Ihcm0P2L/aG7mw1szH97awHNMBV7Y4WWmKjxI3f/Ed/3ylTOnex0Ox4F3ePd4ofVyORqNTU/fHP2fkr/52yHm38WRv9doNE6ns9Nl2KOIjNsc7IMpEcMwHMc5Ay7s6Ad0TJMDFQ+pdNz93SLnnA1Vy/5PjkCTl5rzU6kUmHE1GAxM2DdvswGxlUqlCIKQy+U8Hm9q6kZt5twkL9A2C0xpxULBbre//sabG/GDwaDb7V70+WqsXn19WVsrWiyWU71vicXiAyr2wRM7wvY5nc7+C/2j42MM2Pc0EomIxWIMw2oikJRZFpFI9J3Xv0ur8dbfkIYCjDm+BiAWFhZef+NNvV6/5QZNIm6FfduisHzJsX17sn1ACFFubR0OuVw+b7OtrRVBKZ0gCBDKBOwO4mXIOezU1A2FQiGXy5X7PRQKhWpCpVQqweSeSCRSKBSgAK7T6Vp2ztZenymVSl7vby/y3xkb/jHh+A1YckEYDnZvwYZf4UEK/e002oKSPLn3WeFB6tY1SgsMw7BDU9XMr+YDgWWtVisUCk/1vnW275xMKl1YWDhkG0l71j4H+5ABl41NpWAwuGeNdU0Eju2j2D5Ok3f/UI+Jzo9Ikxdg35nTvUajEcG+tbXiHcPt/gv9TqcTVOgcDsex4yc2HAcgwT6asUJohxqXiURCqVSe7TsHZurpOJtboKVSyWq1njndKxKJuhf2LS35MQwbHR+jN3kp4sdkmgHH9humdNfWii6Xi1+zKwuWe8GGM8zm22aoSqUCehtnTvfOzs3W7m7WGtrktdvtNNu3LQOWLznZvhZhX341b7fbZXLZ7NxsLpfT6XQyucztdgOGgM5dLBQSiUQmkwGBBqVSKaod4toBogJw3sovM/53Xv/ua99+rf9Cv1gsHh4aUiqV4LEDICm7faJSqWRzTzasUZ7s6QGVXqTbAUgOfOyCDB+Y7kPyfMifB7Lb8uTeZ38Of2r/aI7H45053bvo83VebL++YV2tUm51stkVs9ksEonkcnk4HGaQfMw9bnarsL3cYKJ4jjd5qeoCc82qCRUH+9jBEEw80Zlzju1juaWOgO2jhl4mk8FxHITtANJVKpVwOAzunYB9j0QiarX6ZE8PjuPIdDPsdG3DOQRBwGZUILAMy+JW8ouSkgdNEbYoAPbZvmr1aSqV0ul0PB7PcXcBVqxEIiGRSPh8PhhnXvT5kPlc8L1htVo3jKshUMxcBIqFgtlsFgqFYrHY4/EAP4QipNNpHMcHBgc8Hk8tcBMRojjsnnBsX4uwD8C9akI1b7PlV/MGg0Eml+n1esfdBdDtKJVKgcDyBjM3b7OBw5VEIvEwHm/3jyTJnUksFovZbA4ElqPR2MN4PJVK0eYD2e0Om7mlkknVhOpkT8/771LGXAD5gb81gH1pfwShPTgBUIiQH2wQ58LkzIe3LvD6BAKB0WgEozPbZorNp3bgDIxdf+PrXwPQ2YEnHDTL5x72UbNcMBhUq9VGo5EVAuCgTdJqeo7t42T7nmnZPqqj51fzTqfzbT6f1uSlkJnVauXxeDiOkySZSCRUE6pjx0+A70QwPww+4msDBX0/U3a15m22kz09RqMR7LNsJSaokZ5fzd8x3B4eGTGZZrpXpWNtrehwOPh8vtVqBe8lbrdbIpEMj4xMTd0wm816vV6tVlutVtBwSafT09M3TaaZnQaowKMXjuMikUgmlc7bbJlMhkF+PA0ElhUKBRjCbnXmOVi8LWwfZ7evqSYvxRs9jMc9Hk8kEllbKwYCyybTjEajuXxFAVu9uVzO4/GIxWK9Xv8wHmcX2YC5o61D6GANv1vqp+u1z5FFn08mlZ7s6fngZ+8Rjt/Afu7nyw+QkgecIJwHOh8AB2FjF3i+i/x3Tvb0zHx4i7J6U8v5sF6E2llIpVI8Hu+FF1745rdetVgs2yRRdquGw7r33MM+qqLT6fSizxcOh3dOm4fVDvt4Dgf7ONjHJuw7Ek1egCUikUgsFoPQ2sN4fHr65vDQkGpCZTLNGI1GjUaj1WpDoVCpVKpUKibTDI/H83q9jDFDYb5oNKbX64VCoV6vj0Zj9DyP2CvqJJfLwT4Y2j5lZLKfU9bZvjqMJUlSqVRuQNRkMpnL5RZ9PpfLtbCwYLfbKWLP4QAnAfCSuVxuackfCoVoPga98yZ0AD9aDFHHepzZuVlQGUZb7PuphnbScGxfa2wf1ROQaTE4J0nSaDTK5XKDweBwOILBYCgU0mq1ZrM5Go2xBS9oPhi6Imxfbvaodpq69bjUU5CEolwuP9nTc5H/zgZpB7Rf4UHqyb3PwJgzaG8A2wf0HqBDsMz8wc/eO3O6F3g+Wu2/9WKwEBM42u+8/t0XXnjhKy+/LJNKwVg6C1mzl8VzD/ugP9d7Hb1UsFe/HcyJg30c7GMT9h26Jm9d5C6/moe1jCCI/Go+mUx6vV6Hw7GhnDFvs83bbKFQCKTYq9WnsNkFFosZo5WCfeDRwOVyeb1epl8D5hAkSVImlSqVStrsCfPmfs7Zh321GZl6T4Ig9Hq90+nM5XJgPg12uOG3ZnGUKjHEL5VKtVWfWqrRLXghsNW8tlZcWysyolFmeB/G4xaLxWAwbNWU2U9FtJ5mC9vH2e1rwvbBwgy1Ck0MIhEul0uj0UxN3bhjuI0cDloslkZeC+u4rTZO2jgH+EXWDlpsoLOwjwE0qf6cSianp28ODA6cOd07fkl86xpOOH5z/xNf2h8BnIc884Jt5z9+/LH9o7nrl6+MDP7ozOleiURCOH6TzT2hR0frfZOFmBu74RKJ5MsvvfRC7Th2/ITb7WZMVSw84uBZQO96jmX7qOFQLBQYjt4PXqmHkwMH+zjYxybsOwq2j1pNALFZrdY7htvAWAFEQSAHsRiU5Hd2JRBYXvT5wCALrGgI+QCwWVsr0hAIkCWMR8oA7bzNBm7QGWLWBxqtrMM+VBrK0rTb7XY4HDW2gPV1l0KWTqcTVARoZICe3sETju1rge3bVv910AZdQqPRWK3WaDSWy+Uymczs3Kzdbmd1k7cuAwtiT0wAuq1Y7F3WXxCeValUMpmM1/tbDMM2xOPOnO59/13x9ctXZj68RTh+88ePP77/ie/+J74/fvyx1/brmQ9vffCz9wDw8fl82Bdga3jv4wU3xCsHBge+/NJLL774pRdf/NJr337NarXCDLWP3DqUBOr5+YZ9lGV/p9O5tORv3+Vgh5qllWw52EfBPk6Tlx3djiPS5K11dIqrexiPb+jYLvp8u9qIoGKurRVp8q+VYVKPA48wm82LPh+9F8oEhW1kxYzaQdhXqVTyq/l0Op3NrnRg6aWqEslvHYq/r3q9IbaPs9vX3G4fs49R3RRww3q5nE6nA4FlkiRrTmaqa2vFRCKRTCZpWm5bwn1eglLC6PiYy+WqjZZ95tNysk3YRzN/1Ks9jMcJgpievjl+Sczn8y/y37nA6+PxeBf57/B4vL5z5+FPIBBIJJIN4Y/g4gPahV2dBW+5AKxFzOVy8zabWCw+2dMDTuFA176rCL/nHvZRzU0QhEgkumO4fWj2fdjoZBzs49i+Z53tq48DcPieyWTS6fSuMmawOiC4hi73Hk8AckDfkcUZuIOwjy5lJ4Sr6qssTfLBI/auRFZicGzfvtk+wH9opx4QEiBCurew0kSU6pNSqRweGrJYLLsOSHYex+yHCPYBNEFI1+PxzNts09M38V9c09SOW9dwo9Fot9u93t9GIpHari5FitMVwlbZ2s3nKRhwwTBMNaEKhUL01gPrhH27BduMz8G+arXqcDjAT0Aikdismm4/42AfB/vYhH1HIduHxlgdwLU5Y7cxkYLAElpf6Ae3kQOdZMv/zsG+LY/5Il0gtu+frv8yysn2NZbt29bgdejPGB7bgPu2+Ae8pDZ5cRwHf4hswD4YZlSZ18tlcJKYX83nV/PFQoHWK99kNOkQAHCb71IqlTKZDBipIUkylUoxaX+AMowqosRHioVCNruyVXR150dOvTJpxMms282nt35WKpU2LGxLJBKNRkMzSTsf2np+7MeEunrON3nnbTYejzc7N8tt8rKzY9gZW33MsnF2+5i1wcL5EdntY8xoB0VgjKxaPz3oQznY13pd12NybN9B2D704QL4holy2m6J5glKpZLD4Zievul0OtmDfdS+LUmSDofDSh8ejwcsCjHYys0xSeOwzYIighOAC1wCtmOQahTGyuVygcDyvM1mNBo3FvhgMJjL5eg4kGEdhuZyudo7Atqr3zpIxYJReAzD1Go1bROOmfnm6xzVGdTe8w37njocjtHxMYIgDkWMga2m5tg+ju37wrB9bA2Kw86Hg31t1/gWto+z29c+27cDkWzipLYbo3ECCqOk02mSJJGoXOOIbYam02mTaWZ4aGh0fEwul4P16WQyiWg5kLoFmQ+gA4EdBGQGBpyQJwyAccVCYdHns1gsDO19SnsL/NqBP0OxWLxhFMbr9QLtl1/NZzKZ/Gqe0hpOpRYWFgiCAONt+dU8gx1s8/Xo6GtrRavVCpu8CPYB0qKjHPH/5x72UXJCD+Nxt9t9JFZ+DtD8HOzjYB+bsO8oNHkP0P27IykH+9puB47tY4XtY9R7J2AflX0TwQjGk9s4paBkNBrbIMAGBgdMpplFn48gCCDhksmk2+2GQFAzWlryO+4ueL3eRCIRCCxbrVa73R4ILGezK2trxWg0BvrL4F/k6uTk2b5zs3OzoMBbLBRcLpdIJJJIJGaz2e12g4GoO4bb6drhcrlMphmPx5NKpVwul1AoVCqV4XA4k8m43e7ZudlFny+/mq9Rg228IYrKsX2oKrr5BLr3jo+obi4yhVZrDqy9fefOXxobC8QTS58mWNjs6/z+LCuFRJu8nCYvK/XpP0pN3i4faLsVj4N9u9VOw3tb2D5Otq8ltq9hRXYqEPFSyWQyFArRm7AHeRwAU4pfuTo5KRAIDAaD2+0OBJaTySS4IsQwTCQSKRQKi8Vit9sxDBsYHMBx3GAwKJVKDMPAp/Ciz7fo81HuiaVShUIxNXXDZJoRi8Xf/NarU1M3wApAMpnEcVwgEMzOzYItqGQyuejzLS35A4Flg8GgVqsVCoVSqdTr9Tqd7szpXgzDHA7H7NysQqGQy+WqCZXVaq2Zjwf1sfaAdSO27yC1x37a55vto75AioVCfjVfU4dvr3HZb4z2cuRgH8f2cWxfe2OG9dgc7Gu7Sjm2r322r+1KPliCOkpzu91ardZxd2FXo0ptPIokSY1Gc7KnZ3hkRCKRTE/f9Hg8LpdLLBZLJJKpqRsKhUIikSgUiv4L/SKRyGSagZA7httKpZLH45lMMzqdTigUgtNuoVAIEfrOnbdarcD2RSIRpVI5Oj626POVSqVQKDQ7N4v4Rb1er9Fo5HL58MiISCTSarVisVir1VosFkCWG341hoeGNkwGLvp8tHBhe8iAg31t9ImjiFosFDwej91uT6VS6CPnKAqyj2dysI+DfWzCviPV5N1H/++KJBzsa7sZENvH2e1r2W5f25V84ASUVsS8zQYAqObr8MBZVp8C7Dvbd04mlep0ug0X2l6vd3r65uj4GChUUk8cGREKhRKJxGq1hkIhmVQKNN6GvU2JRKLT6cRicd+581cnJ2G/WC6Xq9VqiUQSDAahiLCVLBKJPB5PfjXv8XgUCgWPx4M8rVYr4EuhUDgw5PjQrgAAGxZJREFUODA9fVOr1VqtVrPZfKr3LQzDNBqNWCweHhmhbRaCNkYbyI+DfQfvK53M4WkikQB2ORKJcLCPne3CQ9kmRpu8d3+3qLz+yws//rHL5WJog7Xda5I1h0DCn1z6+fT/CZCJIJl8hmqDhaIevSZv203WDQk42Nd2K3BsX5ezfWghjEZjWq2279z5mgPsOgXYdntvJqBk+65OToL6ZDa7kl/Np1Ipg8EgFostFgt4HBkeGhoeGlIoFHa7PRKJyOVyHMfT6TRBEKPjYzqdbnR8TCgUgrSfTqcD9k4sFgM5V61S+hwGg4HH4+l0umQyWSwUwuEwRe8NDUkkEuD27hhuy6TSgcEBnU6nmlCZawdYV3bcXbhjuI3jeDAYpE3JtIH5qlVKYXmHSsdmLXTD2fO6yUsh+Pxq3nF3gcfjYRiWyWS6oTnaKQPH9nFsH8f2tTNiOhCXg31tVypi+zi7fd3J9tGwj5J/8ng8fD5/A8TsMHHSdruDSodGo5FIJKFQCNIXCwWv1zs6Prbhx1ar1V6+QonWKRSKy1cUs3OzoPkrk0q1Wq1MKuXxeGazWa/Xj46PKZXKq5OTSqVydm52auoGj8czGAywiq+Xy0tLfoVCIRKJVBMqo9EIO7kKhUI1oRIIBDKpVK1Wi0QiYPvAS/cdw20Mw8DYnmpCpdPpGN41ONi3j+butiTA2lbT6fTVycn+C/20L/JuK+fu5eFgHwf72IR9nCbv7uOt4V0O9jWslt0CObZvV7YPbSkyT5j1icKZgayfb66RJtMMbd/kgE+hjMI4HA6z2Vzzi1B/kWx2xWq1KpVK2MP1eDwEQczbbKBO6/V61Wo1iOKdOd3rcDjC4bDZbAYMB268CYIAeEd7r6YYnVAopNPpJBIJWIrRarWgDqLX67VarU6nw3H8juG21+s1mWampm44HA6Xy6XVahUKBY7jTqezBiLBzDIH+w7Y9EefvPYxQ7VjOp3W6/XT0zdpWH/0ZWunBBzso2Afp8nLwg7vA5LT5G1n6G3G5WDfZl20eLaF7ePs9jXW5K2jDVqlYNMdIaxeNCHXYpXvIxoCOtQyA1aO6YeiW+1mS71UqVRaWyvSm6f19wKbLIs+XyqVWi+XwfF2qVRKp9N2u12v1xuNRrVaPTwyQhBEsVDIZDKA4QCZra0V0+n0hsAWg5KkCplfzYNX30gkAkb+KpVKNrtCEEQoFEqn06Xakc2uJBKJTCaztlaMRCIEQTyMxxmvXEfArb/tM7fJOzs3+wxud7beIBCT6n6VSqVYKLRmkLKVfo7iME/QhxkKbLeou8TnYB/H9nFs3y4D5DBucbCv7Vrm2L5d2T6oT2rlAIQHmCaZTGYyGdreRNtApO1G2kxALV3r5TIynnwQAerNXLefURvK8IIMcElJ6TmdTtWECsMw2Op9GI+DubVsdoW2LENVFBh8Bkt7UG9gdxCyBcvM8Mz1cjmbXaE9dlBhkBZsQSNLzuANhYbd7a3fHOzb3rxdcU31k2KhAH+ModSwcEzo1rT1oaeBSxgwRZTL5SDn9UoFulDD3A8QyME+DvaxCfs4Td59DEYO9rVdaVvYPs5uXxO2D1VrNBq7Y7itVquNRmNNo7YOB1GEjp4A7slkMgRBeDwesJDSgScygWz9HKhBcOZmMs3Y7fZoNAZrKo3GKLIQgbxaqbas1ltvgYdfWMJRNKZZPsgKvdzT9dpj9rF4P1uwr/9C//PB9lWLhUIkEolGYy34G9zWGVCv2HICHYzSEXE4NBqNVqt1uVzpdBp1xVqELUkOfMHBPg72sQn7ONm+fQxJDva1XWkc29ci21cqlaLR2PT0TYrrkstkUilDtaLtat9fAgBYqVQKx3HQlt237wq6AAhybZIosHwyf2mw9RSouPxqvlgo0FvDVA408oPc6ugNAinyr8a1QIbMyOgRKMKOONuBIB2BLn4L/58t2DcwODBvs2WzKy282bMdZWnJDzpAjJfd7ITb3m1trRgOh4PBYHPvbVQnzGQyG4Z+QIRULpdrNJqlJT+zo27L9sCXHOzjYB+bsI9j+/YxJDnY13alIbaPs9vXXJOXWo1yuZzZbB4dH9Pr9cFgcGGBclaWy+VqQARVOxNFoTWsjooQDNr3CUja5XI5q9UKpu8WfT6E/PadbbsJmVuu7aY95PjVahU5Z1NNqGifvKi9uuIEulCpVNqwUwP60alUCvbxv6i/kUhEoVCcOd1rMs2A8aD8ah58PW975VwuVywUEomEQqEAW0IbnT8YDEIVoc4PUgSLPh9oIxEEsbTkn7fZwuEwHaclyrDNDsHBPg72sQn7OLavzQFIRedgX9uVxrF9u7J9mzAum13R6XQYhnk8nlKpBO6kgEgAKFMDQ5RoGuMSkB/Cf223ztYEm7xaOp3eUIY9c7p3evomTZaw9ZStz3zmr6iFed5mwzCsW2FfHY6srRVxHD/Z06NQKMADsusLdDidTngb0A1XKpXfef274OiFIAi45Xa7G76x1+udnZs92dPz4otf+vJLL33zW6+Cq0Cv18t07FGpVBwOB4ZhOI6DFjnQ0jAwacaa3Q7NwT4K9nGavJwmL7vjqq3cONjXVnVRkRHbx9nt28n2VegDKspkmhkdHwOpPmvtIEmyWChArPVyOZPJRKOxGg6jIBqQc534LZVK4XDYYDDY7XbQpejEU74YeRYLBYB9SqWSJQcnbY+y3RPAzvV6uWy328Vi8dt8vlAoHB4aEn6xDjD9PTwyMjw0dLKn57Vvv9Z37jwVWPMEs8u7ikQigUDwyitffYE+APzJpFKCIGpkXv37CrF9gcAyeHz2eDxoPG4l5ndvkxbvcrCPY/s4tq/FwdKpaBzsa7tmObZvT7YPVuVSqRSJRKambkgkEqVSCV7IwLdsNrtSqVQexuMWi0Wj0YRCoUqlAmZQ3G73vM02b7PZ7faD/9prB+SzsLAATszmbTan0+l2ux0OB0Ro61koSVup2n2X3Z/S+t12C+moHXK5nM/nM9i+LmRGqe+EVCpFEITJNPMF+zMajSbTjMVigR5rNBoNBoPJNAPemeHuLq9sNptxHD92/MSLL37pKy+/fOz4ieGhIblcPm+zJRIJGJ4gMwrK5uBIWqlUIq+DdLS2p8e9EnCwj4N9bMI+TrZvrxHX4D4H+xpUyu5BW9g+zm5fA03ezX3eavVpKBTCcVyhUJhMM+BSTK/XRyKR/Gp+acmv1WqHh4YIggArEvM2m0wuGx4aEnfgGB0fk0mlMqlULBYLBAI+nw9uLUbHxzrwtGc1S6iNM6d7eTzeHcPtVCpVGw7QpruPjKO9u6XX0RuUz2og0GwwKGrq59tg9+7vRTVEJpORyWV9585jGGaxWB7G4wybL3WqD56C7I1rtVqTaQaczdCkIOttysE+DvaxCfs42b59DFEO9rVdaRzbtyvbV7czAtu41erTtbViJpNJpVLZ7IrL5ZLL5Vqt1mKxEAQRDofdbrdarQY1C3B0NjV1QzWhujo52Yk/be24OjnJ4/FeeeWrZ/vOgc/cTjzrWc8TtubX1oog+0/Le7U9XjqdAHoa6m9AZX0BflOpFIAwr9e71Y43iDY2/QVh2bW1YigUCgSWk8kkbeWRAotQM7VGqV8CuEylUul0miRJo9GoVCqZmk+stiAH+zjYxybs49i+fQxPDva1XWlb2D7Obl8Dto9pQ2RL9S4t+fHaMT1902q1PozHw+EwuB0D1xe5XC6VSiU6eSSTyUQi4Xa7xWLxqd631Gp1OBzu5AOfybzBvDYDImxpx+67qCt5dF/BWikRYvLqHN56uRyNxqambvSdOw/SeDRR10pum3EYMnybgTvO0NOpO5lMxm634zgeCCzT+rw7UhwogIN9HOxjE/ZxbN8+hiMH+9quNI7t253ta1ahlUolHA7fMdy+Y7jtdrsfxuPZ7EokEjEYDKFQqLUlqlnebYeXSiWv1zs6PiYSiZxOJ70n2HY+XAKuBg5eA4iqrGVFOXfBcfxs3zmhUOhyucCD36GwrU+z2RWv16vT6RZ9vhrRuwUUHvxNq1UO9lGwj9Pk5TR52RhN+8yDg31tVxxi+zi7fTs1eZvUZp3GyGQyoVAoHA6DqmCpVAJNXnpha5K6I8FP86v5RZ/PbDbDfhZtohYeBgXuyIO5TLka2FoDWzrbermcTqfR9m4jwb6tqVm7oopRKpVSqdSiz5dIJDrzJcbBPo7t49g+1gbt/jLiYF/b9caxfe2zfZSjMJArAhMn9O4htTe3lepouzn2m4Ba5JjebEmSnJ2bnbfZwG3ufrPl0nE1sI8aeJpOpx0Ox9KSP5fLgRtrhg9rkJrYR7ZtJEFDEsYF47KNTFqIysE+DvaxCfs42b4WBt32KBzs214je14jto+z29c629cI2yHpctY3kvZsQ2odrS1smzGXlvzDIyNv8/k4jkejsZ0sC70QNpRcRIQNnDDfqB7CSI4eupmKvkuFMOqqYW4oOZygOPW0sGFNZ8KMsy3hlktmAXbsJ8LrwIOYqXaGozj1W3S2zFTbzlE3QI2yWXv0W6B33J6W3p1nvjuzgTazolOiEqLHwZ1tj9iMVnsFOjX1H+W5eUK/JrNT1e/St5gulTczWS+Xs9mVUChkMBj6L/RPTd1IJpM7nsh8eqfPUT1QJx0oCQf7ONjHJuzjZPv2MSNwsK/tSuPYvvbZPrTEopUSVj60xrTdCmwk2FKYbHbF4XBIJBIej4dhGEEQ4PAe/IusrRV3LIGbyemlfRMrMMDBpmrztsAdqZgAiHo/OgJ6V7QSb3k0AxuhWmUm2ZZP00ICI4tS0oiKEUAhns1H0xFQyP/f3tW2tnGl0T+1H7rLEpJ8SPbT5qVNa5Z11y7GqStWbJyarZY2S2i9bhLH3jQKbNaRIxIGxCZGyAw4QhFGDGKoFiwsRwjVq8TKIFTBlEGaypZGlrUZPdHNyLWd3LHyOkcIZ3LnPnfuc+aZO0fnvm07yyrDMrCUrjJ/4ab1LB0/VYu7T1iLNUu2lMNOWQ/MDLv42JWtcxVyZxv1YTk7udr/WkpmGaxoPC2KKlmv12iDZppCEQwG+/v7jx0/4fF4EokELWbeVfor/c9TGDtgMnd6VQnQPtC+XtI+qH02nkzQPm7QutQ+rNu380zeHVG1vgifvafbL5gd87/sxO2vNF3X4/G41+u9PDWVSi1X16ubjcbKyoN7CwvxeFxRlOp6tfM6NLmUYRibjQb9JS+IgVGiJb1NODo5t3Vzs8z1eo2ZmDSinZ8l0kAruvov9wIhBrbNpEPRnu19YrQ/HRfMdEphBVI5dHViJ1QluhOsVt3lmFDsdmnKSYVYxop1VckyqvJpOquVtaqskpZyzJ39DMNgKNFdIHbFTpGh1bVt5bO71u2yGR7kmhUoK6rMr44L5o22otdJN6PdMIxKpawoSrz9KZVKNIxvbm7O4/FMTk7Kssy2x3jZob97+c8YaodJ757XzhnQPtC+XtI+qH02nkLQPm7QoPbZUvt2xJm9Y3Y8++oTTdpR29jQNI04n2EYwWDQ5XK53W6PxxMIBBRF2Ww0quvVbDYbDodD8yFRFGOxmKIozWaztrGxls9HIhFKj96PrOXzRBQKhUI0GhVFMTQfikajnX7kVrFYjMfjlB4Oh9PpNOk9mqbJshxsf0RRpFFfzWazul5NJBKU/97CgizL7QkxLZqhIooibe2QSCQovbaxkU6nWbokSdSN2Gw2M5kMc2FxcZE2ZthsNNby+ej9yFz7YxnsuFUsFskFURQjkUg2m6Wu8FKpJEkSVUkUxZWVB+10czUQ5kJoPrSUTOq63mqZVbW60Knqlq7rqdRyJBIJBoOh+ZAkScyF1dVVqmpoPhSLxYrFIjGq1dXVewsLofmQier9CHMhl3sYi8UIPXKB8pdKpXg8HpoPBYPBcDicyWRoYcJKpZxIJCidXGivmWK6sJRMkmvkgqZpdBdSqWVC9cnut7TXbau1VdvYoMCgS0uSREyuXq8tJZNer/fcV1+dHh6mhfFol2pFUQqFAsUbhUqH7L76+N/2Y2z776JeVAi0z6R9mMmLmby9eJpslgHaxw1cl9qHdfs41D5uqN8Ag610Oi0IwuWpKZfLNT09nU6nDcNQVTU0HxobG6OtYMfHx2VZpnFasViM0oeGhjwejyRJbXWq9WRFDI/HQ/nPnT8XjUaJ06RSy5OTk7Sf7Jmzo3fu3K1UysS9pqenBwYHhoaG3G63IAiqqtJ2ZF6v1+VynR4edrlcXq+3zSxbpVJJEASXy2VeYmTE6/XSdrq6rgeDQdq/9fTIyIWLF2htjnq9Jooic4F6GIn1SpLk8Xj6+/sHBgfcbrckSSRipVLLHo+Hqjo2NhaaDxGnSafTFy5eoI1iT4+MkAutViuXe/jPq6YLA4MDp4eHbwu3isWi1YWBwQFyQVGUVsuc1nBbuHXm7CiZTExMkGu0mJzb7ab08fFxNvn63sLCmbOj5B1zwTCMWCw2Pj5O+c+cHZUkiXhVKrV8eWpqaGhoYHCAtq8gJqooCm0YY1Z1ZEQQBF3Xm80m7S5Irg0MDvj9fuLxqqoGAoHTw8OUf3p6OpVabrXMBVAIVXJ5YmKCXKuuV8Ph8NjYmNvtHh8fDwaD9PuB5k+8AXH+yqoA2ge1D2rfK3vcdr4QaN/OuOyRCrWvd2rfHjC/KadqGxuqqhYKhXQ6nc1miQ3our6UTN65c9fnm/X7/aIo5nIPabeDTCZz585dv9/v880GAoF0Ok09j4qizM3N+XyzPt9sMBjMZrM0dnAtnxdF0d/+BAIBGlNI3X/hcHhm5gZdQpKkNkExicXi4uJt4ZbPNysIQiQSadPBVqVSjsfjdN3bwq3o/Qjtq0Y6E6VTVdfyeZK+lpLJQCAwM3PD7/eH5kO53EPqzcxms1TVmZkbgiBks1nqIVUUhVz2+WZpb2VS+2gSNLkgCEJnWKS5YW4kEpmZuUFfpt5VKuVIJOL3+6n86P0ISWiapsViMUEQCKXQfIhcqK5XiXz7fLPXr1+nhb6JiS4lkwSFzzc7NzdHLmw2GtlsVhRFyn9buEWqXrPZVBQlHA5T+YFAgK1Op6pqOBxm6MmyTJorCZmUPjNzo7OKXkvXdVmWqRyfbzZ6P8LkXkKVTomiSGR9s9EoFApLyWQmk1EURVVVeyswvylPhf16gPaB9vWS9mFsn41nEbSPGzSm9mHdvheeycsN8htgwEYisgNzpBd1wFF/bqVS1tqfSqVM3ZrUzUeJqqpqmtZZ89Z821UqZUrUNK0zqP9pOpmwzmUaOKjrOkvv7K9ljmaj61JR1nRrfjYMkaqqaRrlr1TKhmGQF9SdzapEXHCba1Qlyk/rLLIqsUuQayyduCDpWFQltf3pVNUcAMfSNU1j6dR7bq0qCaXbXCD0iIlW16vW/J2ZN+aWgNZLsCrV6zV21yyutQzD2IYelc+qRN4R6acxf7quk1/kQofGmf287BIk3FJRnb8stFkXKjtgp97hA9A+0L5e0j6M7bPRWID2cYMGtc9Ral93fLzIG/oZTbTYvoghZWfjHV/cxHKd/R7uWHlzyBdXwUQTuUx6lHm3+u9dPJ93e5eFs3siANoH2tdL2ge1b8/HbeeToH0747JHKlP7sG7fO6327RECOPVcBN4uIvV21fa54L/JGUD7QPt6Sfug9tl42kH7uEGD2udgtY87Wpxq8HYRqbertm91TIH2mbQPM3kxk/c1Psagfdzgd6l9WLfvHZ/Jyx0eMAACQGB3BED7oPZB7dv9+XglZ0D7uGGG2ge1jztoYAAEgICJAGgfaF8vaR/G9tloV0D7uEHrUvuwbh/UPu4IggEQcCwCoH2gfb2kfRjbZ6MpAe3jBg1qH9Q+7qCBARAAAiYCoH2gfb2kfVD7bLQroH3coDG1D+v2YSYvd/TAAAg4GgHQPtC+XtI+qH02mhPQPm7QoPZB7eMOGhgAASBgIgDaZ9I+zOTFTN7X2B6A9nGDz9Q+rNsHtY87emAABByNAGgf1D6ofa+5CQDt474BUPug9nEHDQyAABAwEQDtA+3rJe3D2D4b7QpoHzdoXWof1u3DTF7uCIIBEHAsAqB9oH29pH0Y22ejKQHt4wYNah/UPu6ggQEQAAImAqB9oH29pH1Q+2y0K6B93KB1qX1Ytw9qH3cEwQAIOBYB0D7Qvl7SPqh9NpoS0D5u0KD2Qe3jDhoYAAEgYCIA2mfSPszkxUze19gegPZxg8/UPqzbh5m83NEDAyDgaARA+6D2Qe17zU0AaB/3DdB1fXFxsa+vb+LqtdxP5RWl0JsfLo969zC85KJI7Zu4eg20jzt6YAAEHI3AVr1ek2X5+ImTn42Oph4XUo8d1H4uPXqczIP29fJNh7F9NpoT0D5u0Ij2fdihfZlCyVEt1/IjhWjfBe+/QPu4owcGQMDRCDylfcfe/4Bon6N+Nm+jfX8Y/FMsFmu1tmxHRLFY9Plmhz797Irv5opSSCtFZ2kQeQVj+2wED2gfN2i6rkej0Q/7+szlmn8qpws/mrQvrzjnmymUvs+sgvZxhw4MgIDTEbCofWf/mi78aNI+xzSeybxCah+N7ds/7SuVSjvQPsfguZIvgPbZaFFA+7hBY2rfFd/NqrH1uPKzA7/ZknrFd/PwkaOCIHAjCAMgAAQcisAzte/zL885reXMlcvk8n9/+N8V380/fvLJ4uLiPtW+mZkbn/7lz/8W/uM0MMnfqrG1lHv0xTffulyuewsL+wHTOU8kaB/3va6uV2VZPnrkyLH3P5i4eu3rqe/OX5qk798v/uOdPz5/afLrqe+++Obbjz7uP3zkaGg+xI0gDIAAEHAqApuNRiKROHDw0IGDh1hr6bT288zfPCf7+k6dOtXu5LUfCqqqBgKB4ydOfvRxv/VNdP7SpHNeRp9/ee53vz/pcrlisViz2bSPpmMsQfts3OotRVFcLtev3vv1gYOH3vvNb535NVvt8+dTqWUbCMIECAABByLQfitv5XIPz5wddWazafV6bGwsk8nsJwzq9drKygN6GVlLds4xvYIPHznq9XrX8vn9gOkcW9A+G/fa7KdYXV1NJBLxeFyWv2//faIAOuuzlEwWCoXqenUTP7BsBBFMgIATETCnLxiGkU/+sJRMyrLszMZTluVEIrGWz1fXq/vpl2y2mvV6LZd7mEgknPX6sXgbj8eXkslisWgYRhtM+1NkHPJEgvY55Ea/VDfxmL1UeFE4EAACQAAI7I0AvYa20M+7N0ytVgu077kQIQMQAAJAAAgAASAABN4FBP4PwjpLHG7LhTcAAAAASUVORK5CYII=)"
      ],
      "metadata": {
        "id": "6N4H_RYz5LZy"
      }
    },
    {
      "cell_type": "code",
      "source": [
        "# Compile the model\n",
        "model.compile(loss='categorical_crossentropy', optimizer='adam', metrics=['accuracy'])"
      ],
      "metadata": {
        "id": "L2BXzkOayq62"
      },
      "execution_count": 10,
      "outputs": []
    },
    {
      "cell_type": "code",
      "source": [
        "# train the model\n",
        "model.fit(X, y, epochs=200, verbose=2)"
      ],
      "metadata": {
        "id": "LkeXFCtHzpms",
        "colab": {
          "base_uri": "https://localhost:8080/"
        },
        "outputId": "31f5452d-737f-4e51-b8cf-42d246f02b7d"
      },
      "execution_count": 11,
      "outputs": [
        {
          "output_type": "stream",
          "name": "stdout",
          "text": [
            "Epoch 1/200\n",
            "1/1 - 3s - 3s/step - accuracy: 0.0000e+00 - loss: 1.7944\n",
            "Epoch 2/200\n",
            "1/1 - 0s - 35ms/step - accuracy: 0.0000e+00 - loss: 1.7926\n",
            "Epoch 3/200\n",
            "1/1 - 0s - 57ms/step - accuracy: 0.1667 - loss: 1.7909\n",
            "Epoch 4/200\n",
            "1/1 - 0s - 27ms/step - accuracy: 0.3333 - loss: 1.7892\n",
            "Epoch 5/200\n",
            "1/1 - 0s - 29ms/step - accuracy: 0.3333 - loss: 1.7874\n",
            "Epoch 6/200\n",
            "1/1 - 0s - 30ms/step - accuracy: 0.3333 - loss: 1.7857\n",
            "Epoch 7/200\n",
            "1/1 - 0s - 54ms/step - accuracy: 0.3333 - loss: 1.7840\n",
            "Epoch 8/200\n",
            "1/1 - 0s - 57ms/step - accuracy: 0.3333 - loss: 1.7822\n",
            "Epoch 9/200\n",
            "1/1 - 0s - 27ms/step - accuracy: 0.3333 - loss: 1.7805\n",
            "Epoch 10/200\n",
            "1/1 - 0s - 29ms/step - accuracy: 0.3333 - loss: 1.7787\n",
            "Epoch 11/200\n",
            "1/1 - 0s - 29ms/step - accuracy: 0.3333 - loss: 1.7770\n",
            "Epoch 12/200\n",
            "1/1 - 0s - 57ms/step - accuracy: 0.3333 - loss: 1.7752\n",
            "Epoch 13/200\n",
            "1/1 - 0s - 28ms/step - accuracy: 0.3333 - loss: 1.7733\n",
            "Epoch 14/200\n",
            "1/1 - 0s - 58ms/step - accuracy: 0.3333 - loss: 1.7715\n",
            "Epoch 15/200\n",
            "1/1 - 0s - 29ms/step - accuracy: 0.3333 - loss: 1.7696\n",
            "Epoch 16/200\n",
            "1/1 - 0s - 26ms/step - accuracy: 0.3333 - loss: 1.7677\n",
            "Epoch 17/200\n",
            "1/1 - 0s - 28ms/step - accuracy: 0.3333 - loss: 1.7658\n",
            "Epoch 18/200\n",
            "1/1 - 0s - 27ms/step - accuracy: 0.3333 - loss: 1.7638\n",
            "Epoch 19/200\n",
            "1/1 - 0s - 58ms/step - accuracy: 0.3333 - loss: 1.7618\n",
            "Epoch 20/200\n",
            "1/1 - 0s - 28ms/step - accuracy: 0.3333 - loss: 1.7597\n",
            "Epoch 21/200\n",
            "1/1 - 0s - 26ms/step - accuracy: 0.3333 - loss: 1.7576\n",
            "Epoch 22/200\n",
            "1/1 - 0s - 56ms/step - accuracy: 0.3333 - loss: 1.7554\n",
            "Epoch 23/200\n",
            "1/1 - 0s - 27ms/step - accuracy: 0.3333 - loss: 1.7531\n",
            "Epoch 24/200\n",
            "1/1 - 0s - 26ms/step - accuracy: 0.3333 - loss: 1.7508\n",
            "Epoch 25/200\n",
            "1/1 - 0s - 26ms/step - accuracy: 0.3333 - loss: 1.7485\n",
            "Epoch 26/200\n",
            "1/1 - 0s - 28ms/step - accuracy: 0.3333 - loss: 1.7460\n",
            "Epoch 27/200\n",
            "1/1 - 0s - 26ms/step - accuracy: 0.3333 - loss: 1.7435\n",
            "Epoch 28/200\n",
            "1/1 - 0s - 28ms/step - accuracy: 0.3333 - loss: 1.7409\n",
            "Epoch 29/200\n",
            "1/1 - 0s - 28ms/step - accuracy: 0.3333 - loss: 1.7382\n",
            "Epoch 30/200\n",
            "1/1 - 0s - 57ms/step - accuracy: 0.3333 - loss: 1.7354\n",
            "Epoch 31/200\n",
            "1/1 - 0s - 58ms/step - accuracy: 0.3333 - loss: 1.7325\n",
            "Epoch 32/200\n",
            "1/1 - 0s - 53ms/step - accuracy: 0.3333 - loss: 1.7296\n",
            "Epoch 33/200\n",
            "1/1 - 0s - 58ms/step - accuracy: 0.3333 - loss: 1.7265\n",
            "Epoch 34/200\n",
            "1/1 - 0s - 55ms/step - accuracy: 0.3333 - loss: 1.7233\n",
            "Epoch 35/200\n",
            "1/1 - 0s - 58ms/step - accuracy: 0.3333 - loss: 1.7200\n",
            "Epoch 36/200\n",
            "1/1 - 0s - 61ms/step - accuracy: 0.3333 - loss: 1.7166\n",
            "Epoch 37/200\n",
            "1/1 - 0s - 36ms/step - accuracy: 0.3333 - loss: 1.7130\n",
            "Epoch 38/200\n",
            "1/1 - 0s - 27ms/step - accuracy: 0.3333 - loss: 1.7093\n",
            "Epoch 39/200\n",
            "1/1 - 0s - 27ms/step - accuracy: 0.3333 - loss: 1.7055\n",
            "Epoch 40/200\n",
            "1/1 - 0s - 58ms/step - accuracy: 0.5000 - loss: 1.7016\n",
            "Epoch 41/200\n",
            "1/1 - 0s - 27ms/step - accuracy: 0.5000 - loss: 1.6974\n",
            "Epoch 42/200\n",
            "1/1 - 0s - 28ms/step - accuracy: 0.5000 - loss: 1.6932\n",
            "Epoch 43/200\n",
            "1/1 - 0s - 26ms/step - accuracy: 0.5000 - loss: 1.6888\n",
            "Epoch 44/200\n",
            "1/1 - 0s - 28ms/step - accuracy: 0.5000 - loss: 1.6842\n",
            "Epoch 45/200\n",
            "1/1 - 0s - 27ms/step - accuracy: 0.5000 - loss: 1.6794\n",
            "Epoch 46/200\n",
            "1/1 - 0s - 29ms/step - accuracy: 0.5000 - loss: 1.6744\n",
            "Epoch 47/200\n",
            "1/1 - 0s - 60ms/step - accuracy: 0.5000 - loss: 1.6693\n",
            "Epoch 48/200\n",
            "1/1 - 0s - 28ms/step - accuracy: 0.6667 - loss: 1.6640\n",
            "Epoch 49/200\n",
            "1/1 - 0s - 27ms/step - accuracy: 0.6667 - loss: 1.6584\n",
            "Epoch 50/200\n",
            "1/1 - 0s - 27ms/step - accuracy: 0.6667 - loss: 1.6527\n",
            "Epoch 51/200\n",
            "1/1 - 0s - 27ms/step - accuracy: 0.6667 - loss: 1.6467\n",
            "Epoch 52/200\n",
            "1/1 - 0s - 29ms/step - accuracy: 0.6667 - loss: 1.6405\n",
            "Epoch 53/200\n",
            "1/1 - 0s - 57ms/step - accuracy: 0.6667 - loss: 1.6341\n",
            "Epoch 54/200\n",
            "1/1 - 0s - 59ms/step - accuracy: 0.6667 - loss: 1.6275\n",
            "Epoch 55/200\n",
            "1/1 - 0s - 40ms/step - accuracy: 0.6667 - loss: 1.6206\n",
            "Epoch 56/200\n",
            "1/1 - 0s - 34ms/step - accuracy: 0.6667 - loss: 1.6134\n",
            "Epoch 57/200\n",
            "1/1 - 0s - 56ms/step - accuracy: 0.6667 - loss: 1.6060\n",
            "Epoch 58/200\n",
            "1/1 - 0s - 57ms/step - accuracy: 0.6667 - loss: 1.5983\n",
            "Epoch 59/200\n",
            "1/1 - 0s - 27ms/step - accuracy: 0.6667 - loss: 1.5904\n",
            "Epoch 60/200\n",
            "1/1 - 0s - 27ms/step - accuracy: 0.6667 - loss: 1.5821\n",
            "Epoch 61/200\n",
            "1/1 - 0s - 33ms/step - accuracy: 0.6667 - loss: 1.5736\n",
            "Epoch 62/200\n",
            "1/1 - 0s - 55ms/step - accuracy: 0.6667 - loss: 1.5648\n",
            "Epoch 63/200\n",
            "1/1 - 0s - 27ms/step - accuracy: 0.6667 - loss: 1.5557\n",
            "Epoch 64/200\n",
            "1/1 - 0s - 30ms/step - accuracy: 0.6667 - loss: 1.5463\n",
            "Epoch 65/200\n",
            "1/1 - 0s - 56ms/step - accuracy: 0.6667 - loss: 1.5366\n",
            "Epoch 66/200\n",
            "1/1 - 0s - 32ms/step - accuracy: 0.6667 - loss: 1.5266\n",
            "Epoch 67/200\n",
            "1/1 - 0s - 30ms/step - accuracy: 0.6667 - loss: 1.5163\n",
            "Epoch 68/200\n",
            "1/1 - 0s - 33ms/step - accuracy: 0.6667 - loss: 1.5057\n",
            "Epoch 69/200\n",
            "1/1 - 0s - 28ms/step - accuracy: 0.6667 - loss: 1.4948\n",
            "Epoch 70/200\n",
            "1/1 - 0s - 28ms/step - accuracy: 0.6667 - loss: 1.4836\n",
            "Epoch 71/200\n",
            "1/1 - 0s - 31ms/step - accuracy: 0.6667 - loss: 1.4721\n",
            "Epoch 72/200\n",
            "1/1 - 0s - 28ms/step - accuracy: 0.6667 - loss: 1.4602\n",
            "Epoch 73/200\n",
            "1/1 - 0s - 29ms/step - accuracy: 0.6667 - loss: 1.4481\n",
            "Epoch 74/200\n",
            "1/1 - 0s - 30ms/step - accuracy: 0.6667 - loss: 1.4357\n",
            "Epoch 75/200\n",
            "1/1 - 0s - 27ms/step - accuracy: 0.6667 - loss: 1.4230\n",
            "Epoch 76/200\n",
            "1/1 - 0s - 31ms/step - accuracy: 0.6667 - loss: 1.4101\n",
            "Epoch 77/200\n",
            "1/1 - 0s - 36ms/step - accuracy: 0.6667 - loss: 1.3969\n",
            "Epoch 78/200\n",
            "1/1 - 0s - 37ms/step - accuracy: 0.6667 - loss: 1.3834\n",
            "Epoch 79/200\n",
            "1/1 - 0s - 36ms/step - accuracy: 0.6667 - loss: 1.3697\n",
            "Epoch 80/200\n",
            "1/1 - 0s - 55ms/step - accuracy: 0.6667 - loss: 1.3558\n",
            "Epoch 81/200\n",
            "1/1 - 0s - 36ms/step - accuracy: 0.6667 - loss: 1.3416\n",
            "Epoch 82/200\n",
            "1/1 - 0s - 55ms/step - accuracy: 0.6667 - loss: 1.3273\n",
            "Epoch 83/200\n",
            "1/1 - 0s - 26ms/step - accuracy: 0.6667 - loss: 1.3128\n",
            "Epoch 84/200\n",
            "1/1 - 0s - 26ms/step - accuracy: 0.6667 - loss: 1.2981\n",
            "Epoch 85/200\n",
            "1/1 - 0s - 28ms/step - accuracy: 0.6667 - loss: 1.2834\n",
            "Epoch 86/200\n",
            "1/1 - 0s - 28ms/step - accuracy: 0.6667 - loss: 1.2685\n",
            "Epoch 87/200\n",
            "1/1 - 0s - 57ms/step - accuracy: 0.6667 - loss: 1.2535\n",
            "Epoch 88/200\n",
            "1/1 - 0s - 27ms/step - accuracy: 0.6667 - loss: 1.2385\n",
            "Epoch 89/200\n",
            "1/1 - 0s - 31ms/step - accuracy: 0.6667 - loss: 1.2234\n",
            "Epoch 90/200\n",
            "1/1 - 0s - 56ms/step - accuracy: 0.6667 - loss: 1.2083\n",
            "Epoch 91/200\n",
            "1/1 - 0s - 28ms/step - accuracy: 0.6667 - loss: 1.1932\n",
            "Epoch 92/200\n",
            "1/1 - 0s - 27ms/step - accuracy: 0.6667 - loss: 1.1782\n",
            "Epoch 93/200\n",
            "1/1 - 0s - 29ms/step - accuracy: 0.6667 - loss: 1.1633\n",
            "Epoch 94/200\n",
            "1/1 - 0s - 30ms/step - accuracy: 0.6667 - loss: 1.1484\n",
            "Epoch 95/200\n",
            "1/1 - 0s - 28ms/step - accuracy: 0.6667 - loss: 1.1336\n",
            "Epoch 96/200\n",
            "1/1 - 0s - 30ms/step - accuracy: 0.6667 - loss: 1.1190\n",
            "Epoch 97/200\n",
            "1/1 - 0s - 27ms/step - accuracy: 0.6667 - loss: 1.1045\n",
            "Epoch 98/200\n",
            "1/1 - 0s - 27ms/step - accuracy: 0.6667 - loss: 1.0902\n",
            "Epoch 99/200\n",
            "1/1 - 0s - 28ms/step - accuracy: 0.6667 - loss: 1.0761\n",
            "Epoch 100/200\n",
            "1/1 - 0s - 27ms/step - accuracy: 0.6667 - loss: 1.0622\n",
            "Epoch 101/200\n",
            "1/1 - 0s - 28ms/step - accuracy: 0.6667 - loss: 1.0484\n",
            "Epoch 102/200\n",
            "1/1 - 0s - 35ms/step - accuracy: 0.6667 - loss: 1.0350\n",
            "Epoch 103/200\n",
            "1/1 - 0s - 59ms/step - accuracy: 0.6667 - loss: 1.0217\n",
            "Epoch 104/200\n",
            "1/1 - 0s - 34ms/step - accuracy: 0.6667 - loss: 1.0087\n",
            "Epoch 105/200\n",
            "1/1 - 0s - 34ms/step - accuracy: 0.6667 - loss: 0.9959\n",
            "Epoch 106/200\n",
            "1/1 - 0s - 34ms/step - accuracy: 0.6667 - loss: 0.9834\n",
            "Epoch 107/200\n",
            "1/1 - 0s - 36ms/step - accuracy: 0.6667 - loss: 0.9711\n",
            "Epoch 108/200\n",
            "1/1 - 0s - 35ms/step - accuracy: 0.6667 - loss: 0.9591\n",
            "Epoch 109/200\n",
            "1/1 - 0s - 34ms/step - accuracy: 0.6667 - loss: 0.9473\n",
            "Epoch 110/200\n",
            "1/1 - 0s - 27ms/step - accuracy: 0.6667 - loss: 0.9358\n",
            "Epoch 111/200\n",
            "1/1 - 0s - 27ms/step - accuracy: 0.6667 - loss: 0.9245\n",
            "Epoch 112/200\n",
            "1/1 - 0s - 27ms/step - accuracy: 0.6667 - loss: 0.9134\n",
            "Epoch 113/200\n",
            "1/1 - 0s - 30ms/step - accuracy: 0.6667 - loss: 0.9026\n",
            "Epoch 114/200\n",
            "1/1 - 0s - 54ms/step - accuracy: 0.6667 - loss: 0.8919\n",
            "Epoch 115/200\n",
            "1/1 - 0s - 57ms/step - accuracy: 0.6667 - loss: 0.8815\n",
            "Epoch 116/200\n",
            "1/1 - 0s - 29ms/step - accuracy: 0.6667 - loss: 0.8713\n",
            "Epoch 117/200\n",
            "1/1 - 0s - 29ms/step - accuracy: 0.6667 - loss: 0.8613\n",
            "Epoch 118/200\n",
            "1/1 - 0s - 27ms/step - accuracy: 0.6667 - loss: 0.8516\n",
            "Epoch 119/200\n",
            "1/1 - 0s - 26ms/step - accuracy: 0.6667 - loss: 0.8420\n",
            "Epoch 120/200\n",
            "1/1 - 0s - 28ms/step - accuracy: 0.6667 - loss: 0.8326\n",
            "Epoch 121/200\n",
            "1/1 - 0s - 26ms/step - accuracy: 0.6667 - loss: 0.8233\n",
            "Epoch 122/200\n",
            "1/1 - 0s - 27ms/step - accuracy: 0.6667 - loss: 0.8143\n",
            "Epoch 123/200\n",
            "1/1 - 0s - 58ms/step - accuracy: 0.6667 - loss: 0.8055\n",
            "Epoch 124/200\n",
            "1/1 - 0s - 28ms/step - accuracy: 0.6667 - loss: 0.7968\n",
            "Epoch 125/200\n",
            "1/1 - 0s - 28ms/step - accuracy: 0.6667 - loss: 0.7883\n",
            "Epoch 126/200\n",
            "1/1 - 0s - 26ms/step - accuracy: 0.6667 - loss: 0.7800\n",
            "Epoch 127/200\n",
            "1/1 - 0s - 59ms/step - accuracy: 0.6667 - loss: 0.7718\n",
            "Epoch 128/200\n",
            "1/1 - 0s - 61ms/step - accuracy: 0.6667 - loss: 0.7638\n",
            "Epoch 129/200\n",
            "1/1 - 0s - 54ms/step - accuracy: 0.6667 - loss: 0.7560\n",
            "Epoch 130/200\n",
            "1/1 - 0s - 32ms/step - accuracy: 0.6667 - loss: 0.7484\n",
            "Epoch 131/200\n",
            "1/1 - 0s - 34ms/step - accuracy: 0.6667 - loss: 0.7409\n",
            "Epoch 132/200\n",
            "1/1 - 0s - 37ms/step - accuracy: 0.6667 - loss: 0.7336\n",
            "Epoch 133/200\n",
            "1/1 - 0s - 30ms/step - accuracy: 0.6667 - loss: 0.7264\n",
            "Epoch 134/200\n",
            "1/1 - 0s - 28ms/step - accuracy: 0.6667 - loss: 0.7195\n",
            "Epoch 135/200\n",
            "1/1 - 0s - 27ms/step - accuracy: 0.6667 - loss: 0.7127\n",
            "Epoch 136/200\n",
            "1/1 - 0s - 57ms/step - accuracy: 0.6667 - loss: 0.7061\n",
            "Epoch 137/200\n",
            "1/1 - 0s - 27ms/step - accuracy: 0.6667 - loss: 0.6996\n",
            "Epoch 138/200\n",
            "1/1 - 0s - 35ms/step - accuracy: 0.6667 - loss: 0.6933\n",
            "Epoch 139/200\n",
            "1/1 - 0s - 55ms/step - accuracy: 0.6667 - loss: 0.6872\n",
            "Epoch 140/200\n",
            "1/1 - 0s - 27ms/step - accuracy: 0.6667 - loss: 0.6812\n",
            "Epoch 141/200\n",
            "1/1 - 0s - 28ms/step - accuracy: 0.6667 - loss: 0.6754\n",
            "Epoch 142/200\n",
            "1/1 - 0s - 28ms/step - accuracy: 0.6667 - loss: 0.6698\n",
            "Epoch 143/200\n",
            "1/1 - 0s - 61ms/step - accuracy: 0.6667 - loss: 0.6643\n",
            "Epoch 144/200\n",
            "1/1 - 0s - 58ms/step - accuracy: 0.6667 - loss: 0.6590\n",
            "Epoch 145/200\n",
            "1/1 - 0s - 58ms/step - accuracy: 0.6667 - loss: 0.6539\n",
            "Epoch 146/200\n",
            "1/1 - 0s - 57ms/step - accuracy: 0.6667 - loss: 0.6489\n",
            "Epoch 147/200\n",
            "1/1 - 0s - 141ms/step - accuracy: 0.6667 - loss: 0.6440\n",
            "Epoch 148/200\n",
            "1/1 - 0s - 55ms/step - accuracy: 0.6667 - loss: 0.6393\n",
            "Epoch 149/200\n",
            "1/1 - 0s - 48ms/step - accuracy: 0.6667 - loss: 0.6348\n",
            "Epoch 150/200\n",
            "1/1 - 0s - 56ms/step - accuracy: 0.6667 - loss: 0.6304\n",
            "Epoch 151/200\n",
            "1/1 - 0s - 41ms/step - accuracy: 0.6667 - loss: 0.6261\n",
            "Epoch 152/200\n",
            "1/1 - 0s - 39ms/step - accuracy: 0.6667 - loss: 0.6219\n",
            "Epoch 153/200\n",
            "1/1 - 0s - 60ms/step - accuracy: 0.6667 - loss: 0.6179\n",
            "Epoch 154/200\n",
            "1/1 - 0s - 58ms/step - accuracy: 0.6667 - loss: 0.6140\n",
            "Epoch 155/200\n",
            "1/1 - 0s - 60ms/step - accuracy: 0.6667 - loss: 0.6103\n",
            "Epoch 156/200\n",
            "1/1 - 0s - 37ms/step - accuracy: 0.6667 - loss: 0.6066\n",
            "Epoch 157/200\n",
            "1/1 - 0s - 38ms/step - accuracy: 0.6667 - loss: 0.6031\n",
            "Epoch 158/200\n",
            "1/1 - 0s - 56ms/step - accuracy: 0.6667 - loss: 0.5997\n",
            "Epoch 159/200\n",
            "1/1 - 0s - 38ms/step - accuracy: 0.6667 - loss: 0.5964\n",
            "Epoch 160/200\n",
            "1/1 - 0s - 40ms/step - accuracy: 0.6667 - loss: 0.5932\n",
            "Epoch 161/200\n",
            "1/1 - 0s - 57ms/step - accuracy: 0.6667 - loss: 0.5901\n",
            "Epoch 162/200\n",
            "1/1 - 0s - 36ms/step - accuracy: 0.6667 - loss: 0.5871\n",
            "Epoch 163/200\n",
            "1/1 - 0s - 57ms/step - accuracy: 0.6667 - loss: 0.5842\n",
            "Epoch 164/200\n",
            "1/1 - 0s - 46ms/step - accuracy: 0.6667 - loss: 0.5814\n",
            "Epoch 165/200\n",
            "1/1 - 0s - 59ms/step - accuracy: 0.6667 - loss: 0.5787\n",
            "Epoch 166/200\n",
            "1/1 - 0s - 132ms/step - accuracy: 0.6667 - loss: 0.5761\n",
            "Epoch 167/200\n",
            "1/1 - 0s - 54ms/step - accuracy: 0.6667 - loss: 0.5735\n",
            "Epoch 168/200\n",
            "1/1 - 0s - 54ms/step - accuracy: 0.6667 - loss: 0.5710\n",
            "Epoch 169/200\n",
            "1/1 - 0s - 56ms/step - accuracy: 0.6667 - loss: 0.5686\n",
            "Epoch 170/200\n",
            "1/1 - 0s - 47ms/step - accuracy: 0.6667 - loss: 0.5663\n",
            "Epoch 171/200\n",
            "1/1 - 0s - 57ms/step - accuracy: 0.6667 - loss: 0.5640\n",
            "Epoch 172/200\n",
            "1/1 - 0s - 54ms/step - accuracy: 0.6667 - loss: 0.5618\n",
            "Epoch 173/200\n",
            "1/1 - 0s - 39ms/step - accuracy: 0.6667 - loss: 0.5597\n",
            "Epoch 174/200\n",
            "1/1 - 0s - 65ms/step - accuracy: 0.6667 - loss: 0.5577\n",
            "Epoch 175/200\n",
            "1/1 - 0s - 52ms/step - accuracy: 0.6667 - loss: 0.5557\n",
            "Epoch 176/200\n",
            "1/1 - 0s - 49ms/step - accuracy: 0.6667 - loss: 0.5537\n",
            "Epoch 177/200\n",
            "1/1 - 0s - 61ms/step - accuracy: 0.6667 - loss: 0.5518\n",
            "Epoch 178/200\n",
            "1/1 - 0s - 58ms/step - accuracy: 0.6667 - loss: 0.5500\n",
            "Epoch 179/200\n",
            "1/1 - 0s - 59ms/step - accuracy: 0.6667 - loss: 0.5482\n",
            "Epoch 180/200\n",
            "1/1 - 0s - 58ms/step - accuracy: 0.6667 - loss: 0.5465\n",
            "Epoch 181/200\n",
            "1/1 - 0s - 136ms/step - accuracy: 0.6667 - loss: 0.5448\n",
            "Epoch 182/200\n",
            "1/1 - 0s - 42ms/step - accuracy: 0.6667 - loss: 0.5432\n",
            "Epoch 183/200\n",
            "1/1 - 0s - 49ms/step - accuracy: 0.6667 - loss: 0.5416\n",
            "Epoch 184/200\n",
            "1/1 - 0s - 55ms/step - accuracy: 0.6667 - loss: 0.5401\n",
            "Epoch 185/200\n",
            "1/1 - 0s - 59ms/step - accuracy: 0.6667 - loss: 0.5386\n",
            "Epoch 186/200\n",
            "1/1 - 0s - 56ms/step - accuracy: 0.6667 - loss: 0.5372\n",
            "Epoch 187/200\n",
            "1/1 - 0s - 56ms/step - accuracy: 0.6667 - loss: 0.5357\n",
            "Epoch 188/200\n",
            "1/1 - 0s - 57ms/step - accuracy: 0.6667 - loss: 0.5344\n",
            "Epoch 189/200\n",
            "1/1 - 0s - 36ms/step - accuracy: 0.6667 - loss: 0.5330\n",
            "Epoch 190/200\n",
            "1/1 - 0s - 33ms/step - accuracy: 0.6667 - loss: 0.5317\n",
            "Epoch 191/200\n",
            "1/1 - 0s - 34ms/step - accuracy: 0.6667 - loss: 0.5304\n",
            "Epoch 192/200\n",
            "1/1 - 0s - 32ms/step - accuracy: 0.6667 - loss: 0.5292\n",
            "Epoch 193/200\n",
            "1/1 - 0s - 31ms/step - accuracy: 0.6667 - loss: 0.5280\n",
            "Epoch 194/200\n",
            "1/1 - 0s - 30ms/step - accuracy: 0.6667 - loss: 0.5268\n",
            "Epoch 195/200\n",
            "1/1 - 0s - 52ms/step - accuracy: 0.6667 - loss: 0.5257\n",
            "Epoch 196/200\n",
            "1/1 - 0s - 59ms/step - accuracy: 0.6667 - loss: 0.5246\n",
            "Epoch 197/200\n",
            "1/1 - 0s - 61ms/step - accuracy: 0.6667 - loss: 0.5235\n",
            "Epoch 198/200\n",
            "1/1 - 0s - 42ms/step - accuracy: 0.6667 - loss: 0.5224\n",
            "Epoch 199/200\n",
            "1/1 - 0s - 41ms/step - accuracy: 0.6667 - loss: 0.5214\n",
            "Epoch 200/200\n",
            "1/1 - 0s - 58ms/step - accuracy: 0.6667 - loss: 0.5204\n"
          ]
        },
        {
          "output_type": "execute_result",
          "data": {
            "text/plain": [
              "<keras.src.callbacks.history.History at 0x7eb151afdea0>"
            ]
          },
          "metadata": {},
          "execution_count": 11
        }
      ]
    },
    {
      "cell_type": "code",
      "source": [
        "# define the prediction function\n",
        "def predict_next_char(model, tokenizer, char):\n",
        "    encoded_char = tokenizer.texts_to_sequences([char])[0]\n",
        "    padded_char = pad_sequences([encoded_char], maxlen=max_sequence_len, padding='pre')\n",
        "    prediction = model.predict(padded_char)\n",
        "    predicted_index = prediction.argmax()\n",
        "    predicted_char = tokenizer.index_word[predicted_index]\n",
        "    return predicted_char"
      ],
      "metadata": {
        "id": "qG8XNosLyyRE"
      },
      "execution_count": 12,
      "outputs": []
    },
    {
      "cell_type": "code",
      "source": [
        "# testing\n",
        "test_chars = ['h', 'i', 'e', 'l', 'o']\n",
        "for char in test_chars:\n",
        "    next_char = predict_next_char(model, tokenizer, char)\n",
        "    print(f\"input char: {char}, predicted char: {next_char}\")\n"
      ],
      "metadata": {
        "colab": {
          "base_uri": "https://localhost:8080/"
        },
        "id": "53hpLQvwyC3Y",
        "outputId": "4ec859e3-b152-4c69-828a-fa678c75f7f8"
      },
      "execution_count": 13,
      "outputs": [
        {
          "output_type": "stream",
          "name": "stdout",
          "text": [
            "\u001b[1m1/1\u001b[0m \u001b[32m━━━━━━━━━━━━━━━━━━━━\u001b[0m\u001b[37m\u001b[0m \u001b[1m0s\u001b[0m 198ms/step\n",
            "input char: h, predicted char: i\n",
            "\u001b[1m1/1\u001b[0m \u001b[32m━━━━━━━━━━━━━━━━━━━━\u001b[0m\u001b[37m\u001b[0m \u001b[1m0s\u001b[0m 20ms/step\n",
            "input char: i, predicted char: h\n",
            "\u001b[1m1/1\u001b[0m \u001b[32m━━━━━━━━━━━━━━━━━━━━\u001b[0m\u001b[37m\u001b[0m \u001b[1m0s\u001b[0m 21ms/step\n",
            "input char: e, predicted char: l\n",
            "\u001b[1m1/1\u001b[0m \u001b[32m━━━━━━━━━━━━━━━━━━━━\u001b[0m\u001b[37m\u001b[0m \u001b[1m0s\u001b[0m 20ms/step\n",
            "input char: l, predicted char: l\n",
            "\u001b[1m1/1\u001b[0m \u001b[32m━━━━━━━━━━━━━━━━━━━━\u001b[0m\u001b[37m\u001b[0m \u001b[1m0s\u001b[0m 28ms/step\n",
            "input char: o, predicted char: h\n"
          ]
        }
      ]
    }
  ]
}